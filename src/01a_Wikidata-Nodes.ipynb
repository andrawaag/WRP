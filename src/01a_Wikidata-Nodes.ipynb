{
 "cells": [
  {
   "cell_type": "markdown",
   "id": "31aa6634",
   "metadata": {},
   "source": [
    "Step 0: We will install all relevant packages <br>\n",
    "Step 1: We will download the data <br>\n",
    "Step 1a: Nodes data"
   ]
  },
  {
   "cell_type": "code",
   "execution_count": 2,
   "id": "8a564e33",
   "metadata": {},
   "outputs": [],
   "source": [
    "# Packages and libraries with relevant functions\n",
    "\n",
    "import pandas as pd # This calls the entire pandas library as a shortened 'pd'\n",
    "\n",
    "from pathlib import Path # This calls the Path functions from the pathlib module\n",
    "from tqdm.autonotebook import tqdm \n",
    "\n",
    "from data_tools.df_processing import char_combine_iter # https://github.com/mmayers12/data_tools\n",
    "from data_tools.wiki import node_query_pipeline"
   ]
  },
  {
   "cell_type": "code",
   "execution_count": null,
   "id": "a97d4776",
   "metadata": {},
   "outputs": [],
   "source": [
    "nodes = [] # make an empty"
   ]
  }
 ],
 "metadata": {
  "kernelspec": {
   "display_name": "Python 3",
   "language": "python",
   "name": "python3"
  },
  "language_info": {
   "codemirror_mode": {
    "name": "ipython",
    "version": 3
   },
   "file_extension": ".py",
   "mimetype": "text/x-python",
   "name": "python",
   "nbconvert_exporter": "python",
   "pygments_lexer": "ipython3",
   "version": "3.8.8"
  }
 },
 "nbformat": 4,
 "nbformat_minor": 5
}
