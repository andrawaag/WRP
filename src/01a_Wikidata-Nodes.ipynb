{
 "cells": [
  {
   "cell_type": "markdown",
   "id": "31aa6634",
   "metadata": {},
   "source": [
    "Step 0: Relevant packages installed (ref 00_requirements.txt) <br>\n",
    "Step 1: Data downloaded <br>\n",
    "Step 1a: Nodes \n",
    "\n",
    "I. [Load Packages](#Load) clicking on phrase will take you directly to section <br>\n",
    "II. [Query for biomedical node types Wikidata](#Query)"
   ]
  },
  {
   "cell_type": "markdown",
   "id": "499414bf",
   "metadata": {},
   "source": [
    "## Load \n",
    "Packages and modules with relevant functions"
   ]
  },
  {
   "cell_type": "code",
   "execution_count": 11,
   "id": "8a564e33",
   "metadata": {},
   "outputs": [],
   "source": [
    "from pathlib import Path\n",
    "from tqdm.autonotebook import tqdm \n",
    "\n",
    "from data_tools.df_processing import char_combine_iter \n",
    "from data_tools.wiki import node_query_pipeline"
   ]
  },
  {
   "cell_type": "markdown",
   "id": "28126a8e",
   "metadata": {},
   "source": [
    "Make an empty list for nodes (this will become a populated .csv)"
   ]
  },
  {
   "cell_type": "code",
   "execution_count": 13,
   "id": "a97d4776",
   "metadata": {},
   "outputs": [],
   "source": [
    "nodes = []"
   ]
  },
  {
   "cell_type": "markdown",
   "id": "ad9a24e0",
   "metadata": {},
   "source": [
    "## Query\n",
    "Packages and modules with relevant functions"
   ]
  },
  {
   "cell_type": "markdown",
   "id": "ad12e3f7",
   "metadata": {},
   "source": [
    "* Query for all biomedically relevant node categories (ordered alphabetically)\n",
    "** More to add? <br>\n",
    "** Internally, are there ones missing or out of date?"
   ]
  },
  {
   "cell_type": "markdown",
   "id": "8df3d83b",
   "metadata": {},
   "source": [
    "### Anatomy\n",
    "### Biological Process\n",
    "### Cellular Component\n",
    "### Compounds\n",
    "### Disease\n",
    "### Genes\n",
    "### Pathway\n",
    "### Phenotype\n",
    "### Protein\n",
    "### Molecular Function"
   ]
  },
  {
   "cell_type": "markdown",
   "id": "4a324299",
   "metadata": {},
   "source": [
    "note to change pd to pandas"
   ]
  }
 ],
 "metadata": {
  "kernelspec": {
   "display_name": "Python 3",
   "language": "python",
   "name": "python3"
  },
  "language_info": {
   "codemirror_mode": {
    "name": "ipython",
    "version": 3
   },
   "file_extension": ".py",
   "mimetype": "text/x-python",
   "name": "python",
   "nbconvert_exporter": "python",
   "pygments_lexer": "ipython3",
   "version": "3.8.8"
  }
 },
 "nbformat": 4,
 "nbformat_minor": 5
}
