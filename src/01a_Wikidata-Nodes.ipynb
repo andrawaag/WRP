{
 "cells": [
  {
   "cell_type": "code",
   "execution_count": 2,
   "id": "8bc44a96",
   "metadata": {},
   "outputs": [
    {
     "name": "stderr",
     "output_type": "stream",
     "text": [
      "/Users/sulhasan/opt/anaconda3/lib/python3.8/site-packages/data_tools/df_processing.py:4: TqdmExperimentalWarning: Using `tqdm.autonotebook.tqdm` in notebook mode. Use `tqdm.tqdm` instead to force console mode (e.g. in jupyter console)\n",
      "  from tqdm.autonotebook import tqdm\n"
     ]
    }
   ],
   "source": [
    "import pandas as pd\n",
    "from pathlib import Path\n",
    "\n",
    "# 'ModuleNotFoundError' for both lines below\n",
    "## Solution: pip install git+https://github.com/mmayers12/data_tools\n",
    "### https://github.com/mmayers12/data_tools (fyi also a data_tools in pip, different)\n",
    "#### so far, these work okay (there isn't a conflict)\n",
    "\n",
    "from data_tools.df_processing import char_combine_iter \n",
    "from data_tools.wiki import node_query_pipeline\n",
    "\n",
    "# New line recommended by notebook\n",
    "from tqdm.autonotebook import tqdm "
   ]
  },
  {
   "cell_type": "code",
   "execution_count": null,
   "id": "e29d45ed",
   "metadata": {},
   "outputs": [],
   "source": []
  }
 ],
 "metadata": {
  "kernelspec": {
   "display_name": "Python 3",
   "language": "python",
   "name": "python3"
  },
  "language_info": {
   "codemirror_mode": {
    "name": "ipython",
    "version": 3
   },
   "file_extension": ".py",
   "mimetype": "text/x-python",
   "name": "python",
   "nbconvert_exporter": "python",
   "pygments_lexer": "ipython3",
   "version": "3.8.8"
  }
 },
 "nbformat": 4,
 "nbformat_minor": 5
}
