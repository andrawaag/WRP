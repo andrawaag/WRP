{
 "cells": [
  {
   "cell_type": "markdown",
   "id": "31aa6634",
   "metadata": {},
   "source": [
    "* = 'to do' item for later ; convert to 'Issues' later\n",
    "* Convert to a python script (for automation)\n",
    "\n",
    "Step 0: Relevant packages installed (ref 00_requirements.txt) <br>\n",
    "Step 1: Data downloaded <br>\n",
    "Step 1a: Nodes \n",
    "\n",
    "I. [Load Packages](#Load) [clicking on phrase will take you directly to section] <br>\n",
    "II. [Query for Biomedical Node Types in Wikidata](#Query)"
   ]
  },
  {
   "cell_type": "markdown",
   "id": "6fa69be3",
   "metadata": {},
   "source": [
    "## Load \n",
    "Packages and modules with relevant functions"
   ]
  },
  {
   "cell_type": "code",
   "execution_count": 2,
   "id": "8a564e33",
   "metadata": {},
   "outputs": [
    {
     "name": "stderr",
     "output_type": "stream",
     "text": [
      "<ipython-input-2-281390c62d51>:2: TqdmExperimentalWarning: Using `tqdm.autonotebook.tqdm` in notebook mode. Use `tqdm.tqdm` instead to force console mode (e.g. in jupyter console)\n",
      "  from tqdm.autonotebook import tqdm\n"
     ]
    }
   ],
   "source": [
    "from pathlib import Path\n",
    "from tqdm.autonotebook import tqdm \n",
    "\n",
    "from data_tools.df_processing import char_combine_iter \n",
    "from data_tools.wiki import node_query_pipeline"
   ]
  },
  {
   "cell_type": "markdown",
   "id": "6fa50eea",
   "metadata": {},
   "source": [
    "Make an empty list for nodes (this will become a populated .csv)"
   ]
  },
  {
   "cell_type": "code",
   "execution_count": 4,
   "id": "a97d4776",
   "metadata": {},
   "outputs": [],
   "source": [
    "nodes = []"
   ]
  },
  {
   "cell_type": "markdown",
   "id": "d7fbd9b8",
   "metadata": {},
   "source": [
    "## Query\n",
    "Biomedically relevant node types in Wikidata (ordered alphabetically) <br>\n",
    "Each section (#Anatomy, #Biological Process... etc) can be moved to its own cell and viewed separately to affirm it's been added to the nodes list, if desired.\n",
    "* Compare 'Compounds' when beyond 150000 limit (figure out) vs 'Medication' subject (below)\n",
    "* Make into a for loop (DRY)?\n",
    "* Node categories to add or adjust? Note that identifiers have been removed (irrelevant?)\n",
    "** Remove xrefs column within node_query_pipeline function (make it optional in package)"
   ]
  },
  {
   "cell_type": "code",
   "execution_count": 5,
   "id": "f81c04fe",
   "metadata": {},
   "outputs": [],
   "source": [
    "# Anatomy \n",
    "q = \"\"\"SELECT DISTINCT ?anatomy ?anatomyLabel \n",
    "        WHERE {\n",
    "          ?anatomy wdt:P1554 ?uberon\n",
    "          SERVICE wikibase:label { bd:serviceParam wikibase:language \"[AUTO_LANGAGE],en\" }\n",
    "        }\"\"\" \n",
    "\n",
    "res = node_query_pipeline(q, {}, 'anatomy')\n",
    "nodes.append(res)\n",
    "\n",
    "# Biological Process \n",
    "q = \"\"\"SELECT DISTINCT ?biological_process ?biological_processLabel \n",
    "        WHERE {\n",
    "          ?biological_process wdt:P31 wd:Q2996394 .\n",
    "          SERVICE wikibase:label { bd:serviceParam wikibase:language \"[AUTO_LANGAGE],en\" }\n",
    "        }\"\"\"\n",
    "\n",
    "res = node_query_pipeline(q, {}, 'biological_process')\n",
    "nodes.append(res)\n",
    "\n",
    "# Cellular Component\n",
    "q = \"\"\"SELECT DISTINCT ?cellular_component ?cellular_componentLabel \n",
    "    WHERE {\n",
    "      ?cellular_component wdt:P31 wd:Q5058355 .\n",
    "      SERVICE wikibase:label { bd:serviceParam wikibase:language \"[AUTO_LANGAGE],en\" }\n",
    "    }\"\"\"\n",
    "\n",
    "res = node_query_pipeline(q, {}, 'cellular_component')\n",
    "nodes.append(res)\n",
    "\n",
    "# Compounds \n",
    "q = \"\"\"SELECT DISTINCT ?compound ?compoundLabel\n",
    "        WHERE {\n",
    "          ?compound wdt:P31 wd:Q11173 .\n",
    "          SERVICE wikibase:label { bd:serviceParam wikibase:language \"[AUTO_LANGAGE],en\" }\n",
    "        }\n",
    "        limit 150000\"\"\" \n",
    "\n",
    "res = node_query_pipeline(q, {}, 'compound')\n",
    "nodes.append(res)\n",
    "\n",
    "# Disease\n",
    "q = \"\"\"SELECT DISTINCT ?disease ?diseaseLabel \n",
    "        WHERE {\n",
    "          ?disease wdt:P31 wd:Q12136 .\n",
    "          SERVICE wikibase:label { bd:serviceParam wikibase:language \"[AUTO_LANGAGE],en\" }\n",
    "        }\"\"\"\n",
    " \n",
    "res = node_query_pipeline(q, {}, 'disease')\n",
    "nodes.append(res)\n",
    "\n",
    "# Genes (see below)\n",
    "\n",
    "# Pathway\n",
    "q = \"\"\"SELECT DISTINCT ?pathway ?pathwayLabel\n",
    "        WHERE {\n",
    "          ?pathway wdt:P31 wd:Q4915012 .\n",
    "          SERVICE wikibase:label { bd:serviceParam wikibase:language \"[AUTO_LANGAGE],en\" }\n",
    "        }\"\"\"\n",
    "\n",
    "res = node_query_pipeline(q, {}, 'pathway')\n",
    "nodes.append(res)\n",
    "\n",
    "# Phenotype (nothing for hpo? apply to Compound?)\n",
    "q = \"\"\"SELECT DISTINCT ?phenotype ?phenotypeLabel ?hpo \n",
    "        WHERE {\n",
    "          {?phenotype wdt:P31 wd:Q169872.}UNION{?phenotype wdt:P3841 ?hpo}\n",
    "          SERVICE wikibase:label { bd:serviceParam wikibase:language \"[AUTO_LANGAGE],en\" }\n",
    "        }\"\"\"\n",
    "\n",
    "res = node_query_pipeline(q, {}, 'phenotype')\n",
    "nodes.append(res)\n",
    "\n",
    "# Protein (see below)\n",
    "\n",
    "# Molecular Function\n",
    "q = \"\"\"SELECT DISTINCT ?molecular_function ?molecular_functionLabel \n",
    "        WHERE {\n",
    "          ?molecular_function wdt:P31 wd:Q14860489 .\n",
    "          SERVICE wikibase:label { bd:serviceParam wikibase:language \"[AUTO_LANGAGE],en\" }\n",
    "        }\"\"\"\n",
    "\n",
    "res = node_query_pipeline(q, {}, 'molecular_function')\n",
    "nodes.append(res)"
   ]
  },
  {
   "cell_type": "code",
   "execution_count": 6,
   "id": "77002936",
   "metadata": {},
   "outputs": [],
   "source": [
    "# Genes (note focus on Homo sapiens) \n",
    "q = \"\"\"SELECT DISTINCT ?gene ?geneLabel\n",
    "        WHERE {\n",
    "          ?gene wdt:P31 wd:Q7187 .\n",
    "          ?gene wdt:P703 wd:Q15978631 .\n",
    "          SERVICE wikibase:label { bd:serviceParam wikibase:language \"[AUTO_LANGAGE],en\" }\n",
    "        }\"\"\"\n",
    "\n",
    "res = node_query_pipeline(q, {}, 'gene')\n",
    "nodes.append(res)"
   ]
  },
  {
   "cell_type": "code",
   "execution_count": null,
   "id": "7e33a413",
   "metadata": {},
   "outputs": [],
   "source": [
    "nodes"
   ]
  },
  {
   "cell_type": "code",
   "execution_count": 24,
   "id": "14835da8",
   "metadata": {},
   "outputs": [
    {
     "ename": "NameError",
     "evalue": "name 'human_tax_wd_id' is not defined",
     "output_type": "error",
     "traceback": [
      "\u001b[0;31m---------------------------------------------------------------------------\u001b[0m",
      "\u001b[0;31mNameError\u001b[0m                                 Traceback (most recent call last)",
      "\u001b[0;32m<ipython-input-24-c276bafbfd6b>\u001b[0m in \u001b[0;36m<module>\u001b[0;34m\u001b[0m\n\u001b[1;32m      7\u001b[0m           \u001b[0mSERVICE\u001b[0m \u001b[0mwikibase\u001b[0m\u001b[0;34m:\u001b[0m\u001b[0mlabel\u001b[0m \u001b[0;34m{\u001b[0m\u001b[0;34m{\u001b[0m \u001b[0mbd\u001b[0m\u001b[0;34m:\u001b[0m\u001b[0mserviceParam\u001b[0m \u001b[0mwikibase\u001b[0m\u001b[0;34m:\u001b[0m\u001b[0mlanguage\u001b[0m \u001b[0;34m\"[AUTO_LANGAGE],en\"\u001b[0m \u001b[0;34m}\u001b[0m\u001b[0;34m}\u001b[0m\u001b[0;34m\u001b[0m\u001b[0;34m\u001b[0m\u001b[0m\n\u001b[1;32m      8\u001b[0m         }}\"\"\"\n\u001b[0;32m----> 9\u001b[0;31m \u001b[0mq\u001b[0m \u001b[0;34m=\u001b[0m \u001b[0mq\u001b[0m\u001b[0;34m.\u001b[0m\u001b[0mformat\u001b[0m\u001b[0;34m(\u001b[0m\u001b[0mtax\u001b[0m\u001b[0;34m=\u001b[0m\u001b[0mhuman_tax_wd_id\u001b[0m\u001b[0;34m)\u001b[0m\u001b[0;34m\u001b[0m\u001b[0;34m\u001b[0m\u001b[0m\n\u001b[0m\u001b[1;32m     10\u001b[0m \u001b[0;34m\u001b[0m\u001b[0m\n\u001b[1;32m     11\u001b[0m \u001b[0mres\u001b[0m \u001b[0;34m=\u001b[0m \u001b[0mnode_query_pipeline\u001b[0m\u001b[0;34m(\u001b[0m\u001b[0mq\u001b[0m\u001b[0;34m,\u001b[0m \u001b[0;34m{\u001b[0m\u001b[0;34m}\u001b[0m\u001b[0;34m,\u001b[0m \u001b[0;34m'protein'\u001b[0m\u001b[0;34m)\u001b[0m\u001b[0;34m\u001b[0m\u001b[0;34m\u001b[0m\u001b[0m\n",
      "\u001b[0;31mNameError\u001b[0m: name 'human_tax_wd_id' is not defined"
     ]
    }
   ],
   "source": [
    "# Protein (note focus on Homo sapiens) \n",
    "q = \"\"\"SELECT DISTINCT ?protein ?proteinLabel\n",
    "        WHERE {\n",
    "          ?protein wdt:P31 wd:Q8054 .\n",
    "          ?protein wdt:P703 wd:Q15978631 .\n",
    "          SERVICE wikibase:label { bd:serviceParam wikibase:language \"[AUTO_LANGAGE],en\" }\n",
    "        }\"\"\"\n",
    "\n",
    "res = node_query_pipeline(q, {}, 'protein')\n",
    "nodes.append(res)"
   ]
  },
  {
   "cell_type": "code",
   "execution_count": 19,
   "id": "2999fd3b",
   "metadata": {},
   "outputs": [],
   "source": [
    "# Medication alternative to Compounds -- over 3300 results (temporary solution, want all)\n",
    "q = \"\"\"SELECT DISTINCT ?compound ?compoundLabel\n",
    "        WHERE {\n",
    "          ?compound wdt:P31 wd:Q12140 .\n",
    "          SERVICE wikibase:label { bd:serviceParam wikibase:language \"[AUTO_LANGAGE],en\" }\n",
    "        }\"\"\""
   ]
  },
  {
   "cell_type": "code",
   "execution_count": null,
   "id": "2dce08a1",
   "metadata": {},
   "outputs": [],
   "source": [
    "# Python3 program to demonstarte\n",
    "# the str.format() method\n",
    "\n",
    "# using format option in a simple string\n",
    "print (\"{}, A computer science portal for geeks.\"\n",
    "\t\t\t\t\t\t.format(\"GeeksforGeeks\"))\n",
    "\n",
    "# using format option for a\n",
    "# value stored in a variable\n",
    "str = \"This article is written in {}\"\n",
    "print (str.format(\"Python\"))\n",
    "\n",
    "# formatting a string using a numeric constant\n",
    "print (\"Hello, I am {} years old !\".format(18))\n"
   ]
  },
  {
   "cell_type": "code",
   "execution_count": 25,
   "id": "9b69e05e",
   "metadata": {},
   "outputs": [
    {
     "name": "stdout",
     "output_type": "stream",
     "text": [
      "SELECT DISTINCT ?gene ?geneLabel ?entrez ?symbol ?hgnc ?omim ?ensembl\n",
      "        WHERE {\n",
      "\n",
      "          # Initial typing for Gene\n",
      "          ?gene wdt:P31 wd:Q7187.\n",
      "          ?gene wdt:P703 wd:Q15978631.\n",
      "\n",
      "          OPTIONAL{?gene wdt:P351 ?entrez .}\n",
      "          OPTIONAL{?gene wdt:P353 ?symbol .}\n",
      "          OPTIONAL{?gene wdt:P354 ?hgnc .}\n",
      "          OPTIONAL{?gene wdt:P492 ?omim .}\n",
      "          OPTIONAL{?gene wdt:P594 ?ensembl .}\n",
      "\n",
      "          SERVICE wikibase:label { bd:serviceParam wikibase:language \"[AUTO_LANGAGE],en\" }\n",
      "        }\n"
     ]
    }
   ],
   "source": [
    "q = \"\"\"SELECT DISTINCT ?gene ?geneLabel ?entrez ?symbol ?hgnc ?omim ?ensembl\n",
    "        WHERE {{\n",
    "\n",
    "          # Initial typing for Gene\n",
    "          ?gene wdt:P31 wd:Q7187.\n",
    "          ?gene wdt:P703 wd:{tax}.\n",
    "\n",
    "          OPTIONAL{{?gene wdt:P351 ?entrez .}}\n",
    "          OPTIONAL{{?gene wdt:P353 ?symbol .}}\n",
    "          OPTIONAL{{?gene wdt:P354 ?hgnc .}}\n",
    "          OPTIONAL{{?gene wdt:P492 ?omim .}}\n",
    "          OPTIONAL{{?gene wdt:P594 ?ensembl .}}\n",
    "\n",
    "          SERVICE wikibase:label {{ bd:serviceParam wikibase:language \"[AUTO_LANGAGE],en\" }}\n",
    "        }}\"\"\"\n",
    "\n",
    "human_tax_wd_id = 'Q15978631' \n",
    "q = q.format(tax=human_tax_wd_id)\n",
    "print(q) # replaces 'tax' inside of wd:{tax} with 'Q15978631'\n",
    "# advantage might be becasue you have 10 different taxa instead of just one"
   ]
  },
  {
   "cell_type": "markdown",
   "id": "630d9bda",
   "metadata": {},
   "source": [
    "update and rename mike's data_tools package? others that use it...?\n",
    "note to change pd to pandas"
   ]
  }
 ],
 "metadata": {
  "kernelspec": {
   "display_name": "Python 3",
   "language": "python",
   "name": "python3"
  },
  "language_info": {
   "codemirror_mode": {
    "name": "ipython",
    "version": 3
   },
   "file_extension": ".py",
   "mimetype": "text/x-python",
   "name": "python",
   "nbconvert_exporter": "python",
   "pygments_lexer": "ipython3",
   "version": "3.8.8"
  }
 },
 "nbformat": 4,
 "nbformat_minor": 5
}
