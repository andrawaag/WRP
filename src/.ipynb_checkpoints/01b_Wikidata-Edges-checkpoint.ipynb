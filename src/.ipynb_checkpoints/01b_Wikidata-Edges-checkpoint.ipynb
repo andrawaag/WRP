{
 "cells": [
  {
   "cell_type": "markdown",
   "id": "3f9be18e",
   "metadata": {},
   "source": [
    "* Integrate process_taxa() function into data_tools package\n",
    "\n",
    "\n",
    "This notebook applies SPARQL query to retrieve and download biomedically relevant edge category types from Wikidata to be utilized by the downstream drug repurposing algorithm.\n",
    "\n",
    "I. [Load Packages](#Load) [clicking on phrase will take you directly to section] <br>\n",
    "II. [Query for Biomedical Node Types in Wikidata](#Query) <br>\n",
    "III. [Concatenate Node Types and Save as .csv](#Concatenate) <br>"
   ]
  },
  {
   "cell_type": "markdown",
   "id": "1fe07506",
   "metadata": {},
   "source": [
    "## Load \n",
    "Packages and modules with relevant functions"
   ]
  },
  {
   "cell_type": "code",
   "execution_count": null,
   "id": "50526f2d",
   "metadata": {},
   "outputs": [],
   "source": [
    "%matplotlib inline # why is this line needed?\n",
    "\n",
    "import pandas as pd\n",
    "\n",
    "import functools # what does this do?\n",
    "from pathlib import Path\n",
    "from itertools import chain # what does this do?\n",
    "from tqdm.autonotebook import tqdm \n",
    "\n",
    "from data_tools.df_processing import char_combine_iter, add_curi\n",
    "from data_tools.plotting import count_plot_h\n",
    "from data_tools.wiki import execute_sparql_query, node_query_pipeline, standardize_nodes, standardize_edges"
   ]
  },
  {
   "cell_type": "code",
   "execution_count": null,
   "id": "3e6b6928",
   "metadata": {},
   "outputs": [],
   "source": [
    "def process_taxa(edges):\n",
    "    nodes = edges.drop_duplicates(subset=['taxon', 'tax_id'])[['taxon', 'taxonLabel', 'tax_id']]\n",
    "    nodes = add_curi(nodes, {'tax_id': 'NCBITaxon'})\n",
    "    return standardize_nodes(nodes, 'taxon')"
   ]
  },
  {
   "cell_type": "code",
   "execution_count": null,
   "id": "67d22a69",
   "metadata": {},
   "outputs": [],
   "source": [
    "# What is happening in this code?\n",
    "# Why do we need nodes to get edges? Is it a good idea that we have them?\n",
    "\n",
    "prev_dir = Path('../results/').resolve()\n",
    "prev_nodes = pd.read_csv(prev_dir.joinpath('01a-b_nodes.csv')) "
   ]
  },
  {
   "cell_type": "code",
   "execution_count": null,
   "id": "9a09c7a9",
   "metadata": {},
   "outputs": [],
   "source": [
    "nodes = []\n",
    "edges = []"
   ]
  },
  {
   "cell_type": "code",
   "execution_count": null,
   "id": "ce23622a",
   "metadata": {},
   "outputs": [],
   "source": []
  }
 ],
 "metadata": {
  "kernelspec": {
   "display_name": "Python 3",
   "language": "python",
   "name": "python3"
  },
  "language_info": {
   "codemirror_mode": {
    "name": "ipython",
    "version": 3
   },
   "file_extension": ".py",
   "mimetype": "text/x-python",
   "name": "python",
   "nbconvert_exporter": "python",
   "pygments_lexer": "ipython3",
   "version": "3.8.8"
  }
 },
 "nbformat": 4,
 "nbformat_minor": 5
}
