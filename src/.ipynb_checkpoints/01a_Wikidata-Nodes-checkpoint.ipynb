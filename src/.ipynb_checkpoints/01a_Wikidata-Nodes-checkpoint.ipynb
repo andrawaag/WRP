{
 "cells": [
  {
   "cell_type": "markdown",
   "id": "31aa6634",
   "metadata": {},
   "source": [
    "* = 'to do' item for later\n",
    "* Convert to a python script (for automation)\n",
    "\n",
    "Step 0: Relevant packages installed (ref 00_requirements.txt) <br>\n",
    "Step 1: Data downloaded <br>\n",
    "Step 1a: Nodes \n",
    "\n",
    "I. [Load Packages](#Load) clicking on phrase will take you directly to section <br>\n",
    "II. [Query for Biomedical Node Types in Wikidata](#Query)"
   ]
  },
  {
   "cell_type": "markdown",
   "id": "adc93f76",
   "metadata": {},
   "source": [
    "## Load \n",
    "Packages and modules with relevant functions"
   ]
  },
  {
   "cell_type": "code",
   "execution_count": 14,
   "id": "8a564e33",
   "metadata": {},
   "outputs": [],
   "source": [
    "from pathlib import Path\n",
    "from tqdm.autonotebook import tqdm \n",
    "\n",
    "from data_tools.df_processing import char_combine_iter \n",
    "from data_tools.wiki import node_query_pipeline"
   ]
  },
  {
   "cell_type": "markdown",
   "id": "99f28dfe",
   "metadata": {},
   "source": [
    "Make an empty list for nodes (this will become a populated .csv)"
   ]
  },
  {
   "cell_type": "code",
   "execution_count": 15,
   "id": "a97d4776",
   "metadata": {},
   "outputs": [],
   "source": [
    "nodes = []"
   ]
  },
  {
   "cell_type": "markdown",
   "id": "a25a8af3",
   "metadata": {},
   "source": [
    "## Query\n",
    "Biomedically relevant node types in Wikidata (ordered alphabetically)\n",
    "* Node categories to add or adjust? Note that identifiers have been removed (irrelevant)?\n",
    "** Remove xrefs column for node_query_pipeline function??\n",
    "* Make into a for loop (DRY)?"
   ]
  },
  {
   "cell_type": "code",
   "execution_count": 25,
   "id": "82baf011",
   "metadata": {},
   "outputs": [],
   "source": [
    "# Anatomy (remove ?uberon... how)\n",
    "q = \"\"\"SELECT DISTINCT ?anatomy ?anatomyLabel ?uberon \n",
    "        WHERE {\n",
    "          ?anatomy wdt:P1554 ?uberon\n",
    "          SERVICE wikibase:label { bd:serviceParam wikibase:language \"[AUTO_LANGAGE],en\" }\n",
    "        }\"\"\" \n",
    "\n",
    "\n",
    "res = node_query_pipeline(q, {}, 'anatomy')\n",
    "nodes.append(res)"
   ]
  },
  {
   "cell_type": "code",
   "execution_count": 27,
   "id": "7181f226",
   "metadata": {},
   "outputs": [
    {
     "data": {
      "text/html": [
       "<div>\n",
       "<style scoped>\n",
       "    .dataframe tbody tr th:only-of-type {\n",
       "        vertical-align: middle;\n",
       "    }\n",
       "\n",
       "    .dataframe tbody tr th {\n",
       "        vertical-align: top;\n",
       "    }\n",
       "\n",
       "    .dataframe thead th {\n",
       "        text-align: right;\n",
       "    }\n",
       "</style>\n",
       "<table border=\"1\" class=\"dataframe\">\n",
       "  <thead>\n",
       "    <tr style=\"text-align: right;\">\n",
       "      <th></th>\n",
       "      <th>id</th>\n",
       "      <th>name</th>\n",
       "      <th>label</th>\n",
       "      <th>xrefs</th>\n",
       "    </tr>\n",
       "  </thead>\n",
       "  <tbody>\n",
       "    <tr>\n",
       "      <th>0</th>\n",
       "      <td>L504914</td>\n",
       "      <td>L504914</td>\n",
       "      <td>Disease</td>\n",
       "      <td></td>\n",
       "    </tr>\n",
       "    <tr>\n",
       "      <th>1</th>\n",
       "      <td>Q1001150</td>\n",
       "      <td>fibrillation</td>\n",
       "      <td>Disease</td>\n",
       "      <td></td>\n",
       "    </tr>\n",
       "    <tr>\n",
       "      <th>2</th>\n",
       "      <td>Q100165995</td>\n",
       "      <td>acute pulmonary hypertension</td>\n",
       "      <td>Disease</td>\n",
       "      <td></td>\n",
       "    </tr>\n",
       "    <tr>\n",
       "      <th>3</th>\n",
       "      <td>Q1003534</td>\n",
       "      <td>bulbar syndrome</td>\n",
       "      <td>Disease</td>\n",
       "      <td></td>\n",
       "    </tr>\n",
       "    <tr>\n",
       "      <th>4</th>\n",
       "      <td>Q100732653</td>\n",
       "      <td>Long COVID</td>\n",
       "      <td>Disease</td>\n",
       "      <td></td>\n",
       "    </tr>\n",
       "  </tbody>\n",
       "</table>\n",
       "</div>"
      ],
      "text/plain": [
       "           id                          name    label xrefs\n",
       "0     L504914                       L504914  Disease      \n",
       "1    Q1001150                  fibrillation  Disease      \n",
       "2  Q100165995  acute pulmonary hypertension  Disease      \n",
       "3    Q1003534               bulbar syndrome  Disease      \n",
       "4  Q100732653                    Long COVID  Disease      "
      ]
     },
     "execution_count": 27,
     "metadata": {},
     "output_type": "execute_result"
    }
   ],
   "source": [
    "nodes[0].head()"
   ]
  },
  {
   "cell_type": "code",
   "execution_count": null,
   "id": "8089670f",
   "metadata": {},
   "outputs": [],
   "source": [
    "# Biological Process\n",
    "# Cellular Component\n",
    "# Compounds\n",
    "# Disease\n",
    "q = \"\"\"SELECT DISTINCT ?disease ?diseaseLabel \n",
    "        WHERE {\n",
    "          ?disease wdt:P31 wd:Q12136 .\n",
    "          SERVICE wikibase:label { bd:serviceParam wikibase:language \"[AUTO_LANGAGE],en\" }\n",
    "        }\"\"\"\n",
    " \n",
    "dis_curi_map = {} # works\n",
    "res = node_query_pipeline(q, {}, 'disease')\n",
    "nodes.append(res)\n",
    "\n",
    "# Genes\n",
    "# Pathway\n",
    "# Phenotype\n",
    "# Protein\n",
    "# Molecular Function\n",
    "q = \"\"\"SELECT DISTINCT ?molecular_function ?molecular_functionLabel \n",
    "        WHERE {\n",
    "          ?molecular_function wdt:P31 wd:Q14860489 .\n",
    "          SERVICE wikibase:label { bd:serviceParam wikibase:language \"[AUTO_LANGAGE],en\" }\n",
    "        }\"\"\"\n",
    "\n",
    "ana_curi_map = {} # KeyError\n",
    "res = node_query_pipeline(q, {}, 'molecular_function')\n",
    "nodes.append(res)\n",
    "\n",
    "nodes[0].head()"
   ]
  },
  {
   "cell_type": "code",
   "execution_count": 19,
   "id": "afd50b8f",
   "metadata": {},
   "outputs": [],
   "source": [
    "# Molecular Function\n",
    "q = \"\"\"SELECT DISTINCT ?molecular_function ?molecular_functionLabel \n",
    "        WHERE {\n",
    "          ?molecular_function wdt:P31 wd:Q14860489 .\n",
    "          SERVICE wikibase:label { bd:serviceParam wikibase:language \"[AUTO_LANGAGE],en\" }\n",
    "        }\"\"\""
   ]
  },
  {
   "cell_type": "markdown",
   "id": "159bbf08",
   "metadata": {},
   "source": [
    "update and rename mike's data_tools package? others that use it...?\n",
    "note to change pd to pandas"
   ]
  }
 ],
 "metadata": {
  "kernelspec": {
   "display_name": "Python 3",
   "language": "python",
   "name": "python3"
  },
  "language_info": {
   "codemirror_mode": {
    "name": "ipython",
    "version": 3
   },
   "file_extension": ".py",
   "mimetype": "text/x-python",
   "name": "python",
   "nbconvert_exporter": "python",
   "pygments_lexer": "ipython3",
   "version": "3.8.8"
  }
 },
 "nbformat": 4,
 "nbformat_minor": 5
}
