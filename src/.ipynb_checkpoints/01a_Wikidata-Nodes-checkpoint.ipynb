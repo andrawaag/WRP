{
 "cells": [
  {
   "cell_type": "markdown",
   "id": "31aa6634",
   "metadata": {},
   "source": [
    "This notebook applies SPARQL query to retrieve and download biomedically relevant node category types from Wikidata to be utilized by the downstream drug repurposing algorithm.\n",
    "\n",
    "I. [Load Packages](#Load) [clicking on phrase will take you directly to section] <br>\n",
    "II. [Query for Biomedical Node Types in Wikidata](#Query) <br>\n",
    "III. [Concatenate Node Types and Save as .csv](#Concatenate) <br>"
   ]
  },
  {
   "cell_type": "markdown",
   "id": "6fa69be3",
   "metadata": {},
   "source": [
    "## Load \n",
    "Packages and modules with relevant functions"
   ]
  },
  {
   "cell_type": "code",
   "execution_count": 1,
   "id": "8a564e33",
   "metadata": {},
   "outputs": [
    {
     "name": "stderr",
     "output_type": "stream",
     "text": [
      "<ipython-input-1-b11e77d441ea>:4: TqdmExperimentalWarning: Using `tqdm.autonotebook.tqdm` in notebook mode. Use `tqdm.tqdm` instead to force console mode (e.g. in jupyter console)\n",
      "  from tqdm.autonotebook import tqdm\n"
     ]
    }
   ],
   "source": [
    "import pandas\n",
    "\n",
    "from pathlib import Path\n",
    "from tqdm.autonotebook import tqdm \n",
    "\n",
    "from data_tools.df_processing import char_combine_iter \n",
    "from data_tools.wiki import node_query_pipeline"
   ]
  },
  {
   "cell_type": "markdown",
   "id": "6fa50eea",
   "metadata": {},
   "source": [
    "Make an empty list for nodes (this will become a populated .csv)"
   ]
  },
  {
   "cell_type": "code",
   "execution_count": 2,
   "id": "a97d4776",
   "metadata": {},
   "outputs": [],
   "source": [
    "nodes = []"
   ]
  },
  {
   "cell_type": "markdown",
   "id": "d7fbd9b8",
   "metadata": {},
   "source": [
    "## Query\n",
    "Biomedically relevant node types in Wikidata (ordered alphabetically) <br><br>\n",
    "To affirm a node type category (#Anatomy, #Biological Process... etc) has been added, move it to its own cell and view separately using the 'print' function."
   ]
  },
  {
   "cell_type": "code",
   "execution_count": 3,
   "id": "2999fd3b",
   "metadata": {},
   "outputs": [],
   "source": [
    "# Medication alternative to Compounds -- over 3300 results (temporary solution, want all)\n",
    "# Drug vs medication\n",
    "## q = \"\"\"SELECT DISTINCT ?compound ?compoundLabel\n",
    "##        WHERE {\n",
    "##          ?compound wdt:P31 wd:Q12140 .\n",
    "##          SERVICE wikibase:label { bd:serviceParam wikibase:language \"[AUTO_LANGAGE],en\" }\n",
    "##        }\"\"\""
   ]
  },
  {
   "cell_type": "code",
   "execution_count": 4,
   "id": "f81c04fe",
   "metadata": {},
   "outputs": [],
   "source": [
    "# Anatomy \n",
    "q = \"\"\"SELECT DISTINCT ?anatomy ?anatomyLabel \n",
    "        WHERE {\n",
    "          ?anatomy wdt:P1554 ?uberon\n",
    "          SERVICE wikibase:label { bd:serviceParam wikibase:language \"[AUTO_LANGAGE],en\" }\n",
    "        }\"\"\" \n",
    "\n",
    "res = node_query_pipeline(q, {}, 'anatomy')\n",
    "nodes.append(res)\n",
    "\n",
    "# Biological Process \n",
    "q = \"\"\"SELECT DISTINCT ?biological_process ?biological_processLabel \n",
    "        WHERE {\n",
    "          ?biological_process wdt:P31 wd:Q2996394 .\n",
    "          SERVICE wikibase:label { bd:serviceParam wikibase:language \"[AUTO_LANGAGE],en\" }\n",
    "        }\"\"\"\n",
    "\n",
    "res = node_query_pipeline(q, {}, 'biological_process')\n",
    "nodes.append(res)\n",
    "\n",
    "# Cellular Component\n",
    "q = \"\"\"SELECT DISTINCT ?cellular_component ?cellular_componentLabel \n",
    "    WHERE {\n",
    "      ?cellular_component wdt:P31 wd:Q5058355 .\n",
    "      SERVICE wikibase:label { bd:serviceParam wikibase:language \"[AUTO_LANGAGE],en\" }\n",
    "    }\"\"\"\n",
    "\n",
    "res = node_query_pipeline(q, {}, 'cellular_component')\n",
    "nodes.append(res)\n",
    "\n",
    "# Compounds \n",
    "q = \"\"\"SELECT DISTINCT ?compound ?compoundLabel\n",
    "        WHERE {\n",
    "          ?compound wdt:P31 wd:Q11173 .\n",
    "          SERVICE wikibase:label { bd:serviceParam wikibase:language \"[AUTO_LANGAGE],en\" }\n",
    "        }\n",
    "        limit 150000\"\"\" \n",
    "\n",
    "res = node_query_pipeline(q, {}, 'compound')\n",
    "nodes.append(res)\n",
    "\n",
    "# Disease\n",
    "q = \"\"\"SELECT DISTINCT ?disease ?diseaseLabel \n",
    "        WHERE {\n",
    "          ?disease wdt:P31 wd:Q12136 .\n",
    "          SERVICE wikibase:label { bd:serviceParam wikibase:language \"[AUTO_LANGAGE],en\" }\n",
    "        }\"\"\"\n",
    " \n",
    "res = node_query_pipeline(q, {}, 'disease')\n",
    "nodes.append(res)\n",
    "\n",
    "# Genes (note focus on Homo sapiens) \n",
    "q = \"\"\"SELECT DISTINCT ?gene ?geneLabel\n",
    "        WHERE {\n",
    "          ?gene wdt:P31 wd:Q7187 .\n",
    "          ?gene wdt:P703 wd:Q15978631 .\n",
    "          SERVICE wikibase:label { bd:serviceParam wikibase:language \"[AUTO_LANGAGE],en\" }\n",
    "        }\"\"\"\n",
    "\n",
    "res = node_query_pipeline(q, {}, 'gene')\n",
    "nodes.append(res)\n",
    "\n",
    "# Pathway\n",
    "q = \"\"\"SELECT DISTINCT ?pathway ?pathwayLabel\n",
    "        WHERE {\n",
    "          ?pathway wdt:P31 wd:Q4915012 .\n",
    "          SERVICE wikibase:label { bd:serviceParam wikibase:language \"[AUTO_LANGAGE],en\" }\n",
    "        }\"\"\"\n",
    "\n",
    "res = node_query_pipeline(q, {}, 'pathway')\n",
    "nodes.append(res)\n",
    "\n",
    "# Phenotype (nothing for hpo? apply to Compound?)\n",
    "q = \"\"\"SELECT DISTINCT ?phenotype ?phenotypeLabel ?hpo \n",
    "        WHERE {\n",
    "          {?phenotype wdt:P31 wd:Q169872.}UNION{?phenotype wdt:P3841 ?hpo}\n",
    "          SERVICE wikibase:label { bd:serviceParam wikibase:language \"[AUTO_LANGAGE],en\" }\n",
    "        }\"\"\"\n",
    "\n",
    "res = node_query_pipeline(q, {}, 'phenotype')\n",
    "nodes.append(res)\n",
    "\n",
    "# Protein (note focus on Homo sapiens) \n",
    "q = \"\"\"SELECT DISTINCT ?protein ?proteinLabel\n",
    "        WHERE {\n",
    "          ?protein wdt:P31 wd:Q8054 .\n",
    "          ?protein wdt:P703 wd:Q15978631 .\n",
    "          SERVICE wikibase:label { bd:serviceParam wikibase:language \"[AUTO_LANGAGE],en\" }\n",
    "        }\"\"\"\n",
    "\n",
    "res = node_query_pipeline(q, {}, 'protein')\n",
    "nodes.append(res)\n",
    "\n",
    "# Molecular Function\n",
    "q = \"\"\"SELECT DISTINCT ?molecular_function ?molecular_functionLabel \n",
    "        WHERE {\n",
    "          ?molecular_function wdt:P31 wd:Q14860489 .\n",
    "          SERVICE wikibase:label { bd:serviceParam wikibase:language \"[AUTO_LANGAGE],en\" }\n",
    "        }\"\"\"\n",
    "\n",
    "res = node_query_pipeline(q, {}, 'molecular_function')\n",
    "nodes.append(res)"
   ]
  },
  {
   "cell_type": "markdown",
   "id": "d3c1a53d",
   "metadata": {},
   "source": [
    "## Concatenate\n",
    "Affirm query and compile into a csv"
   ]
  },
  {
   "cell_type": "code",
   "execution_count": 5,
   "id": "3082cc5d",
   "metadata": {},
   "outputs": [
    {
     "data": {
      "text/plain": [
       "305162"
      ]
     },
     "execution_count": 5,
     "metadata": {},
     "output_type": "execute_result"
    }
   ],
   "source": [
    "nodes = pandas.concat(nodes, sort=False, ignore_index=True)\n",
    "len(nodes) # 305162 "
   ]
  },
  {
   "cell_type": "code",
   "execution_count": 6,
   "id": "1925da2a",
   "metadata": {},
   "outputs": [
    {
     "data": {
      "text/plain": [
       "304819"
      ]
     },
     "execution_count": 6,
     "metadata": {},
     "output_type": "execute_result"
    }
   ],
   "source": [
    "nodes['id'].nunique() # 304819 unique IDs (of 305162)"
   ]
  },
  {
   "cell_type": "code",
   "execution_count": 7,
   "id": "d9f699f1",
   "metadata": {},
   "outputs": [
    {
     "data": {
      "text/plain": [
       "Compound              150000\n",
       "Gene                   59110\n",
       "Biological Process     42064\n",
       "Protein                25476\n",
       "Molecular Function     10940\n",
       "Disease                 5421\n",
       "Cellular Component      4137\n",
       "Pathway                 3432\n",
       "Anatomy                 2567\n",
       "Phenotype               2015\n",
       "Name: label, dtype: int64"
      ]
     },
     "execution_count": 7,
     "metadata": {},
     "output_type": "execute_result"
    }
   ],
   "source": [
    "nodes['label'].value_counts()"
   ]
  },
  {
   "cell_type": "code",
   "execution_count": 8,
   "id": "efc9c4e7",
   "metadata": {},
   "outputs": [],
   "source": [
    "out_dir = Path('../results/')\n",
    "out_dir.mkdir(parents=True, exist_ok=True)\n",
    "\n",
    "nodes.to_csv(out_dir.joinpath('01a_nodes.csv'), index=False)"
   ]
  }
 ],
 "metadata": {
  "kernelspec": {
   "display_name": "Python 3",
   "language": "python",
   "name": "python3"
  },
  "language_info": {
   "codemirror_mode": {
    "name": "ipython",
    "version": 3
   },
   "file_extension": ".py",
   "mimetype": "text/x-python",
   "name": "python",
   "nbconvert_exporter": "python",
   "pygments_lexer": "ipython3",
   "version": "3.8.8"
  }
 },
 "nbformat": 4,
 "nbformat_minor": 5
}
