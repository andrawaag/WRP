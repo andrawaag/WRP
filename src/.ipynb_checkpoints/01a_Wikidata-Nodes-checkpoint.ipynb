{
 "cells": [
  {
   "cell_type": "markdown",
   "id": "31aa6634",
   "metadata": {},
   "source": [
    "Step 0: We will install all relevant packages <br>\n",
    "Step 1: We will download the data <br>\n",
    "Step 1a: Nodes data\n",
    "\n",
    "1. [Load Packages](#Load)"
   ]
  },
  {
   "cell_type": "markdown",
   "id": "e088da9a",
   "metadata": {},
   "source": [
    "### Load \n",
    "Packages and libraries with relevant functions"
   ]
  },
  {
   "cell_type": "code",
   "execution_count": 3,
   "id": "8a564e33",
   "metadata": {},
   "outputs": [],
   "source": [
    "import pandas as pd # This calls the entire pandas library as a shortened 'pd'\n",
    "\n",
    "from pathlib import Path # This calls the Path functions from the pathlib module\n",
    "from tqdm.autonotebook import tqdm \n",
    "\n",
    "# data_tools.df_processing is a package, data_tools.wiki is a package (data_tools *could* be a library, but not really)\n",
    "from data_tools.df_processing import char_combine_iter # https://github.com/mmayers12/data_tools \n",
    "from data_tools.wiki import node_query_pipeline"
   ]
  },
  {
   "cell_type": "markdown",
   "id": "34f09df3",
   "metadata": {},
   "source": [
    "* Make an empty list for nodes"
   ]
  },
  {
   "cell_type": "code",
   "execution_count": 9,
   "id": "a97d4776",
   "metadata": {},
   "outputs": [
    {
     "data": {
      "text/plain": [
       "[]"
      ]
     },
     "execution_count": 9,
     "metadata": {},
     "output_type": "execute_result"
    }
   ],
   "source": [
    "nodes = []\n",
    "nodes"
   ]
  },
  {
   "cell_type": "markdown",
   "id": "d4aca54e",
   "metadata": {},
   "source": [
    "* Query for all biomedically relevant node categories (ordered alphabetically)\n",
    "** More to add? <br>\n",
    "** Internally, are there ones missing or out of date?"
   ]
  },
  {
   "cell_type": "markdown",
   "id": "ca9b183d",
   "metadata": {},
   "source": [
    "### Anatomy\n",
    "### Biological Process\n",
    "### Cellular Component\n",
    "### Compounds\n",
    "### Disease\n",
    "### Genes\n",
    "### Pathway\n",
    "### Phenotype\n",
    "### Protein\n",
    "### Molecular Function"
   ]
  },
  {
   "cell_type": "code",
   "execution_count": null,
   "id": "db21fb4d",
   "metadata": {},
   "outputs": [],
   "source": []
  }
 ],
 "metadata": {
  "kernelspec": {
   "display_name": "Python 3",
   "language": "python",
   "name": "python3"
  },
  "language_info": {
   "codemirror_mode": {
    "name": "ipython",
    "version": 3
   },
   "file_extension": ".py",
   "mimetype": "text/x-python",
   "name": "python",
   "nbconvert_exporter": "python",
   "pygments_lexer": "ipython3",
   "version": "3.8.8"
  }
 },
 "nbformat": 4,
 "nbformat_minor": 5
}
