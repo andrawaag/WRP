{
 "cells": [
  {
   "cell_type": "markdown",
   "id": "31aa6634",
   "metadata": {},
   "source": [
    "* = 'to do' item for later\n",
    "* Convert to a python script (for automation)\n",
    "\n",
    "Step 0: Relevant packages installed (ref 00_requirements.txt) <br>\n",
    "Step 1: Data downloaded <br>\n",
    "Step 1a: Nodes \n",
    "\n",
    "I. [Load Packages](#Load) clicking on phrase will take you directly to section <br>\n",
    "II. [Query for Biomedical Node Types in Wikidata](#Query)"
   ]
  },
  {
   "cell_type": "markdown",
   "id": "6fa69be3",
   "metadata": {},
   "source": [
    "## Load \n",
    "Packages and modules with relevant functions"
   ]
  },
  {
   "cell_type": "code",
   "execution_count": 1,
   "id": "8a564e33",
   "metadata": {},
   "outputs": [
    {
     "name": "stderr",
     "output_type": "stream",
     "text": [
      "<ipython-input-1-281390c62d51>:2: TqdmExperimentalWarning: Using `tqdm.autonotebook.tqdm` in notebook mode. Use `tqdm.tqdm` instead to force console mode (e.g. in jupyter console)\n",
      "  from tqdm.autonotebook import tqdm\n"
     ]
    }
   ],
   "source": [
    "from pathlib import Path\n",
    "from tqdm.autonotebook import tqdm \n",
    "\n",
    "from data_tools.df_processing import char_combine_iter \n",
    "from data_tools.wiki import node_query_pipeline"
   ]
  },
  {
   "cell_type": "markdown",
   "id": "6fa50eea",
   "metadata": {},
   "source": [
    "Make an empty list for nodes (this will become a populated .csv)"
   ]
  },
  {
   "cell_type": "code",
   "execution_count": 2,
   "id": "a97d4776",
   "metadata": {},
   "outputs": [],
   "source": [
    "nodes = []"
   ]
  },
  {
   "cell_type": "markdown",
   "id": "d7fbd9b8",
   "metadata": {},
   "source": [
    "## Query\n",
    "Biomedically relevant node types in Wikidata (ordered alphabetically)\n",
    "* Node categories to add or adjust? Note that identifiers have been removed (irrelevant?)\n",
    "** Remove xrefs column for node_query_pipeline function??\n",
    "* Make into a for loop (DRY)?"
   ]
  },
  {
   "cell_type": "code",
   "execution_count": 6,
   "id": "f81c04fe",
   "metadata": {},
   "outputs": [],
   "source": [
    "# Anatomy (remove ?uberon... how ??)\n",
    "q = \"\"\"SELECT DISTINCT ?anatomy ?anatomyLabel ?uberon \n",
    "        WHERE {\n",
    "          ?anatomy wdt:P1554 ?uberon\n",
    "          SERVICE wikibase:label { bd:serviceParam wikibase:language \"[AUTO_LANGAGE],en\" }\n",
    "        }\"\"\" \n",
    "\n",
    "res = node_query_pipeline(q, {}, 'anatomy')\n",
    "nodes.append(res)\n",
    "\n"
   ]
  },
  {
   "cell_type": "code",
   "execution_count": null,
   "id": "9e0644b6",
   "metadata": {},
   "outputs": [],
   "source": []
  },
  {
   "cell_type": "code",
   "execution_count": 8,
   "id": "d2033ec1",
   "metadata": {},
   "outputs": [
    {
     "name": "stdout",
     "output_type": "stream",
     "text": [
      "[              id                                       name    label    xrefs\n",
      "0       Q1001337  mesencephalic nucleus of trigeminal nerve  Anatomy  0001718\n",
      "1       Q1002789                posterior ethmoidal foramen  Anatomy  0018654\n",
      "2       Q1003805                           Nucleus ambiguus  Anatomy  0001719\n",
      "3        Q101004                                      aorta  Anatomy  0000947\n",
      "4     Q102277188                      anatomical projection  Anatomy  0004529\n",
      "...          ...                                        ...      ...      ...\n",
      "2562     Q988343                               blood vessel  Anatomy  0001981\n",
      "2563     Q988861                                 Epineurium  Anatomy  0000124\n",
      "2564     Q992893                           Brunner's glands  Anatomy  0001212\n",
      "2565     Q994554                            thoracic cavity  Anatomy  0002224\n",
      "2566     Q999472                            pulmonary trunk  Anatomy  0002333\n",
      "\n",
      "[2567 rows x 4 columns],               id                                       name    label    xrefs\n",
      "0       Q1001337  mesencephalic nucleus of trigeminal nerve  Anatomy  0001718\n",
      "1       Q1002789                posterior ethmoidal foramen  Anatomy  0018654\n",
      "2       Q1003805                           Nucleus ambiguus  Anatomy  0001719\n",
      "3        Q101004                                      aorta  Anatomy  0000947\n",
      "4     Q102277188                      anatomical projection  Anatomy  0004529\n",
      "...          ...                                        ...      ...      ...\n",
      "2562     Q988343                               blood vessel  Anatomy  0001981\n",
      "2563     Q988861                                 Epineurium  Anatomy  0000124\n",
      "2564     Q992893                           Brunner's glands  Anatomy  0001212\n",
      "2565     Q994554                            thoracic cavity  Anatomy  0002224\n",
      "2566     Q999472                            pulmonary trunk  Anatomy  0002333\n",
      "\n",
      "[2567 rows x 4 columns],               id                                       name    label    xrefs\n",
      "0       Q1001337  mesencephalic nucleus of trigeminal nerve  Anatomy  0001718\n",
      "1       Q1002789                posterior ethmoidal foramen  Anatomy  0018654\n",
      "2       Q1003805                           Nucleus ambiguus  Anatomy  0001719\n",
      "3        Q101004                                      aorta  Anatomy  0000947\n",
      "4     Q102277188                      anatomical projection  Anatomy  0004529\n",
      "...          ...                                        ...      ...      ...\n",
      "2561     Q988343                               blood vessel  Anatomy  0001981\n",
      "2562     Q988861                                 Epineurium  Anatomy  0000124\n",
      "2563     Q992893                           Brunner's glands  Anatomy  0001212\n",
      "2564     Q994554                            thoracic cavity  Anatomy  0002224\n",
      "2565     Q999472                            pulmonary trunk  Anatomy  0002333\n",
      "\n",
      "[2566 rows x 4 columns],               id                                       name    label    xrefs\n",
      "0       Q1001337  mesencephalic nucleus of trigeminal nerve  Anatomy  0001718\n",
      "1       Q1002789                posterior ethmoidal foramen  Anatomy  0018654\n",
      "2       Q1003805                           Nucleus ambiguus  Anatomy  0001719\n",
      "3        Q101004                                      aorta  Anatomy  0000947\n",
      "4     Q102277188                      anatomical projection  Anatomy  0004529\n",
      "...          ...                                        ...      ...      ...\n",
      "2562     Q988343                               blood vessel  Anatomy  0001981\n",
      "2563     Q988861                                 Epineurium  Anatomy  0000124\n",
      "2564     Q992893                           Brunner's glands  Anatomy  0001212\n",
      "2565     Q994554                            thoracic cavity  Anatomy  0002224\n",
      "2566     Q999472                            pulmonary trunk  Anatomy  0002333\n",
      "\n",
      "[2567 rows x 4 columns]]\n"
     ]
    }
   ],
   "source": [
    "print(nodes)"
   ]
  },
  {
   "cell_type": "code",
   "execution_count": null,
   "id": "14835da8",
   "metadata": {},
   "outputs": [],
   "source": [
    "# Biological Process\n",
    "# Cellular Component\n",
    "# Compounds\n",
    "# Disease\n",
    "q = \"\"\"SELECT DISTINCT ?disease ?diseaseLabel \n",
    "        WHERE {\n",
    "          ?disease wdt:P31 wd:Q12136 .\n",
    "          SERVICE wikibase:label { bd:serviceParam wikibase:language \"[AUTO_LANGAGE],en\" }\n",
    "        }\"\"\"\n",
    " \n",
    "dis_curi_map = {} # works\n",
    "res = node_query_pipeline(q, {}, 'disease')\n",
    "nodes.append(res)\n",
    "\n",
    "# Genes\n",
    "# Pathway\n",
    "# Phenotype\n",
    "# Protein\n",
    "# Molecular Function\n",
    "q = \"\"\"SELECT DISTINCT ?molecular_function ?molecular_functionLabel \n",
    "        WHERE {\n",
    "          ?molecular_function wdt:P31 wd:Q14860489 .\n",
    "          SERVICE wikibase:label { bd:serviceParam wikibase:language \"[AUTO_LANGAGE],en\" }\n",
    "        }\"\"\"\n",
    "\n",
    "ana_curi_map = {} # KeyError\n",
    "res = node_query_pipeline(q, {}, 'molecular_function')\n",
    "nodes.append(res)\n",
    "\n",
    "nodes[0].head()"
   ]
  },
  {
   "cell_type": "code",
   "execution_count": 19,
   "id": "2999fd3b",
   "metadata": {},
   "outputs": [],
   "source": [
    "# Molecular Function\n",
    "q = \"\"\"SELECT DISTINCT ?molecular_function ?molecular_functionLabel \n",
    "        WHERE {\n",
    "          ?molecular_function wdt:P31 wd:Q14860489 .\n",
    "          SERVICE wikibase:label { bd:serviceParam wikibase:language \"[AUTO_LANGAGE],en\" }\n",
    "        }\"\"\""
   ]
  },
  {
   "cell_type": "markdown",
   "id": "630d9bda",
   "metadata": {},
   "source": [
    "update and rename mike's data_tools package? others that use it...?\n",
    "note to change pd to pandas"
   ]
  }
 ],
 "metadata": {
  "kernelspec": {
   "display_name": "Python 3",
   "language": "python",
   "name": "python3"
  },
  "language_info": {
   "codemirror_mode": {
    "name": "ipython",
    "version": 3
   },
   "file_extension": ".py",
   "mimetype": "text/x-python",
   "name": "python",
   "nbconvert_exporter": "python",
   "pygments_lexer": "ipython3",
   "version": "3.8.8"
  }
 },
 "nbformat": 4,
 "nbformat_minor": 5
}
