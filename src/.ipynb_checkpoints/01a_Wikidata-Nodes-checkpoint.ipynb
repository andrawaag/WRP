{
 "cells": [
  {
   "cell_type": "markdown",
   "id": "31aa6634",
   "metadata": {},
   "source": [
    "This notebook applies SPARQL query to retrieve and download biomedically relevant node category types from Wikidata to be utilized by the downstream drug repurposing algorithm.\n",
    "\n",
    "I. [Load Packages](#Load) [clicking on phrase will take you directly to section] <br>\n",
    "II. [Query for Biomedical Node Types in Wikidata](#Query) <br>\n",
    "III. [Concatenate Node Types and Save as .csv](#Concatenate) <br>"
   ]
  },
  {
   "cell_type": "markdown",
   "id": "6fa69be3",
   "metadata": {},
   "source": [
    "## Load \n",
    "Packages and modules with relevant functions"
   ]
  },
  {
   "cell_type": "code",
   "execution_count": 1,
   "id": "8a564e33",
   "metadata": {},
   "outputs": [
    {
     "name": "stderr",
     "output_type": "stream",
     "text": [
      "<ipython-input-1-59ab6b63bc20>:4: TqdmExperimentalWarning: Using `tqdm.autonotebook.tqdm` in notebook mode. Use `tqdm.tqdm` instead to force console mode (e.g. in jupyter console)\n",
      "  from tqdm.autonotebook import tqdm\n"
     ]
    }
   ],
   "source": [
    "import pandas as pd\n",
    "\n",
    "from pathlib import Path\n",
    "from tqdm.autonotebook import tqdm \n",
    "\n",
    "from data_tools.df_processing import char_combine_iter \n",
    "from data_tools.wiki import node_query_pipeline"
   ]
  },
  {
   "cell_type": "markdown",
   "id": "6fa50eea",
   "metadata": {},
   "source": [
    "Make an empty list for nodes (this will become a populated .csv)"
   ]
  },
  {
   "cell_type": "code",
   "execution_count": 2,
   "id": "a97d4776",
   "metadata": {},
   "outputs": [],
   "source": [
    "nodes = []"
   ]
  },
  {
   "cell_type": "markdown",
   "id": "d7fbd9b8",
   "metadata": {},
   "source": [
    "## Query\n",
    "Biomedically relevant node types in Wikidata (ordered alphabetically) <br>\n",
    "To affirm a node type category (#Anatomy, #Biological Process... etc) has been added, move it to its own cell and view separately using the 'print' function."
   ]
  },
  {
   "cell_type": "code",
   "execution_count": 3,
   "id": "2999fd3b",
   "metadata": {},
   "outputs": [],
   "source": [
    "# Medication alternative to Compounds -- over 3300 results (temporary solution, want all)\n",
    "# Drug vs medication\n",
    "## q = \"\"\"SELECT DISTINCT ?compound ?compoundLabel\n",
    "##        WHERE {\n",
    "##          ?compound wdt:P31 wd:Q12140 .\n",
    "##          SERVICE wikibase:label { bd:serviceParam wikibase:language \"[AUTO_LANGAGE],en\" }\n",
    "##        }\"\"\""
   ]
  },
  {
   "cell_type": "code",
   "execution_count": 4,
   "id": "f81c04fe",
   "metadata": {},
   "outputs": [],
   "source": [
    "# Anatomy \n",
    "q = \"\"\"SELECT DISTINCT ?anatomy ?anatomyLabel \n",
    "        WHERE {\n",
    "          ?anatomy wdt:P1554 ?uberon\n",
    "          SERVICE wikibase:label { bd:serviceParam wikibase:language \"[AUTO_LANGAGE],en\" }\n",
    "        }\"\"\" \n",
    "\n",
    "res = node_query_pipeline(q, {}, 'anatomy')\n",
    "nodes.append(res)\n",
    "\n",
    "# Biological Process \n",
    "q = \"\"\"SELECT DISTINCT ?biological_process ?biological_processLabel \n",
    "        WHERE {\n",
    "          ?biological_process wdt:P31 wd:Q2996394 .\n",
    "          SERVICE wikibase:label { bd:serviceParam wikibase:language \"[AUTO_LANGAGE],en\" }\n",
    "        }\"\"\"\n",
    "\n",
    "res = node_query_pipeline(q, {}, 'biological_process')\n",
    "nodes.append(res)\n",
    "\n",
    "# Cellular Component\n",
    "q = \"\"\"SELECT DISTINCT ?cellular_component ?cellular_componentLabel \n",
    "    WHERE {\n",
    "      ?cellular_component wdt:P31 wd:Q5058355 .\n",
    "      SERVICE wikibase:label { bd:serviceParam wikibase:language \"[AUTO_LANGAGE],en\" }\n",
    "    }\"\"\"\n",
    "\n",
    "res = node_query_pipeline(q, {}, 'cellular_component')\n",
    "nodes.append(res)\n",
    "\n",
    "# Compounds \n",
    "q = \"\"\"SELECT DISTINCT ?compound ?compoundLabel\n",
    "        WHERE {\n",
    "          ?compound wdt:P31 wd:Q11173 .\n",
    "          SERVICE wikibase:label { bd:serviceParam wikibase:language \"[AUTO_LANGAGE],en\" }\n",
    "        }\n",
    "        limit 150000\"\"\" \n",
    "\n",
    "res = node_query_pipeline(q, {}, 'compound')\n",
    "nodes.append(res)\n",
    "\n",
    "# Disease\n",
    "q = \"\"\"SELECT DISTINCT ?disease ?diseaseLabel \n",
    "        WHERE {\n",
    "          ?disease wdt:P31 wd:Q12136 .\n",
    "          SERVICE wikibase:label { bd:serviceParam wikibase:language \"[AUTO_LANGAGE],en\" }\n",
    "        }\"\"\"\n",
    " \n",
    "res = node_query_pipeline(q, {}, 'disease')\n",
    "nodes.append(res)\n",
    "\n",
    "# Genes (note focus on Homo sapiens) \n",
    "q = \"\"\"SELECT DISTINCT ?gene ?geneLabel\n",
    "        WHERE {\n",
    "          ?gene wdt:P31 wd:Q7187 .\n",
    "          ?gene wdt:P703 wd:Q15978631 .\n",
    "          SERVICE wikibase:label { bd:serviceParam wikibase:language \"[AUTO_LANGAGE],en\" }\n",
    "        }\"\"\"\n",
    "\n",
    "res = node_query_pipeline(q, {}, 'gene')\n",
    "nodes.append(res)\n",
    "\n",
    "# Pathway\n",
    "q = \"\"\"SELECT DISTINCT ?pathway ?pathwayLabel\n",
    "        WHERE {\n",
    "          ?pathway wdt:P31 wd:Q4915012 .\n",
    "          SERVICE wikibase:label { bd:serviceParam wikibase:language \"[AUTO_LANGAGE],en\" }\n",
    "        }\"\"\"\n",
    "\n",
    "res = node_query_pipeline(q, {}, 'pathway')\n",
    "nodes.append(res)\n",
    "\n",
    "# Phenotype (note focus on Homo sapiens) \n",
    "q = \"\"\"SELECT DISTINCT ?phenotype ?phenotypeLabel  \n",
    "        WHERE {\n",
    "          {?phenotype wdt:P31 wd:Q169872.}UNION{?phenotype wdt:P3841 ?hpo}\n",
    "          SERVICE wikibase:label { bd:serviceParam wikibase:language \"[AUTO_LANGAGE],en\" }\n",
    "        }\"\"\"\n",
    "\n",
    "res = node_query_pipeline(q, {}, 'phenotype')\n",
    "nodes.append(res)\n",
    "\n",
    "# Protein (note focus on Homo sapiens) \n",
    "q = \"\"\"SELECT DISTINCT ?protein ?proteinLabel\n",
    "        WHERE {\n",
    "          ?protein wdt:P31 wd:Q8054 .\n",
    "          ?protein wdt:P703 wd:Q15978631 .\n",
    "          SERVICE wikibase:label { bd:serviceParam wikibase:language \"[AUTO_LANGAGE],en\" }\n",
    "        }\"\"\"\n",
    "\n",
    "res = node_query_pipeline(q, {}, 'protein')\n",
    "nodes.append(res)\n",
    "\n",
    "# Molecular Function\n",
    "q = \"\"\"SELECT DISTINCT ?molecular_function ?molecular_functionLabel \n",
    "        WHERE {\n",
    "          ?molecular_function wdt:P31 wd:Q14860489 .\n",
    "          SERVICE wikibase:label { bd:serviceParam wikibase:language \"[AUTO_LANGAGE],en\" }\n",
    "        }\"\"\"\n",
    "\n",
    "res = node_query_pipeline(q, {}, 'molecular_function')\n",
    "nodes.append(res)"
   ]
  },
  {
   "cell_type": "markdown",
   "id": "d3c1a53d",
   "metadata": {},
   "source": [
    "## Concatenate\n",
    "Affirm queries and compile into a csv"
   ]
  },
  {
   "cell_type": "code",
   "execution_count": 5,
   "id": "3082cc5d",
   "metadata": {},
   "outputs": [
    {
     "data": {
      "text/plain": [
       "305163"
      ]
     },
     "execution_count": 5,
     "metadata": {},
     "output_type": "execute_result"
    }
   ],
   "source": [
    "nodes = pd.concat(nodes, sort=False, ignore_index=True)\n",
    "len(nodes) # 305162 "
   ]
  },
  {
   "cell_type": "code",
   "execution_count": 6,
   "id": "16f25ca5",
   "metadata": {},
   "outputs": [
    {
     "data": {
      "text/html": [
       "<div>\n",
       "<style scoped>\n",
       "    .dataframe tbody tr th:only-of-type {\n",
       "        vertical-align: middle;\n",
       "    }\n",
       "\n",
       "    .dataframe tbody tr th {\n",
       "        vertical-align: top;\n",
       "    }\n",
       "\n",
       "    .dataframe thead th {\n",
       "        text-align: right;\n",
       "    }\n",
       "</style>\n",
       "<table border=\"1\" class=\"dataframe\">\n",
       "  <thead>\n",
       "    <tr style=\"text-align: right;\">\n",
       "      <th></th>\n",
       "      <th>id</th>\n",
       "      <th>name</th>\n",
       "      <th>label</th>\n",
       "      <th>xrefs</th>\n",
       "    </tr>\n",
       "  </thead>\n",
       "  <tbody>\n",
       "    <tr>\n",
       "      <th>0</th>\n",
       "      <td>Q1001337</td>\n",
       "      <td>mesencephalic nucleus of trigeminal nerve</td>\n",
       "      <td>Anatomy</td>\n",
       "      <td></td>\n",
       "    </tr>\n",
       "    <tr>\n",
       "      <th>1</th>\n",
       "      <td>Q1002789</td>\n",
       "      <td>posterior ethmoidal foramen</td>\n",
       "      <td>Anatomy</td>\n",
       "      <td></td>\n",
       "    </tr>\n",
       "    <tr>\n",
       "      <th>2</th>\n",
       "      <td>Q1003805</td>\n",
       "      <td>Nucleus ambiguus</td>\n",
       "      <td>Anatomy</td>\n",
       "      <td></td>\n",
       "    </tr>\n",
       "    <tr>\n",
       "      <th>3</th>\n",
       "      <td>Q101004</td>\n",
       "      <td>aorta</td>\n",
       "      <td>Anatomy</td>\n",
       "      <td></td>\n",
       "    </tr>\n",
       "    <tr>\n",
       "      <th>4</th>\n",
       "      <td>Q102277188</td>\n",
       "      <td>anatomical projection</td>\n",
       "      <td>Anatomy</td>\n",
       "      <td></td>\n",
       "    </tr>\n",
       "  </tbody>\n",
       "</table>\n",
       "</div>"
      ],
      "text/plain": [
       "           id                                       name    label xrefs\n",
       "0    Q1001337  mesencephalic nucleus of trigeminal nerve  Anatomy      \n",
       "1    Q1002789                posterior ethmoidal foramen  Anatomy      \n",
       "2    Q1003805                           Nucleus ambiguus  Anatomy      \n",
       "3     Q101004                                      aorta  Anatomy      \n",
       "4  Q102277188                      anatomical projection  Anatomy      "
      ]
     },
     "execution_count": 6,
     "metadata": {},
     "output_type": "execute_result"
    }
   ],
   "source": [
    "nodes.head()"
   ]
  },
  {
   "cell_type": "code",
   "execution_count": 7,
   "id": "b605a11c",
   "metadata": {},
   "outputs": [
    {
     "data": {
      "text/html": [
       "<div>\n",
       "<style scoped>\n",
       "    .dataframe tbody tr th:only-of-type {\n",
       "        vertical-align: middle;\n",
       "    }\n",
       "\n",
       "    .dataframe tbody tr th {\n",
       "        vertical-align: top;\n",
       "    }\n",
       "\n",
       "    .dataframe thead th {\n",
       "        text-align: right;\n",
       "    }\n",
       "</style>\n",
       "<table border=\"1\" class=\"dataframe\">\n",
       "  <thead>\n",
       "    <tr style=\"text-align: right;\">\n",
       "      <th></th>\n",
       "      <th>id</th>\n",
       "      <th>name</th>\n",
       "      <th>label</th>\n",
       "      <th>xrefs</th>\n",
       "    </tr>\n",
       "  </thead>\n",
       "  <tbody>\n",
       "    <tr>\n",
       "      <th>305158</th>\n",
       "      <td>Q70552211</td>\n",
       "      <td>cyclic-GMP-AMP transmembrane transporter activity</td>\n",
       "      <td>Molecular Function</td>\n",
       "      <td></td>\n",
       "    </tr>\n",
       "    <tr>\n",
       "      <th>305159</th>\n",
       "      <td>Q7068245</td>\n",
       "      <td>nucleoside-diphosphatase activity</td>\n",
       "      <td>Molecular Function</td>\n",
       "      <td></td>\n",
       "    </tr>\n",
       "    <tr>\n",
       "      <th>305160</th>\n",
       "      <td>Q7618857</td>\n",
       "      <td>7,8-didemethyl-8-hydroxy-5-deazariboflavin syn...</td>\n",
       "      <td>Molecular Function</td>\n",
       "      <td></td>\n",
       "    </tr>\n",
       "    <tr>\n",
       "      <th>305161</th>\n",
       "      <td>Q82264</td>\n",
       "      <td>catalysis</td>\n",
       "      <td>Molecular Function</td>\n",
       "      <td></td>\n",
       "    </tr>\n",
       "    <tr>\n",
       "      <th>305162</th>\n",
       "      <td>Q98058302</td>\n",
       "      <td>protein kinase regulation</td>\n",
       "      <td>Molecular Function</td>\n",
       "      <td></td>\n",
       "    </tr>\n",
       "  </tbody>\n",
       "</table>\n",
       "</div>"
      ],
      "text/plain": [
       "               id                                               name  \\\n",
       "305158  Q70552211  cyclic-GMP-AMP transmembrane transporter activity   \n",
       "305159   Q7068245                  nucleoside-diphosphatase activity   \n",
       "305160   Q7618857  7,8-didemethyl-8-hydroxy-5-deazariboflavin syn...   \n",
       "305161     Q82264                                          catalysis   \n",
       "305162  Q98058302                          protein kinase regulation   \n",
       "\n",
       "                     label xrefs  \n",
       "305158  Molecular Function        \n",
       "305159  Molecular Function        \n",
       "305160  Molecular Function        \n",
       "305161  Molecular Function        \n",
       "305162  Molecular Function        "
      ]
     },
     "execution_count": 7,
     "metadata": {},
     "output_type": "execute_result"
    }
   ],
   "source": [
    "nodes.tail()"
   ]
  },
  {
   "cell_type": "code",
   "execution_count": 8,
   "id": "1925da2a",
   "metadata": {},
   "outputs": [
    {
     "data": {
      "text/plain": [
       "304820"
      ]
     },
     "execution_count": 8,
     "metadata": {},
     "output_type": "execute_result"
    }
   ],
   "source": [
    "nodes['id'].nunique() # 304819 unique IDs (of 305162)"
   ]
  },
  {
   "cell_type": "code",
   "execution_count": 9,
   "id": "d9f699f1",
   "metadata": {},
   "outputs": [
    {
     "data": {
      "text/plain": [
       "Compound              150000\n",
       "Gene                   59110\n",
       "Biological Process     42064\n",
       "Protein                25476\n",
       "Molecular Function     10940\n",
       "Disease                 5423\n",
       "Cellular Component      4136\n",
       "Pathway                 3432\n",
       "Anatomy                 2567\n",
       "Phenotype               2015\n",
       "Name: label, dtype: int64"
      ]
     },
     "execution_count": 9,
     "metadata": {},
     "output_type": "execute_result"
    }
   ],
   "source": [
    "nodes['label'].value_counts() # Breakdown by node category"
   ]
  },
  {
   "cell_type": "code",
   "execution_count": 10,
   "id": "3f52cd0d",
   "metadata": {},
   "outputs": [
    {
     "data": {
      "text/plain": [
       "304820"
      ]
     },
     "execution_count": 10,
     "metadata": {},
     "output_type": "execute_result"
    }
   ],
   "source": [
    "nodup = nodes.drop_duplicates(subset=['id']) # See breakdown of unique IDs\n",
    "len(nodup)"
   ]
  },
  {
   "cell_type": "code",
   "execution_count": 11,
   "id": "6954393a",
   "metadata": {},
   "outputs": [
    {
     "data": {
      "text/plain": [
       "Compound              150000\n",
       "Gene                   59107\n",
       "Biological Process     42064\n",
       "Protein                25472\n",
       "Molecular Function     10938\n",
       "Disease                 5421\n",
       "Cellular Component      4134\n",
       "Pathway                 3426\n",
       "Anatomy                 2567\n",
       "Phenotype               1691\n",
       "Name: label, dtype: int64"
      ]
     },
     "execution_count": 11,
     "metadata": {},
     "output_type": "execute_result"
    }
   ],
   "source": [
    "nodup['label'].value_counts() # Phenotype has most overlap - why?"
   ]
  },
  {
   "cell_type": "code",
   "execution_count": 12,
   "id": "efc9c4e7",
   "metadata": {},
   "outputs": [],
   "source": [
    "out_dir = Path('../results/')\n",
    "out_dir.mkdir(parents=True, exist_ok=True)\n",
    "\n",
    "nodes.to_csv(out_dir.joinpath('01a_nodes.csv'), index=False)"
   ]
  }
 ],
 "metadata": {
  "kernelspec": {
   "display_name": "Python 3",
   "language": "python",
   "name": "python3"
  },
  "language_info": {
   "codemirror_mode": {
    "name": "ipython",
    "version": 3
   },
   "file_extension": ".py",
   "mimetype": "text/x-python",
   "name": "python",
   "nbconvert_exporter": "python",
   "pygments_lexer": "ipython3",
   "version": "3.8.8"
  }
 },
 "nbformat": 4,
 "nbformat_minor": 5
}
