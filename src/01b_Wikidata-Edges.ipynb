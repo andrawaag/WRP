{
 "cells": [
  {
   "cell_type": "markdown",
   "id": "64ff24b4",
   "metadata": {},
   "source": [
    "This notebook applies SPARQL query to retrieve and download biomedically relevant edge category types from Wikidata to be utilized by the downstream drug repurposing algorithm.\n",
    "\n",
    "I. [Load Packages](#Load) [clicking on phrase will take you directly to section] <br>\n",
    "II. [Infectious Taxa as Part of Network](#Taxa) <br>\n",
    "\n",
    "\n",
    "III. [Query for Biomedical Edge Types in Wikidata](#Query) <br>\n",
    "IV. [Concatenate Node Types and Save as .csv](#Concatenate) <br>"
   ]
  },
  {
   "cell_type": "markdown",
   "id": "24dc0489",
   "metadata": {},
   "source": [
    "## Load \n",
    "Packages and modules with relevant functions"
   ]
  },
  {
   "cell_type": "code",
   "execution_count": null,
   "id": "c03fbafc",
   "metadata": {},
   "outputs": [],
   "source": [
    "%matplotlib inline # why is this line needed?\n",
    "\n",
    "import pandas as pd\n",
    "\n",
    "import functools # what does this do?\n",
    "from pathlib import Path\n",
    "from itertools import chain # what does this do?\n",
    "from tqdm.autonotebook import tqdm \n",
    "\n",
    "from data_tools.df_processing import char_combine_iter, add_curi\n",
    "from data_tools.plotting import count_plot_h\n",
    "from data_tools.wiki import execute_sparql_query, node_query_pipeline, standardize_nodes, standardize_edges"
   ]
  },
  {
   "cell_type": "code",
   "execution_count": null,
   "id": "f3377bfd",
   "metadata": {},
   "outputs": [],
   "source": [
    "def process_taxa(edges): # Integrate process_taxa() function into data_tools package ?\n",
    "    nodes = edges.drop_duplicates(subset=['taxon', 'tax_id'])[['taxon', 'taxonLabel', 'tax_id']]\n",
    "    nodes = add_curi(nodes, {'tax_id': 'NCBITaxon'})\n",
    "    return standardize_nodes(nodes, 'taxon')"
   ]
  },
  {
   "cell_type": "code",
   "execution_count": null,
   "id": "65e51f73",
   "metadata": {},
   "outputs": [],
   "source": [
    "# What is happening in this code cell?\n",
    "# Why do we need nodes to get edges? Is it a good idea that we have them?\n",
    "\n",
    "prev_dir = Path('../results/').resolve()\n",
    "prev_nodes = pd.read_csv(prev_dir.joinpath('01a-b_nodes.csv')) "
   ]
  },
  {
   "cell_type": "code",
   "execution_count": null,
   "id": "dda92c57",
   "metadata": {},
   "outputs": [],
   "source": [
    "nodes = []\n",
    "edges = []"
   ]
  },
  {
   "cell_type": "markdown",
   "id": "e014f868",
   "metadata": {},
   "source": [
    "## Taxa\n",
    "We will account for the various taxa involved or related to disease. This will include 2 types of syntax, and 2 approaches. <br>\n",
    "\n",
    "#### Syntax in the WikiData data model\n",
    "\n",
    "1. Direct statements:  \n",
    "    Taxon has-effect Disease... or Disease has-cause Taxon \n",
    "\n",
    "2. Qualifier Statements:  \n",
    "    Disease has-cause infection (qual: of Taxon) \n",
    "\n",
    "#### Approaches  in the WikiData data model\n",
    "1. Direct links:      \n",
    "    Taxon has-effect Disease\n",
    "    \n",
    "\n",
    "2. Punning down to a specific taxonomic level:  \n",
    "    Partent_taxon has-effect Disease  \n",
    "    Taxon has-parent* Parent_taxon  \n",
    "    Taxon has-rank Species "
   ]
  },
  {
   "cell_type": "code",
   "execution_count": null,
   "id": "4dcc6f33",
   "metadata": {},
   "outputs": [],
   "source": []
  },
  {
   "cell_type": "markdown",
   "id": "fec2b8db",
   "metadata": {},
   "source": [
    "## Query\n",
    "Biomedically relevant edge types in Wikidata (ordered alphabetically) <br>\n",
    "To affirm a edge type category has been added, move it to its own cell and view separately using the 'print' function."
   ]
  },
  {
   "cell_type": "markdown",
   "id": "fc1e83e6",
   "metadata": {},
   "source": [
    "## Taxon Causes Disease (2 syntax, 2 approches) *why this part?\n",
    "\n",
    "Theyre are two syntax for taxon causes disease that exist in the WikiData data model:\n",
    "\n",
    "1. Direct statements:  \n",
    "    Taxon has-effect Disease... or Disease has-cause Taxon \n",
    "\n",
    "\n",
    "2. Qualifier Statements:  \n",
    "    Disease has-cause infection (qual: of Taxon) \n",
    "    \n",
    "There are also two approaches:\n",
    "\n",
    "1. Direct links:      \n",
    "    Taxon has-effect Disease\n",
    "\n",
    "\n",
    "2. Punning down to a specific taxonomic level:  \n",
    "    Partent_taxon has-effect Disease  \n",
    "    Taxon has-parent* Parent_taxon  \n",
    "    Taxon has-rank Species \n",
    "\n",
    "### Syntax 1: disease has-cause infection - qualifier: of TAXON"
   ]
  },
  {
   "cell_type": "code",
   "execution_count": null,
   "id": "00ce31be",
   "metadata": {},
   "outputs": [],
   "source": [
    "q = \"\"\"    SELECT DISTINCT ?disease ?taxon ?taxonLabel ?tax_id\n",
    "    WHERE \n",
    "    {\n",
    "     {?disease wdt:P31 wd:Q12136}UNION{?disease wdt:P699 ?doid}.\n",
    "\n",
    "     ?disease p:P828 [ps:P828 wd:Q166231;\n",
    "                       pq:P642 ?taxon;].\n",
    "      OPTIONAL{?taxon wdt:P685 ?tax_id}.\n",
    "          \n",
    "      SERVICE wikibase:label { bd:serviceParam wikibase:language \"[AUTO_LANGUAGE],en\". }\n",
    "    }\"\"\""
   ]
  },
  {
   "cell_type": "code",
   "execution_count": null,
   "id": "a33661e0",
   "metadata": {},
   "outputs": [],
   "source": [
    "qr = execute_sparql_query(q)\n",
    "tax_nodes = process_taxa(qr)\n",
    "edge_res = standardize_edges(qr, 'taxon', 'disease', 'causes')\n",
    "\n",
    "nodes.append(tax_nodes)\n",
    "edges.append(edge_res)\n",
    "\n",
    "edge_res.head()"
   ]
  }
 ],
 "metadata": {
  "kernelspec": {
   "display_name": "Python 3",
   "language": "python",
   "name": "python3"
  },
  "language_info": {
   "codemirror_mode": {
    "name": "ipython",
    "version": 3
   },
   "file_extension": ".py",
   "mimetype": "text/x-python",
   "name": "python",
   "nbconvert_exporter": "python",
   "pygments_lexer": "ipython3",
   "version": "3.8.8"
  }
 },
 "nbformat": 4,
 "nbformat_minor": 5
}
