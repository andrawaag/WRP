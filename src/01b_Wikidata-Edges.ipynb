{
 "cells": [
  {
   "cell_type": "markdown",
   "id": "e2617148",
   "metadata": {},
   "source": [
    "This notebook applies SPARQL query to retrieve and download biomedically relevant edge category types from Wikidata to be utilized by the downstream drug repurposing algorithm.\n",
    "\n",
    "I. [Load Packages](#Load) [clicking on phrase will take you directly to section] <br>\n",
    "II. [Infectious Taxa as Part of Network](#Taxa) <br>\n",
    "\n",
    "\n",
    "III. [Query for Biomedical Edge Types in Wikidata](#Query) <br>\n",
    "IV. [Concatenate Node Types and Save as .csv](#Concatenate) <br>"
   ]
  },
  {
   "cell_type": "markdown",
   "id": "12f32c95",
   "metadata": {},
   "source": [
    "## Load \n",
    "Packages and modules with relevant functions"
   ]
  },
  {
   "cell_type": "code",
   "execution_count": 5,
   "id": "6b28713f",
   "metadata": {},
   "outputs": [
    {
     "name": "stderr",
     "output_type": "stream",
     "text": [
      "<ipython-input-5-820a0019ca1f>:8: TqdmExperimentalWarning: Using `tqdm.autonotebook.tqdm` in notebook mode. Use `tqdm.tqdm` instead to force console mode (e.g. in jupyter console)\n",
      "  from tqdm.autonotebook import tqdm\n"
     ]
    }
   ],
   "source": [
    "%matplotlib inline \n",
    "# why is above line needed?\n",
    "import pandas as pd\n",
    "\n",
    "import functools # what does this do?\n",
    "from pathlib import Path\n",
    "from itertools import chain # what does this do?\n",
    "from tqdm.autonotebook import tqdm \n",
    "\n",
    "from data_tools.df_processing import char_combine_iter, add_curi\n",
    "from data_tools.plotting import count_plot_h\n",
    "from data_tools.wiki import execute_sparql_query, node_query_pipeline, standardize_nodes, standardize_edges"
   ]
  },
  {
   "cell_type": "code",
   "execution_count": 6,
   "id": "c71ca940",
   "metadata": {},
   "outputs": [],
   "source": [
    "def process_taxa(edges): # Integrate process_taxa() function into data_tools package ?\n",
    "    nodes = edges.drop_duplicates(subset=['taxon', 'tax_id'])[['taxon', 'taxonLabel', 'tax_id']]\n",
    "    nodes = add_curi(nodes, {'tax_id': 'NCBITaxon'})\n",
    "    return standardize_nodes(nodes, 'taxon')"
   ]
  },
  {
   "cell_type": "code",
   "execution_count": 8,
   "id": "fb39e226",
   "metadata": {},
   "outputs": [],
   "source": [
    "# What is happening in this code cell?\n",
    "# Why do we need nodes to get edges? Is it a good idea that we have them?\n",
    "\n",
    "prev_dir = Path('../results/').resolve()\n",
    "prev_nodes = pd.read_csv(prev_dir.joinpath('01a_nodes.csv')) "
   ]
  },
  {
   "cell_type": "code",
   "execution_count": 9,
   "id": "592ebf42",
   "metadata": {},
   "outputs": [],
   "source": [
    "nodes = []\n",
    "edges = []"
   ]
  },
  {
   "cell_type": "markdown",
   "id": "30fcc8c8",
   "metadata": {},
   "source": [
    "## Taxa\n",
    "We will account for the various taxa involved in or related to disease. This will include 2 types of syntax, and 2 approaches.\n",
    "\n",
    "#### Syntax in the WikiData data model\n",
    "\n",
    "1. Direct statements:  \n",
    "    Taxon has-effect Disease... or Disease has-cause Taxon \n",
    "    \n",
    "\n",
    "2. Qualifier Statements:  \n",
    "    Disease has-cause infection (qual: of Taxon) \n",
    "\n",
    "#### Approaches  in the WikiData data model\n",
    "1. Direct links:      \n",
    "    Taxon has-effect Disease\n",
    "    \n",
    "\n",
    "2. Punning down to a specific taxonomic level:  \n",
    "    Partent_taxon has-effect Disease  \n",
    "    Taxon has-parent* Parent_taxon  \n",
    "    Taxon has-rank Species "
   ]
  },
  {
   "cell_type": "code",
   "execution_count": 24,
   "id": "90856486",
   "metadata": {},
   "outputs": [
    {
     "data": {
      "text/html": [
       "<div>\n",
       "<style scoped>\n",
       "    .dataframe tbody tr th:only-of-type {\n",
       "        vertical-align: middle;\n",
       "    }\n",
       "\n",
       "    .dataframe tbody tr th {\n",
       "        vertical-align: top;\n",
       "    }\n",
       "\n",
       "    .dataframe thead th {\n",
       "        text-align: right;\n",
       "    }\n",
       "</style>\n",
       "<table border=\"1\" class=\"dataframe\">\n",
       "  <thead>\n",
       "    <tr style=\"text-align: right;\">\n",
       "      <th></th>\n",
       "      <th>start_id</th>\n",
       "      <th>end_id</th>\n",
       "      <th>type</th>\n",
       "      <th>dsrc_type</th>\n",
       "      <th>comp_type</th>\n",
       "    </tr>\n",
       "  </thead>\n",
       "  <tbody>\n",
       "    <tr>\n",
       "      <th>0</th>\n",
       "      <td>Q10419976</td>\n",
       "      <td>Q356713</td>\n",
       "      <td>causes</td>\n",
       "      <td>computed</td>\n",
       "      <td>punning</td>\n",
       "    </tr>\n",
       "    <tr>\n",
       "      <th>1</th>\n",
       "      <td>Q10419992</td>\n",
       "      <td>Q356713</td>\n",
       "      <td>causes</td>\n",
       "      <td>computed</td>\n",
       "      <td>punning</td>\n",
       "    </tr>\n",
       "    <tr>\n",
       "      <th>2</th>\n",
       "      <td>Q10420018</td>\n",
       "      <td>Q356713</td>\n",
       "      <td>causes</td>\n",
       "      <td>computed</td>\n",
       "      <td>punning</td>\n",
       "    </tr>\n",
       "    <tr>\n",
       "      <th>3</th>\n",
       "      <td>Q10419948</td>\n",
       "      <td>Q356713</td>\n",
       "      <td>causes</td>\n",
       "      <td>computed</td>\n",
       "      <td>punning</td>\n",
       "    </tr>\n",
       "    <tr>\n",
       "      <th>4</th>\n",
       "      <td>Q10420014</td>\n",
       "      <td>Q356713</td>\n",
       "      <td>causes</td>\n",
       "      <td>computed</td>\n",
       "      <td>punning</td>\n",
       "    </tr>\n",
       "  </tbody>\n",
       "</table>\n",
       "</div>"
      ],
      "text/plain": [
       "    start_id   end_id    type dsrc_type comp_type\n",
       "0  Q10419976  Q356713  causes  computed   punning\n",
       "1  Q10419992  Q356713  causes  computed   punning\n",
       "2  Q10420018  Q356713  causes  computed   punning\n",
       "3  Q10419948  Q356713  causes  computed   punning\n",
       "4  Q10420014  Q356713  causes  computed   punning"
      ]
     },
     "execution_count": 24,
     "metadata": {},
     "output_type": "execute_result"
    }
   ],
   "source": [
    "# Approach 1\n",
    "## Syntax 1 -- Direct statement: Disease causes infection\n",
    "q = \"\"\"SELECT DISTINCT ?disease ?taxon ?taxonLabel ?tax_id\n",
    "    WHERE {{?disease wdt:P31 wd:Q12136}UNION{?disease wdt:P699 ?doid}.\n",
    "      ?disease p:P828 [ps:P828 wd:Q166231;pq:P642 ?taxon;].\n",
    "      OPTIONAL{?taxon wdt:P685 ?tax_id}.\n",
    "      SERVICE wikibase:label { bd:serviceParam wikibase:language \"[AUTO_LANGUAGE],en\". }}\"\"\"\n",
    "\n",
    "qr = execute_sparql_query(q)\n",
    "tax_nodes = process_taxa(qr)\n",
    "edge_res = standardize_edges(qr, 'taxon', 'disease', 'causes')\n",
    "\n",
    "nodes.append(tax_nodes)\n",
    "edges.append(edge_res)\n",
    "\n",
    "## Syntax 2 -- Qualifier statements\n",
    "### a. disease has-cause TAXON \n",
    "q = \"\"\"SELECT DISTINCT ?disease ?diseaseLabel ?doid ?taxon ?taxonLabel ?tax_id\n",
    "    WHERE {{?disease wdt:P31 wd:Q12136}UNION{?disease wdt:P699 ?doid}.\n",
    "        ?taxon wdt:P685 ?tax_id. \n",
    "       {?disease wdt:P828 ?taxon}UNION{?taxon wdt:P1542 ?disease}.\n",
    "        OPTIONAL {?disease wdt:P699 ?doid.}\n",
    "      SERVICE wikibase:label { bd:serviceParam wikibase:language \"[AUTO_LANGUAGE],en\". }}\"\"\"\n",
    "\n",
    "qr = execute_sparql_query(q)\n",
    "tax_nodes = process_taxa(qr)\n",
    "edge_res = standardize_edges(qr, 'taxon', 'disease', 'causes')\n",
    "\n",
    "nodes.append(tax_nodes)\n",
    "edges.append(edge_res)\n",
    "\n",
    "### b. TAXON has-effect Disease\n",
    "q = \"\"\"SELECT DISTINCT ?disease ?diseaseLabel ?doid ?taxon ?taxonLabel ?tax_id\n",
    "    WHERE {{?disease wdt:P31 wd:Q12136}UNION{?disease wdt:P699 ?doid}.\n",
    "        ?taxon wdt:P685 ?tax_id.\n",
    "           {?disease wdt:P828 ?taxon}UNION{?taxon wdt:P1542 ?disease}.\n",
    "           OPTIONAL {?disease wdt:P699 ?doid.}\n",
    "           SERVICE wikibase:label { bd:serviceParam wikibase:language \"[AUTO_LANGUAGE],en\". }}\"\"\"\n",
    "\n",
    "qr = execute_sparql_query(q)\n",
    "tax_nodes = process_taxa(qr)\n",
    "edge_res = standardize_edges(qr, 'taxon', 'disease', 'causes')\n",
    "\n",
    "nodes.append(tax_nodes)\n",
    "edges.append(edge_res)\n",
    "\n",
    "# Approach 2\n",
    "## Syntax 1\n",
    "q = \"\"\"SELECT DISTINCT ?disease ?diseaseLabel ?doid ?parent_tax ?parent_taxLabel ?par_taxid ?taxon ?taxonLabel ?tax_id\n",
    "    WHERE {{?disease wdt:P31 wd:Q12136}UNION{?disease wdt:P699 ?doid}.\n",
    "      ?disease p:P828 [ps:P828 wd:Q166231;\n",
    "                       pq:P642 ?parent_tax;].\n",
    "      OPTIONAL{?disease wdt:P699 ?doid}.\n",
    "      OPTIONAL{?parent_tax wdt:P685 ?par_taxid}.\n",
    "      FILTER NOT EXISTS {?parent_tax wdt:P105 wd:Q36732}.\n",
    "      FILTER NOT EXISTS {?parent_tax wdt:P105 wd:Q3978005}.\n",
    "      {?taxon wdt:P171+ ?parent_tax}UNION{?parent_tax wdt:P171+ ?taxon}\n",
    "      ?taxon wdt:P105 wd:Q7432 .\n",
    "      ?taxon wdt:P685 ?tax_id    \n",
    "      SERVICE wikibase:label { bd:serviceParam wikibase:language \"[AUTO_LANGUAGE],en\". }}\"\"\"\n",
    "\n",
    "qr = execute_sparql_query(q)\n",
    "tax_nodes = process_taxa(qr)\n",
    "edge_res = standardize_edges(qr, 'taxon', 'disease', 'causes', 'computed')\n",
    "edge_res['comp_type'] = 'punning'\n",
    "\n",
    "nodes.append(tax_nodes)\n",
    "edges.append(edge_res)\n",
    "\n",
    "## Syntax 2\n",
    "q = \"\"\"SELECT DISTINCT ?disease ?diseaseLabel ?doid ?parent_tax ?parent_taxLabel ?parent_tax_id ?taxon ?taxonLabel ?tax_id\n",
    "    WHERE {{?disease wdt:P31 wd:Q12136}UNION{?disease wdt:P699 ?doid}.\n",
    "        ?parent_tax wdt:P685 ?parent_tax_id. \n",
    "      FILTER NOT EXISTS {?parent_tax wdt:P105 wd:Q36732}.\n",
    "      FILTER NOT EXISTS {?parent_tax wdt:P105 wd:Q3978005}.      \n",
    "       {?disease wdt:P828 ?parent_tax}UNION{?parent_tax wdt:P1542 ?disease}.\n",
    "        OPTIONAL {?disease wdt:P699 ?doid.}\n",
    "      {?taxon wdt:P171+ ?parent_tax}UNION{?parent_tax wdt:P171+ ?taxon}\n",
    "      ?taxon wdt:P685 ?tax_id .\n",
    "      ?taxon wdt:P105 wd:Q7432 .\n",
    "      SERVICE wikibase:label { bd:serviceParam wikibase:language \"[AUTO_LANGUAGE],en\". }}\"\"\"\n",
    "\n",
    "qr = execute_sparql_query(q)\n",
    "tax_nodes = process_taxa(qr)\n",
    "edge_res = standardize_edges(qr, 'taxon', 'disease', 'causes', 'computed')\n",
    "edge_res['comp_type'] = 'punning'\n",
    "\n",
    "nodes.append(tax_nodes)\n",
    "edges.append(edge_res)\n",
    "\n",
    "# Remove duplicates\n",
    "tax_nodes = pd.concat(nodes, sort=False, ignore_index=True).drop_duplicates(subset=['id'])\n",
    "nodes = [tax_nodes]\n",
    "\n",
    "# "
   ]
  },
  {
   "cell_type": "code",
   "execution_count": 26,
   "id": "2bdf6097",
   "metadata": {},
   "outputs": [],
   "source": [
    "# Remove duplicates\n",
    "tax_nodes = pd.concat(nodes, sort=False, ignore_index=True).drop_duplicates(subset=['id'])\n",
    "nodes = [tax_nodes]"
   ]
  },
  {
   "cell_type": "code",
   "execution_count": 27,
   "id": "b4a5256b",
   "metadata": {},
   "outputs": [
    {
     "data": {
      "text/plain": [
       "43609"
      ]
     },
     "execution_count": 27,
     "metadata": {},
     "output_type": "execute_result"
    }
   ],
   "source": [
    "len(tax_nodes)"
   ]
  },
  {
   "cell_type": "code",
   "execution_count": 25,
   "id": "491e65cf",
   "metadata": {},
   "outputs": [
    {
     "data": {
      "text/html": [
       "<div>\n",
       "<style scoped>\n",
       "    .dataframe tbody tr th:only-of-type {\n",
       "        vertical-align: middle;\n",
       "    }\n",
       "\n",
       "    .dataframe tbody tr th {\n",
       "        vertical-align: top;\n",
       "    }\n",
       "\n",
       "    .dataframe thead th {\n",
       "        text-align: right;\n",
       "    }\n",
       "</style>\n",
       "<table border=\"1\" class=\"dataframe\">\n",
       "  <thead>\n",
       "    <tr style=\"text-align: right;\">\n",
       "      <th></th>\n",
       "      <th>id</th>\n",
       "      <th>name</th>\n",
       "      <th>label</th>\n",
       "      <th>xrefs</th>\n",
       "    </tr>\n",
       "  </thead>\n",
       "  <tbody>\n",
       "    <tr>\n",
       "      <th>0</th>\n",
       "      <td>Q100152243</td>\n",
       "      <td>Fomitopsis mounceae</td>\n",
       "      <td>Taxon</td>\n",
       "      <td>NCBITaxon:2126941</td>\n",
       "    </tr>\n",
       "    <tr>\n",
       "      <th>1</th>\n",
       "      <td>Q1002578</td>\n",
       "      <td>Babesia divergens</td>\n",
       "      <td>Taxon</td>\n",
       "      <td>NCBITaxon:32595</td>\n",
       "    </tr>\n",
       "    <tr>\n",
       "      <th>2</th>\n",
       "      <td>Q100348353</td>\n",
       "      <td>Ruhugu virus</td>\n",
       "      <td>Taxon</td>\n",
       "      <td>NCBITaxon:2652755</td>\n",
       "    </tr>\n",
       "    <tr>\n",
       "      <th>3</th>\n",
       "      <td>Q100378193</td>\n",
       "      <td>Cantharellus lutescens</td>\n",
       "      <td>Taxon</td>\n",
       "      <td>NCBITaxon:104198</td>\n",
       "    </tr>\n",
       "    <tr>\n",
       "      <th>4</th>\n",
       "      <td>Q100604983</td>\n",
       "      <td>Stamnaria yugrana</td>\n",
       "      <td>Taxon</td>\n",
       "      <td>NCBITaxon:2059531</td>\n",
       "    </tr>\n",
       "  </tbody>\n",
       "</table>\n",
       "</div>"
      ],
      "text/plain": [
       "           id                    name  label              xrefs\n",
       "0  Q100152243     Fomitopsis mounceae  Taxon  NCBITaxon:2126941\n",
       "1    Q1002578       Babesia divergens  Taxon    NCBITaxon:32595\n",
       "2  Q100348353            Ruhugu virus  Taxon  NCBITaxon:2652755\n",
       "3  Q100378193  Cantharellus lutescens  Taxon   NCBITaxon:104198\n",
       "4  Q100604983       Stamnaria yugrana  Taxon  NCBITaxon:2059531"
      ]
     },
     "execution_count": 25,
     "metadata": {},
     "output_type": "execute_result"
    }
   ],
   "source": [
    "tax_nodes.head()"
   ]
  },
  {
   "cell_type": "markdown",
   "id": "ba485d4c",
   "metadata": {},
   "source": [
    "## Query\n",
    "Biomedically relevant edge types in Wikidata (ordered alphabetically) <br>\n",
    "To affirm a edge type category has been added, move it to its own cell and view separately using the 'print' function."
   ]
  },
  {
   "cell_type": "markdown",
   "id": "01799488",
   "metadata": {},
   "source": [
    "## Taxon Causes Disease (2 syntax, 2 approches) *why this part?\n",
    "\n",
    "Theyre are two syntax for taxon causes disease that exist in the WikiData data model:\n",
    "\n",
    "1. Direct statements:  \n",
    "    Taxon has-effect Disease... or Disease has-cause Taxon \n",
    "\n",
    "\n",
    "2. Qualifier Statements:  \n",
    "    Disease has-cause infection (qual: of Taxon) \n",
    "    \n",
    "There are also two approaches:\n",
    "\n",
    "1. Direct links:      \n",
    "    Taxon has-effect Disease\n",
    "\n",
    "\n",
    "2. Punning down to a specific taxonomic level:  \n",
    "    Partent_taxon has-effect Disease  \n",
    "    Taxon has-parent* Parent_taxon  \n",
    "    Taxon has-rank Species \n",
    "\n",
    "### Syntax 1: disease has-cause infection - qualifier: of TAXON"
   ]
  },
  {
   "cell_type": "code",
   "execution_count": null,
   "id": "3be82e06",
   "metadata": {},
   "outputs": [],
   "source": [
    "q = \"\"\"    SELECT DISTINCT ?disease ?taxon ?taxonLabel ?tax_id\n",
    "    WHERE \n",
    "    {\n",
    "     {?disease wdt:P31 wd:Q12136}UNION{?disease wdt:P699 ?doid}.\n",
    "\n",
    "     ?disease p:P828 [ps:P828 wd:Q166231;\n",
    "                       pq:P642 ?taxon;].\n",
    "      OPTIONAL{?taxon wdt:P685 ?tax_id}.\n",
    "          \n",
    "      SERVICE wikibase:label { bd:serviceParam wikibase:language \"[AUTO_LANGUAGE],en\". }\n",
    "    }\"\"\""
   ]
  },
  {
   "cell_type": "code",
   "execution_count": null,
   "id": "9c2683c6",
   "metadata": {},
   "outputs": [],
   "source": [
    "qr = execute_sparql_query(q)\n",
    "tax_nodes = process_taxa(qr)\n",
    "edge_res = standardize_edges(qr, 'taxon', 'disease', 'causes')\n",
    "\n",
    "nodes.append(tax_nodes)\n",
    "edges.append(edge_res)\n",
    "\n",
    "edge_res.head()"
   ]
  }
 ],
 "metadata": {
  "kernelspec": {
   "display_name": "Python 3",
   "language": "python",
   "name": "python3"
  },
  "language_info": {
   "codemirror_mode": {
    "name": "ipython",
    "version": 3
   },
   "file_extension": ".py",
   "mimetype": "text/x-python",
   "name": "python",
   "nbconvert_exporter": "python",
   "pygments_lexer": "ipython3",
   "version": "3.8.8"
  }
 },
 "nbformat": 4,
 "nbformat_minor": 5
}
