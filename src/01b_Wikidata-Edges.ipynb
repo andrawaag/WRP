{
 "cells": [
  {
   "cell_type": "markdown",
   "id": "cafcdae2",
   "metadata": {},
   "source": [
    "This notebook applies SPARQL query to retrieve and download biomedically relevant edge category types from Wikidata to be utilized by the downstream drug repurposing algorithm. The nodes.csv from the previous notebook is utilized here.\n",
    "\n",
    "I. [Load Packages](#Load) [clicking on phrase will take you directly to section] <br>\n",
    "II. [Identification and Filtering of Infectious Taxa as Part of Network](#Taxa) <br>\n",
    "III. [Mapping Edges to Node Types](#Map)<br>\n",
    "IV. [Concatenate and View Updated Node and Edge Results, Save as .csv files](#Concatenate) <br>"
   ]
  },
  {
   "cell_type": "markdown",
   "id": "6c572c02",
   "metadata": {},
   "source": [
    "## Load \n",
    "Packages and modules with relevant functions"
   ]
  },
  {
   "cell_type": "code",
   "execution_count": 1,
   "id": "4a76f7db",
   "metadata": {},
   "outputs": [
    {
     "name": "stderr",
     "output_type": "stream",
     "text": [
      "<ipython-input-1-6ef170f777f5>:12: TqdmExperimentalWarning: Using `tqdm.autonotebook.tqdm` in notebook mode. Use `tqdm.tqdm` instead to force console mode (e.g. in jupyter console)\n",
      "  from tqdm.autonotebook import tqdm\n"
     ]
    }
   ],
   "source": [
    "%matplotlib inline \n",
    "# Above line visualizes plots, cannot put note on side because of %\n",
    "\n",
    "import pandas as pd\n",
    "\n",
    "import time \n",
    "from datetime import datetime\n",
    "\n",
    "import functools \n",
    "from pathlib import Path\n",
    "from itertools import chain \n",
    "from tqdm.autonotebook import tqdm \n",
    "\n",
    "from data_tools.df_processing import char_combine_iter, add_curi\n",
    "from data_tools.plotting import count_plot_h\n",
    "from data_tools.wiki import execute_sparql_query, node_query_pipeline, standardize_nodes, standardize_edges"
   ]
  },
  {
   "cell_type": "code",
   "execution_count": 2,
   "id": "2b1954d3",
   "metadata": {},
   "outputs": [],
   "source": [
    "def process_taxa(edges): \n",
    "    nodes = edges.drop_duplicates(subset=['taxon', 'tax_id'])[['taxon', 'taxonLabel', 'tax_id']]\n",
    "    nodes = add_curi(nodes, {'tax_id': 'NCBITaxon'})\n",
    "    return standardize_nodes(nodes, 'taxon')"
   ]
  },
  {
   "cell_type": "code",
   "execution_count": 3,
   "id": "43888e60",
   "metadata": {},
   "outputs": [],
   "source": [
    "# Connects path, irrespective of OS\n",
    "prev_dir = Path('../results/').resolve()\n",
    "prev_nodes = pd.read_csv(prev_dir.joinpath('01a_nodes.csv')) "
   ]
  },
  {
   "cell_type": "code",
   "execution_count": 4,
   "id": "a2e7d19c",
   "metadata": {},
   "outputs": [],
   "source": [
    "nodes = []\n",
    "edges = []"
   ]
  },
  {
   "cell_type": "markdown",
   "id": "d9ef5f78",
   "metadata": {},
   "source": [
    "## Taxa\n",
    "Account for the various taxa involved in or related to disease. This will include 2 types of syntax, and 2 approaches.\n",
    "\n",
    "#### Syntax in the Wikidata data model\n",
    "\n",
    "1. Direct statements:  \n",
    "    Taxon has-effect Disease... or Disease has-cause Taxon \n",
    "    \n",
    "\n",
    "2. Qualifier Statements:  \n",
    "    Disease has-cause infection (qual: of Taxon) \n",
    "\n",
    "#### Approaches  in the Wikidata data model\n",
    "1. Direct links:      \n",
    "    Taxon has-effect Disease\n",
    "    \n",
    "\n",
    "2. Punning down to a specific taxonomic level:  \n",
    "    Partent_taxon has-effect Disease  \n",
    "    Taxon has-parent* Parent_taxon  \n",
    "    Taxon has-rank Species "
   ]
  },
  {
   "cell_type": "code",
   "execution_count": 5,
   "id": "9a7403b9",
   "metadata": {},
   "outputs": [
    {
     "name": "stdout",
     "output_type": "stream",
     "text": [
      "The total time of this query is: 1.1474489331245423 minutes\n"
     ]
    }
   ],
   "source": [
    "# Create time stamp\n",
    "timeStringNow = datetime.now().strftime(\"+%Y-%m-%dT00:00:00Z\") \n",
    "start_time = time.time()\n",
    "\n",
    "# Approach 1\n",
    "## Syntax 1 -- Direct statement: Disease causes infection\n",
    "q = \"\"\"SELECT DISTINCT ?disease ?taxon ?taxonLabel ?tax_id\n",
    "    WHERE {{?disease wdt:P31 wd:Q12136}UNION{?disease wdt:P699 ?doid}.\n",
    "      ?disease p:P828 [ps:P828 wd:Q166231;pq:P642 ?taxon;].\n",
    "      OPTIONAL{?taxon wdt:P685 ?tax_id}.\n",
    "      SERVICE wikibase:label { bd:serviceParam wikibase:language \"[AUTO_LANGUAGE],en\". }}\"\"\"\n",
    "\n",
    "qr = execute_sparql_query(q) # Query\n",
    "tax_nodes = process_taxa(qr) # Query by taxa\n",
    "edge_res = standardize_edges(qr, 'taxon', 'disease', 'causes') # Standardize taxon, disease, and causes\n",
    "nodes.append(tax_nodes) # Update nodes\n",
    "edges.append(edge_res) # Update edges\n",
    "\n",
    "## Syntax 2 -- Qualifier statements\n",
    "### a. disease has-cause TAXON \n",
    "q = \"\"\"SELECT DISTINCT ?disease ?diseaseLabel ?doid ?taxon ?taxonLabel ?tax_id\n",
    "    WHERE {{?disease wdt:P31 wd:Q12136}UNION{?disease wdt:P699 ?doid}.\n",
    "        ?taxon wdt:P685 ?tax_id. \n",
    "       {?disease wdt:P828 ?taxon}UNION{?taxon wdt:P1542 ?disease}.\n",
    "        OPTIONAL {?disease wdt:P699 ?doid.}\n",
    "      SERVICE wikibase:label { bd:serviceParam wikibase:language \"[AUTO_LANGUAGE],en\". }}\"\"\"\n",
    "\n",
    "qr = execute_sparql_query(q)\n",
    "tax_nodes = process_taxa(qr)\n",
    "edge_res = standardize_edges(qr, 'taxon', 'disease', 'causes')\n",
    "nodes.append(tax_nodes)\n",
    "edges.append(edge_res)\n",
    "\n",
    "### b. TAXON has-effect Disease\n",
    "q = \"\"\"SELECT DISTINCT ?disease ?diseaseLabel ?doid ?taxon ?taxonLabel ?tax_id\n",
    "    WHERE {{?disease wdt:P31 wd:Q12136}UNION{?disease wdt:P699 ?doid}.\n",
    "        ?taxon wdt:P685 ?tax_id.\n",
    "           {?disease wdt:P828 ?taxon}UNION{?taxon wdt:P1542 ?disease}.\n",
    "           OPTIONAL {?disease wdt:P699 ?doid.}\n",
    "           SERVICE wikibase:label { bd:serviceParam wikibase:language \"[AUTO_LANGUAGE],en\". }}\"\"\"\n",
    "\n",
    "qr = execute_sparql_query(q)\n",
    "tax_nodes = process_taxa(qr)\n",
    "edge_res = standardize_edges(qr, 'taxon', 'disease', 'causes')\n",
    "nodes.append(tax_nodes)\n",
    "edges.append(edge_res)\n",
    "\n",
    "# Approach 2 \n",
    "## Syntax 1\n",
    "q = \"\"\"SELECT DISTINCT ?disease ?diseaseLabel ?doid ?parent_tax ?parent_taxLabel ?par_taxid ?taxon ?taxonLabel ?tax_id\n",
    "    WHERE {{?disease wdt:P31 wd:Q12136}UNION{?disease wdt:P699 ?doid}.\n",
    "      ?disease p:P828 [ps:P828 wd:Q166231;\n",
    "                       pq:P642 ?parent_tax;].\n",
    "      OPTIONAL{?disease wdt:P699 ?doid}.\n",
    "      OPTIONAL{?parent_tax wdt:P685 ?par_taxid}.\n",
    "      FILTER NOT EXISTS {?parent_tax wdt:P105 wd:Q36732}.\n",
    "      FILTER NOT EXISTS {?parent_tax wdt:P105 wd:Q3978005}.\n",
    "      {?taxon wdt:P171+ ?parent_tax}UNION{?parent_tax wdt:P171+ ?taxon}\n",
    "      ?taxon wdt:P105 wd:Q7432 .\n",
    "      ?taxon wdt:P685 ?tax_id    \n",
    "      SERVICE wikibase:label { bd:serviceParam wikibase:language \"[AUTO_LANGUAGE],en\". }}\"\"\"\n",
    "\n",
    "qr = execute_sparql_query(q)\n",
    "tax_nodes = process_taxa(qr)\n",
    "edge_res = standardize_edges(qr, 'taxon', 'disease', 'causes', 'computed')\n",
    "edge_res['comp_type'] = 'punning' # What does this do? What is meant by 'punning'?\n",
    "nodes.append(tax_nodes)\n",
    "edges.append(edge_res)\n",
    "\n",
    "## Syntax 2 \n",
    "q = \"\"\"SELECT DISTINCT ?disease ?diseaseLabel ?doid ?parent_tax ?parent_taxLabel ?parent_tax_id ?taxon ?taxonLabel ?tax_id\n",
    "    WHERE \n",
    "    {{?disease wdt:P31 wd:Q12136}UNION{?disease wdt:P699 ?doid}.\n",
    "        ?parent_tax wdt:P685 ?parent_tax_id. \n",
    "      FILTER NOT EXISTS {?parent_tax wdt:P105 wd:Q36732}.\n",
    "      FILTER NOT EXISTS {?parent_tax wdt:P105 wd:Q3978005}.      \n",
    "       {?disease wdt:P828 ?parent_tax}UNION{?parent_tax wdt:P1542 ?disease}.\n",
    "        OPTIONAL {?disease wdt:P699 ?doid.}\n",
    "      {?taxon wdt:P171+ ?parent_tax}UNION{?parent_tax wdt:P171+ ?taxon}\n",
    "      ?taxon wdt:P685 ?tax_id .\n",
    "      ?taxon wdt:P105 wd:Q7432 .\n",
    "      SERVICE wikibase:label { bd:serviceParam wikibase:language \"[AUTO_LANGUAGE],en\". }}\n",
    "      limit 48000\"\"\"\n",
    "\n",
    "qr = execute_sparql_query(q)\n",
    "tax_nodes = process_taxa(qr)\n",
    "edge_res = standardize_edges(qr, 'taxon', 'disease', 'causes', 'computed')\n",
    "edge_res['comp_type'] = 'punning' \n",
    "nodes.append(tax_nodes)\n",
    "edges.append(edge_res)\n",
    "\n",
    "# Output and print when query is complete\n",
    "end_time = time.time() \n",
    "print(\"The total time of this query is:\", (end_time - start_time)/60, \"minutes\")"
   ]
  },
  {
   "cell_type": "code",
   "execution_count": 6,
   "id": "bd7c3860",
   "metadata": {},
   "outputs": [],
   "source": [
    "# Remove duplicates\n",
    "tax_nodes = pd.concat(nodes, sort=False, ignore_index=True).drop_duplicates(subset=['id'])\n",
    "nodes = [tax_nodes]"
   ]
  },
  {
   "cell_type": "markdown",
   "id": "648f71ec",
   "metadata": {},
   "source": [
    "## Map\n",
    "Here we use SPARQL to map node types via edges in Wikidata (ordered *almost* alphabetically) <br>\n",
    "To affirm a edge type category has been added, move it to its own cell and view separately using the 'print' function."
   ]
  },
  {
   "cell_type": "code",
   "execution_count": 7,
   "id": "e00c8798",
   "metadata": {},
   "outputs": [
    {
     "name": "stdout",
     "output_type": "stream",
     "text": [
      "The total time of this query is: 7.847133616606395 minutes\n"
     ]
    }
   ],
   "source": [
    "# Create time stamp\n",
    "timeStringNow = datetime.now().strftime(\"+%Y-%m-%dT00:00:00Z\") \n",
    "start_time = time.time()\n",
    "\n",
    "# IN TAXON (needs to come first for ENCODES)\n",
    "## Focuses on taxa with annotations to genes or proteins in Wikidata\n",
    "### Genes \n",
    "q = \"\"\"SELECT DISTINCT ?taxon\n",
    "    WHERE {?gene wdt:P31 wd:Q7187.\n",
    "      ?gene wdt:P703 ?taxon.}\"\"\"\n",
    "\n",
    "qr = execute_sparql_query(q)\n",
    "gene_taxa = set(qr['taxon'])\n",
    "\n",
    "q = \"\"\"SELECT DISTINCT ?gene ?geneLabel ?entrez ?symbol ?hgnc ?omim ?ensembl\n",
    "        WHERE {{\n",
    "          ?gene wdt:P31 wd:Q7187.\n",
    "          ?gene wdt:P703 wd:{tax}.\n",
    "          OPTIONAL{{?gene wdt:P351 ?entrez .}}\n",
    "          OPTIONAL{{?gene wdt:P353 ?symbol .}}\n",
    "          OPTIONAL{{?gene wdt:P354 ?hgnc .}}\n",
    "          OPTIONAL{{?gene wdt:P492 ?omim .}}\n",
    "          OPTIONAL{{?gene wdt:P594 ?ensembl .}}\n",
    "          SERVICE wikibase:label {{ bd:serviceParam wikibase:language \"[AUTO_LANGAGE],en\" }}}}\"\"\"\n",
    "\n",
    "tax_gene_edges = []\n",
    "gene_curi_map = {'entrez': 'NCBIGene', 'symbol': 'SYM', 'hgnc':'HGNC', 'omim':'OMIM', 'ensembl':'ENSG'}\n",
    "\n",
    "for tax_id in gene_taxa & set(tax_nodes['id']):\n",
    "    this_q = q.format(tax=tax_id)\n",
    "    res = node_query_pipeline(this_q, gene_curi_map, 'gene')\n",
    "    if res is None:\n",
    "        continue\n",
    "    nodes.append(res[['id', 'name', 'label', 'xrefs']].copy())\n",
    "    res['tax'] = tax_id\n",
    "    res_edges = standardize_edges(res, 'id', 'tax', 'in_taxon')\n",
    "    tax_gene_edges.append(res_edges)\n",
    "    \n",
    "gene_tax = pd.concat(tax_gene_edges, sort=False, ignore_index=True)\n",
    "edges.append(gene_tax)\n",
    "\n",
    "q = \"\"\"SELECT DISTINCT ?taxon\n",
    "    WHERE {?gene wdt:P31 wd:Q7187.\n",
    "      ?gene wdt:P703 ?taxon.}\"\"\"\n",
    "\n",
    "qr = execute_sparql_query(q)\n",
    "gene_taxa = set(qr['taxon'])\n",
    "\n",
    "q = \"\"\"SELECT DISTINCT ?gene ?geneLabel ?entrez ?symbol ?hgnc ?omim ?ensembl\n",
    "        WHERE {{\n",
    "          ?gene wdt:P31 wd:Q7187.\n",
    "          ?gene wdt:P703 wd:{tax}.\n",
    "          OPTIONAL{{?gene wdt:P351 ?entrez .}}\n",
    "          OPTIONAL{{?gene wdt:P353 ?symbol .}}\n",
    "          OPTIONAL{{?gene wdt:P354 ?hgnc .}}\n",
    "          OPTIONAL{{?gene wdt:P492 ?omim .}}\n",
    "          OPTIONAL{{?gene wdt:P594 ?ensembl .}}\n",
    "          SERVICE wikibase:label {{ bd:serviceParam wikibase:language \"[AUTO_LANGAGE],en\" }}}}\"\"\"\n",
    "\n",
    "tax_gene_edges = []\n",
    "gene_curi_map = {'entrez': 'NCBIGene', 'symbol': 'SYM', 'hgnc':'HGNC', 'omim':'OMIM', 'ensembl':'ENSG'}\n",
    "\n",
    "for tax_id in gene_taxa & set(tax_nodes['id']):\n",
    "    this_q = q.format(tax=tax_id)\n",
    "    res = node_query_pipeline(this_q, gene_curi_map, 'gene')\n",
    "    if res is None:\n",
    "        continue\n",
    "    nodes.append(res[['id', 'name', 'label', 'xrefs']].copy())\n",
    "    res['tax'] = tax_id\n",
    "    res_edges = standardize_edges(res, 'id', 'tax', 'in_taxon')\n",
    "    tax_gene_edges.append(res_edges)\n",
    "    \n",
    "gene_tax = pd.concat(tax_gene_edges, sort=False, ignore_index=True)\n",
    "edges.append(gene_tax)\n",
    "\n",
    "### Proteins\n",
    "q = \"\"\"SELECT DISTINCT ?taxon\n",
    "    WHERE {?protein wdt:P31 wd:Q8054.\n",
    "      ?protein wdt:P703 ?taxon.}\"\"\"\n",
    "\n",
    "qr = execute_sparql_query(q)\n",
    "prot_taxa = set(qr['taxon'])\n",
    "\n",
    "q = \"\"\"SELECT DISTINCT ?protein ?proteinLabel ?uniprot\n",
    "        WHERE {{\n",
    "          ?protein wdt:P31 wd:Q8054.\n",
    "          ?protein wdt:P703 wd:{tax}.\n",
    "          OPTIONAL{{?protein wdt:P352 ?uniprot .}}\n",
    "          SERVICE wikibase:label {{ bd:serviceParam wikibase:language \"[AUTO_LANGAGE],en\" }}}}\"\"\"\n",
    "\n",
    "tax_prot_edges = []\n",
    "\n",
    "for tax_id in prot_taxa & set(tax_nodes['id']):\n",
    "    this_q = q.format(tax=tax_id)\n",
    "    res = node_query_pipeline(this_q, {'uniprot':'UniProt'}, 'protein')\n",
    "    if res is None:\n",
    "        continue\n",
    "    nodes.append(res[['id', 'name', 'label', 'xrefs']].copy())\n",
    "    res['tax'] = tax_id\n",
    "    res_edges = standardize_edges(res, 'id', 'tax', 'in_taxon')\n",
    "    tax_prot_edges.append(res_edges)\n",
    "    \n",
    "prot_tax = pd.concat(tax_prot_edges, sort=False, ignore_index=True)\n",
    "edges.append(prot_tax)\n",
    "\n",
    "# ASSOCIATED WITH\n",
    "## Gene ASSOCIATED WITH Disease\n",
    "q = \"\"\"SELECT DISTINCT ?disease ?diseaseLabel ?gene ?geneLabel \n",
    "WHERE {{?disease wdt:P31 wd:Q12136}UNION{?disease wdt:P699 ?doid}.\n",
    "    ?gene wdt:P31 wd:Q7187 .\n",
    "    ?disease wdt:P2293 ?gene\n",
    "    SERVICE wikibase:label { bd:serviceParam wikibase:language \"[AUTO_LANGAGE],en\" }}\"\"\"\n",
    "\n",
    "qr = execute_sparql_query(q)\n",
    "edge_res = standardize_edges(qr, 'gene', 'disease', 'associated_with')\n",
    "edges.append(edge_res)\n",
    "\n",
    "## Pathway ASSOCIATED WITH Disease\n",
    "q = \"\"\"SELECT DISTINCT ?pathway ?disease \n",
    "WHERE {\n",
    "    ?pathway wdt:P31 wd:Q4915012 .\n",
    "    FILTER NOT EXISTS{?pathway wdt:P686 ?goid}\n",
    "    {?disease wdt:P31 wd:Q12136 .}UNION{?disease wdt:P699 ?doid}\n",
    "    {?pathway wdt:P1050 ?disease}}\"\"\"\n",
    "\n",
    "qr = execute_sparql_query(q)\n",
    "edge_res = standardize_edges(qr, 'pathway', 'disease', 'associated_with')\n",
    "edges.append(edge_res)\n",
    "\n",
    "# ENABLES\n",
    "## Protein ENABLES Molecular Function\n",
    "q = \"\"\"SELECT DISTINCT ?protein ?molecular_function\n",
    "WHERE {?protein wdt:P31 wd:Q8054.\n",
    "  ?molecular_function wdt:P686 ?goid.\n",
    "  {?protein wdt:P680 ?molecular_function}}\"\"\"\n",
    "\n",
    "qr = execute_sparql_query(q)\n",
    "edge_res = standardize_edges(qr, 'protein', 'molecular_function', 'enables')\n",
    "edges.append(edge_res)\n",
    "\n",
    "# ENCODES\n",
    "## Gene ENCODES Protein (note focus on Homo sapiens)\n",
    "q = \"\"\"SELECT DISTINCT ?gene ?protein \n",
    "WHERE {{\n",
    "  ?gene wdt:P31 wd:Q7187.\n",
    "  ?gene wdt:P703 wd:{tax}.\n",
    "  ?protein wdt:P31 wd:Q8054.\n",
    "  ?protein wdt:P703 wd:{tax}.\n",
    "  {{?gene wdt:P688 ?protein}}UNION{{?protein wdt:P702 ?gene}}}}\"\"\"\n",
    "\n",
    "human_tax_id = 'Q15978631'\n",
    "encodes_edges = []\n",
    "infectious_tax = list(set(gene_tax['end_id']) & set(prot_tax['end_id']))\n",
    "\n",
    "for tax in infectious_tax + [human_tax_id]:\n",
    "    this_q = q.format(tax=tax)\n",
    "    qr = execute_sparql_query(this_q)\n",
    "    if qr is not None:\n",
    "        this_edge = standardize_edges(qr, 'gene', 'protein', 'encodes')\n",
    "        encodes_edges.append(this_edge)\n",
    "        \n",
    "encodes_edges = pd.concat(encodes_edges, sort=False, ignore_index=True)\n",
    "edges.append(encodes_edges) \n",
    "\n",
    "# HAS PART\n",
    "## Pathway HAS PART Compoound\n",
    "q = \"\"\"SELECT DISTINCT ?pathway ?compound \n",
    "WHERE {\n",
    "    ?pathway wdt:P31 wd:Q4915012 .\n",
    "    FILTER NOT EXISTS{?pathway wdt:P686 ?goid}\n",
    "    ?compound wdt:P31 wd:Q11173 .\n",
    "    ?pathway wdt:P527 ?compound}\"\"\"\n",
    "\n",
    "qr = execute_sparql_query(q)\n",
    "edge_res = standardize_edges(qr, 'pathway', 'compound', 'has_part')\n",
    "edges.append(edge_res)\n",
    "\n",
    "## Pathway HAS PART Gene\n",
    "q = \"\"\"SELECT DISTINCT ?pathway ?gene \n",
    "WHERE {?pathway wdt:P31 wd:Q4915012 .\n",
    "    FILTER NOT EXISTS{?pathway wdt:P686 ?goid}\n",
    "    ?gene wdt:P31 wd:Q7187 .\n",
    "    ?pathway wdt:P527 ?gene}\"\"\"\n",
    "\n",
    "qr = execute_sparql_query(q)\n",
    "edge_res = standardize_edges(qr, 'pathway', 'gene', 'has_part')\n",
    "edges.append(edge_res)\n",
    "\n",
    "# INVOLVED IN\n",
    "## Pathway INVOLVED IN Biological Process\n",
    "q = \"\"\"SELECT DISTINCT ?pathway ?bio_process \n",
    "WHERE {\n",
    "    ?pathway wdt:P31 wd:Q4915012 .\n",
    "    FILTER NOT EXISTS{?pathway wdt:P686 ?goid}\n",
    "    ?bio_process wdt:P31 wd:Q2996394 .\n",
    "    ?bio_process wdt:P686 ?goid .\n",
    "    {?pathway wdt:P31 ?bio_process}UNION{?bio_process wdt:P31 ?pathway}}\"\"\"\n",
    "\n",
    "qr = execute_sparql_query(q)\n",
    "edge_res = standardize_edges(qr, 'pathway', 'bio_process', 'involved_in')\n",
    "edges.append(edge_res)\n",
    "\n",
    "## Protein INVOLVED IN Biological Process\n",
    "q = \"\"\"SELECT DISTINCT ?protein ?biological_process\n",
    "WHERE {?protein wdt:P31 wd:Q8054.\n",
    "  ?biological_process wdt:P686 ?goid.\n",
    "  {?protein wdt:P682 ?biological_process}}\"\"\"\n",
    "\n",
    "qr = execute_sparql_query(q)\n",
    "edge_res = standardize_edges(qr, 'protein', 'biological_process', 'involved_in')\n",
    "edges.append(edge_res)\n",
    "\n",
    "# INTERACTS WITH\n",
    "## Compound INTERACTS WITH Protein\n",
    "q = \"\"\"SELECT DISTINCT ?compound ?compoundLabel ?qualifier ?qualifierLabel ?protein ?proteinLabel \n",
    "WHERE {\n",
    "    ?compound wdt:P31 wd:Q11173 .\n",
    "    ?protein wdt:P31 wd:Q8054 .\n",
    "    { ?compound p:P129 [ps:P129 ?protein;\n",
    "                  pq:P2868 ?qualifier] }\n",
    "    UNION { ?protein p:P129 [ps:P129 ?compound;\n",
    "                 pq:P366 ?qualifier] }\n",
    "    SERVICE wikibase:label { bd:serviceParam wikibase:language \"[AUTO_LANGAGE],en\" }}\"\"\"\n",
    "\n",
    "qr = execute_sparql_query(q)\n",
    "edge_res = standardize_edges(qr, 'compound', 'protein', 'qualifierLabel')\n",
    "edges.append(edge_res)\n",
    "\n",
    "# PART OF\n",
    "## Protein PART OF Cellular Component\n",
    "q = \"\"\"SELECT DISTINCT ?protein ?cell_component\n",
    "WHERE {?protein wdt:P31 wd:Q8054.\n",
    "  ?cell_component wdt:P686 ?goid.\n",
    "  {?protein wdt:P681 ?cell_component}}\"\"\"\n",
    "\n",
    "qr = execute_sparql_query(q)\n",
    "edge_res = standardize_edges(qr, 'protein', 'cell_component', 'part_of')\n",
    "edges.append(edge_res)\n",
    "\n",
    "# SITE OF\n",
    "## Anatomy SITE OF Disease\n",
    "q = \"\"\"SELECT DISTINCT ?disease ?diseaseLabel ?anatomy ?anatomyLabel \n",
    "WHERE {\n",
    "    {?disease wdt:P31 wd:Q12136}UNION{?disease wdt:P699 ?doid}.\n",
    "    {?disease1 wdt:P31 wd:Q12136}UNION{?disease1 wdt:P699 ?doid1}.\n",
    "    ?anatomy wdt:P1554 ?uberon .\n",
    "    {?disease1 wdt:P927 ?anatomy} {?disease wdt:P279? ?disease1}\n",
    "    SERVICE wikibase:label { bd:serviceParam wikibase:language \"[AUTO_LANGAGE],en\" }}\"\"\"\n",
    "\n",
    "qr = execute_sparql_query(q)\n",
    "edge_res = standardize_edges(qr, 'anatomy', 'disease', 'site_of')\n",
    "edges.append(edge_res)\n",
    "\n",
    "# ? Presents ? is this an edge..?\n",
    "## Disease to Phenotype\n",
    "\n",
    "q = \"\"\"SELECT DISTINCT ?disease ?pheno\n",
    "  WHERE {{?disease wdt:P31 wd:Q12136}UNION{?disease wdt:P699 ?doid}\n",
    "      {?pheno wdt:P31 wd:Q169872.}UNION{?pheno wdt:P3841 ?hpo}\n",
    "      {?pheno wdt:P780 ?disease}UNION{?disease wdt:P780 ?pheno}}\"\"\"\n",
    "\n",
    "qr = execute_sparql_query(q)\n",
    "edge_res = standardize_edges(qr, 'disease', 'pheno', 'presents')\n",
    "edges.append(edge_res)\n",
    "\n",
    "# ?? SUBCLASS OF ?? What is the purpose of this 'later punning' meaning...?\n",
    "## Anatomy SUBCLASS OF Anatomy\n",
    "q = \"\"\"SELECT DISTINCT ?anatomy ?anatomyLabel ?anatomy1 ?anatomy1Label\n",
    "WHERE {\n",
    "    ?anatomy wdt:P1554 ?uberon .\n",
    "    ?anatomy1 wdt:P1554 ?uberon1 .\n",
    "    ?anatomy wdt:P279? ?anatomy1\n",
    "    SERVICE wikibase:label { bd:serviceParam wikibase:language \"[AUTO_LANGAGE],en\" }}\"\"\"\n",
    "\n",
    "qr = execute_sparql_query(q)\n",
    "edge_res = standardize_edges(qr, 'anatomy', 'anatomy1', 'subclass_of')\n",
    "edges.append(edge_res)\n",
    "\n",
    "## Disease SUBCLASS OF Disease\n",
    "q = \"\"\"SELECT DISTINCT ?disease ?diseaseLabel ?disease1 ?disease1Label\n",
    "WHERE {{?disease wdt:P31 wd:Q12136}UNION{?disease wdt:P699 ?doid}.\n",
    "    {?disease1 wdt:P31 wd:Q12136}UNION{?disease1 wdt:P699 ?doid1}.\n",
    "    ?disease wdt:P279? ?disease1\n",
    "    SERVICE wikibase:label { bd:serviceParam wikibase:language \"[AUTO_LANGAGE],en\" }}\"\"\"\n",
    "\n",
    "qr = execute_sparql_query(q)\n",
    "edge_res = standardize_edges(qr, 'disease', 'disease1', 'subclass_of')\n",
    "edges.append(edge_res)\n",
    "\n",
    "# TREATS\n",
    "## Compound TREATS Disease\n",
    "q = \"\"\"SELECT DISTINCT ?compound ?compoundLabel ?disease ?diseaseLabel\n",
    "  WHERE {\n",
    "    ?compound wdt:P31 wd:Q11173 .\n",
    "    {?disease wdt:P31 wd:Q12136}UNION{?disease wdt:P699 ?doid}.\n",
    "    {?compound wdt:P2175 ?disease}UNION{?disease wdt:P2176 ?compound}\n",
    "    SERVICE wikibase:label { bd:serviceParam wikibase:language \"[AUTO_LANGAGE],en\" }}\"\"\"\n",
    "\n",
    "qr = execute_sparql_query(q)\n",
    "edge_res = standardize_edges(qr, 'compound', 'disease', 'treats')\n",
    "edges.append(edge_res)\n",
    "\n",
    "## Compound TREATS Phenotype\n",
    "q = \"\"\"SELECT DISTINCT ?compound ?pheno\n",
    "  WHERE {?compound wdt:P31 wd:Q11173 .\n",
    "      {?pheno wdt:P31 wd:Q169872.}UNION{?pheno wdt:P3841 ?hpo}\n",
    "      {?pheno wdt:P2176 ?compound}UNION{?compound wdt:P2175 ?pheno}}\"\"\"\n",
    "\n",
    "qr = execute_sparql_query(q)\n",
    "edge_res = standardize_edges(qr, 'compound', 'pheno', 'treats')\n",
    "edges.append(edge_res)\n",
    "\n",
    "# Output and print when query is complete\n",
    "end_time = time.time() \n",
    "print(\"The total time of this query is:\", (end_time - start_time)/60, \"minutes\")"
   ]
  },
  {
   "cell_type": "markdown",
   "id": "0912f97a",
   "metadata": {},
   "source": [
    "## Concatenate\n",
    "Affirm queries and compile into a csv (2 total)"
   ]
  },
  {
   "cell_type": "code",
   "execution_count": 8,
   "id": "694cfef0",
   "metadata": {},
   "outputs": [],
   "source": [
    "nodes.append(prev_nodes)\n",
    "nodes = pd.concat(nodes, sort=False, ignore_index=True)\n",
    "edges = pd.concat(edges, sort=False, ignore_index=True)"
   ]
  },
  {
   "cell_type": "code",
   "execution_count": 9,
   "id": "910506ff",
   "metadata": {},
   "outputs": [
    {
     "data": {
      "text/plain": [
       "808915"
      ]
     },
     "execution_count": 9,
     "metadata": {},
     "output_type": "execute_result"
    }
   ],
   "source": [
    "len(nodes) # 808915 (previously 1074047 with 150,000 Compound limit)"
   ]
  },
  {
   "cell_type": "code",
   "execution_count": 10,
   "id": "a4a2b233",
   "metadata": {},
   "outputs": [
    {
     "data": {
      "text/plain": [
       "590093"
      ]
     },
     "execution_count": 10,
     "metadata": {},
     "output_type": "execute_result"
    }
   ],
   "source": [
    "nodes['id'].nunique() # 590093"
   ]
  },
  {
   "cell_type": "code",
   "execution_count": 11,
   "id": "bcecd32c",
   "metadata": {},
   "outputs": [
    {
     "data": {
      "text/html": [
       "<div>\n",
       "<style scoped>\n",
       "    .dataframe tbody tr th:only-of-type {\n",
       "        vertical-align: middle;\n",
       "    }\n",
       "\n",
       "    .dataframe tbody tr th {\n",
       "        vertical-align: top;\n",
       "    }\n",
       "\n",
       "    .dataframe thead th {\n",
       "        text-align: right;\n",
       "    }\n",
       "</style>\n",
       "<table border=\"1\" class=\"dataframe\">\n",
       "  <thead>\n",
       "    <tr style=\"text-align: right;\">\n",
       "      <th></th>\n",
       "      <th>id</th>\n",
       "      <th>name</th>\n",
       "      <th>label</th>\n",
       "      <th>xrefs</th>\n",
       "    </tr>\n",
       "  </thead>\n",
       "  <tbody>\n",
       "    <tr>\n",
       "      <th>0</th>\n",
       "      <td>Q1010102</td>\n",
       "      <td>Bunyaviridae</td>\n",
       "      <td>Taxon</td>\n",
       "      <td></td>\n",
       "    </tr>\n",
       "    <tr>\n",
       "      <th>1</th>\n",
       "      <td>Q1026758</td>\n",
       "      <td>Caliciviridae</td>\n",
       "      <td>Taxon</td>\n",
       "      <td>NCBITaxon:11974</td>\n",
       "    </tr>\n",
       "    <tr>\n",
       "      <th>2</th>\n",
       "      <td>Q10457821</td>\n",
       "      <td>Conidiobolus coronatus</td>\n",
       "      <td>Taxon</td>\n",
       "      <td>NCBITaxon:34488</td>\n",
       "    </tr>\n",
       "    <tr>\n",
       "      <th>3</th>\n",
       "      <td>Q10462705</td>\n",
       "      <td>Cryptostroma corticale</td>\n",
       "      <td>Taxon</td>\n",
       "      <td>NCBITaxon:1463975</td>\n",
       "    </tr>\n",
       "    <tr>\n",
       "      <th>4</th>\n",
       "      <td>Q10584816</td>\n",
       "      <td>Microsporum distortum</td>\n",
       "      <td>Taxon</td>\n",
       "      <td>NCBITaxon:101202</td>\n",
       "    </tr>\n",
       "  </tbody>\n",
       "</table>\n",
       "</div>"
      ],
      "text/plain": [
       "          id                    name  label              xrefs\n",
       "0   Q1010102            Bunyaviridae  Taxon                   \n",
       "1   Q1026758           Caliciviridae  Taxon    NCBITaxon:11974\n",
       "2  Q10457821  Conidiobolus coronatus  Taxon    NCBITaxon:34488\n",
       "3  Q10462705  Cryptostroma corticale  Taxon  NCBITaxon:1463975\n",
       "4  Q10584816   Microsporum distortum  Taxon   NCBITaxon:101202"
      ]
     },
     "execution_count": 11,
     "metadata": {},
     "output_type": "execute_result"
    }
   ],
   "source": [
    "nodes.head()"
   ]
  },
  {
   "cell_type": "code",
   "execution_count": 12,
   "id": "281da6c6",
   "metadata": {},
   "outputs": [
    {
     "data": {
      "text/plain": [
       "<AxesSubplot:xlabel='label'>"
      ]
     },
     "execution_count": 12,
     "metadata": {},
     "output_type": "execute_result"
    },
    {
     "data": {
      "image/png": "[encoded data removed]",
      "text/plain": [
       "<Figure size 432x288 with 1 Axes>"
      ]
     },
     "metadata": {
      "needs_background": "light"
     },
     "output_type": "display_data"
    }
   ],
   "source": [
    "count_plot_h(nodes['label']) # Graph form of value counts from nodes file"
   ]
  },
  {
   "cell_type": "code",
   "execution_count": 13,
   "id": "6220950a",
   "metadata": {},
   "outputs": [
    {
     "data": {
      "text/plain": [
       "4024308"
      ]
     },
     "execution_count": 13,
     "metadata": {},
     "output_type": "execute_result"
    }
   ],
   "source": [
    "len(edges) # 4024308 (edges go down by about 100000 with new limit) "
   ]
  },
  {
   "cell_type": "code",
   "execution_count": 14,
   "id": "5c7855aa",
   "metadata": {},
   "outputs": [
    {
     "data": {
      "text/plain": [
       "919005"
      ]
     },
     "execution_count": 14,
     "metadata": {},
     "output_type": "execute_result"
    }
   ],
   "source": [
    "edges['start_id'].append(edges['end_id']).nunique() # 919005 (where the row is unique for both columns) right?"
   ]
  },
  {
   "cell_type": "code",
   "execution_count": 15,
   "id": "244f4964",
   "metadata": {},
   "outputs": [
    {
     "data": {
      "text/html": [
       "<div>\n",
       "<style scoped>\n",
       "    .dataframe tbody tr th:only-of-type {\n",
       "        vertical-align: middle;\n",
       "    }\n",
       "\n",
       "    .dataframe tbody tr th {\n",
       "        vertical-align: top;\n",
       "    }\n",
       "\n",
       "    .dataframe thead th {\n",
       "        text-align: right;\n",
       "    }\n",
       "</style>\n",
       "<table border=\"1\" class=\"dataframe\">\n",
       "  <thead>\n",
       "    <tr style=\"text-align: right;\">\n",
       "      <th></th>\n",
       "      <th>start_id</th>\n",
       "      <th>end_id</th>\n",
       "      <th>type</th>\n",
       "      <th>dsrc_type</th>\n",
       "      <th>comp_type</th>\n",
       "    </tr>\n",
       "  </thead>\n",
       "  <tbody>\n",
       "    <tr>\n",
       "      <th>0</th>\n",
       "      <td>Q570260</td>\n",
       "      <td>Q19000458</td>\n",
       "      <td>causes</td>\n",
       "      <td>crowd_sourced</td>\n",
       "      <td>NaN</td>\n",
       "    </tr>\n",
       "    <tr>\n",
       "      <th>1</th>\n",
       "      <td>Q7435269</td>\n",
       "      <td>Q55009424</td>\n",
       "      <td>causes</td>\n",
       "      <td>crowd_sourced</td>\n",
       "      <td>NaN</td>\n",
       "    </tr>\n",
       "    <tr>\n",
       "      <th>2</th>\n",
       "      <td>Q2368907</td>\n",
       "      <td>Q19001357</td>\n",
       "      <td>causes</td>\n",
       "      <td>crowd_sourced</td>\n",
       "      <td>NaN</td>\n",
       "    </tr>\n",
       "    <tr>\n",
       "      <th>3</th>\n",
       "      <td>Q1648694</td>\n",
       "      <td>Q19000740</td>\n",
       "      <td>causes</td>\n",
       "      <td>crowd_sourced</td>\n",
       "      <td>NaN</td>\n",
       "    </tr>\n",
       "    <tr>\n",
       "      <th>4</th>\n",
       "      <td>Q1437858</td>\n",
       "      <td>Q55009396</td>\n",
       "      <td>causes</td>\n",
       "      <td>crowd_sourced</td>\n",
       "      <td>NaN</td>\n",
       "    </tr>\n",
       "  </tbody>\n",
       "</table>\n",
       "</div>"
      ],
      "text/plain": [
       "   start_id     end_id    type      dsrc_type comp_type\n",
       "0   Q570260  Q19000458  causes  crowd_sourced       NaN\n",
       "1  Q7435269  Q55009424  causes  crowd_sourced       NaN\n",
       "2  Q2368907  Q19001357  causes  crowd_sourced       NaN\n",
       "3  Q1648694  Q19000740  causes  crowd_sourced       NaN\n",
       "4  Q1437858  Q55009396  causes  crowd_sourced       NaN"
      ]
     },
     "execution_count": 15,
     "metadata": {},
     "output_type": "execute_result"
    }
   ],
   "source": [
    "edges.head() # comp_type NaN??? (check for 'punning')"
   ]
  },
  {
   "cell_type": "code",
   "execution_count": 16,
   "id": "3d69394b",
   "metadata": {},
   "outputs": [
    {
     "data": {
      "text/plain": [
       "<AxesSubplot:xlabel='type'>"
      ]
     },
     "execution_count": 16,
     "metadata": {},
     "output_type": "execute_result"
    },
    {
     "data": {
      "image/png": "[encoded data removed]",
      "text/plain": [
       "<Figure size 432x288 with 1 Axes>"
      ]
     },
     "metadata": {
      "needs_background": "light"
     },
     "output_type": "display_data"
    }
   ],
   "source": [
    "count_plot_h(edges['type'].value_counts().head(10)) # note there are more after this if you remove .head(10)"
   ]
  },
  {
   "cell_type": "code",
   "execution_count": 17,
   "id": "2a588b22",
   "metadata": {},
   "outputs": [],
   "source": [
    "out_dir = Path('../results/')\n",
    "\n",
    "out_dir.mkdir(parents=True, exist_ok=True)\n",
    "\n",
    "nodes.to_csv(out_dir.joinpath('01b_nodes.csv'), index=False)\n",
    "edges.to_csv(out_dir.joinpath('01b_edges.csv'), index=False)"
   ]
  }
 ],
 "metadata": {
  "kernelspec": {
   "display_name": "Python 3",
   "language": "python",
   "name": "python3"
  },
  "language_info": {
   "codemirror_mode": {
    "name": "ipython",
    "version": 3
   },
   "file_extension": ".py",
   "mimetype": "text/x-python",
   "name": "python",
   "nbconvert_exporter": "python",
   "pygments_lexer": "ipython3",
   "version": "3.8.8"
  }
 },
 "nbformat": 4,
 "nbformat_minor": 5
}
