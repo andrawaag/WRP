{
 "cells": [
  {
   "cell_type": "markdown",
   "id": "7c6ba5a3",
   "metadata": {},
   "source": [
    "This notebook applies SPARQL query to retrieve and download biomedically relevant edge category types from Wikidata to be utilized by the downstream drug repurposing algorithm.\n",
    "\n",
    "I. [Load Packages](#Load) [clicking on phrase will take you directly to section] <br>\n",
    "II. [Query for Biomedical Node Types in Wikidata](#Query) <br>\n",
    "III. [Concatenate Node Types and Save as .csv](#Concatenate) <br>"
   ]
  }
 ],
 "metadata": {
  "kernelspec": {
   "display_name": "Python 3",
   "language": "python",
   "name": "python3"
  },
  "language_info": {
   "codemirror_mode": {
    "name": "ipython",
    "version": 3
   },
   "file_extension": ".py",
   "mimetype": "text/x-python",
   "name": "python",
   "nbconvert_exporter": "python",
   "pygments_lexer": "ipython3",
   "version": "3.8.8"
  }
 },
 "nbformat": 4,
 "nbformat_minor": 5
}
