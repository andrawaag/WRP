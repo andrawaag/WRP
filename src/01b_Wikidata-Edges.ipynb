{
 "cells": [
  {
   "cell_type": "markdown",
   "id": "fee2fe13",
   "metadata": {},
   "source": [
    "This notebook applies SPARQL query to retrieve and download biomedically relevant edge category types from Wikidata to be utilized by the downstream drug repurposing algorithm.\n",
    "\n",
    "I. [Load Packages](#Load) [clicking on phrase will take you directly to section] <br>\n",
    "II. [Infectious Taxa as Part of Network](#Taxa) <br>\n",
    "\n",
    "\n",
    "III. [Query for Biomedical Edge Types in Wikidata](#Query) <br>\n",
    "IV. [Concatenate Node Types and Save as .csv](#Concatenate) <br>"
   ]
  },
  {
   "cell_type": "markdown",
   "id": "ea2177ea",
   "metadata": {},
   "source": [
    "## Load \n",
    "Packages and modules with relevant functions"
   ]
  },
  {
   "cell_type": "code",
   "execution_count": 5,
   "id": "461b0289",
   "metadata": {},
   "outputs": [
    {
     "name": "stderr",
     "output_type": "stream",
     "text": [
      "<ipython-input-5-820a0019ca1f>:8: TqdmExperimentalWarning: Using `tqdm.autonotebook.tqdm` in notebook mode. Use `tqdm.tqdm` instead to force console mode (e.g. in jupyter console)\n",
      "  from tqdm.autonotebook import tqdm\n"
     ]
    }
   ],
   "source": [
    "%matplotlib inline \n",
    "# why is above line needed?\n",
    "import pandas as pd\n",
    "\n",
    "import functools # what does this do?\n",
    "from pathlib import Path\n",
    "from itertools import chain # what does this do?\n",
    "from tqdm.autonotebook import tqdm \n",
    "\n",
    "from data_tools.df_processing import char_combine_iter, add_curi\n",
    "from data_tools.plotting import count_plot_h\n",
    "from data_tools.wiki import execute_sparql_query, node_query_pipeline, standardize_nodes, standardize_edges"
   ]
  },
  {
   "cell_type": "code",
   "execution_count": 6,
   "id": "a2506374",
   "metadata": {},
   "outputs": [],
   "source": [
    "def process_taxa(edges): # Integrate process_taxa() function into data_tools package ?\n",
    "    nodes = edges.drop_duplicates(subset=['taxon', 'tax_id'])[['taxon', 'taxonLabel', 'tax_id']]\n",
    "    nodes = add_curi(nodes, {'tax_id': 'NCBITaxon'})\n",
    "    return standardize_nodes(nodes, 'taxon')"
   ]
  },
  {
   "cell_type": "code",
   "execution_count": 8,
   "id": "b469d0cb",
   "metadata": {},
   "outputs": [],
   "source": [
    "# What is happening in this code cell?\n",
    "# Why do we need nodes to get edges? Is it a good idea that we have them?\n",
    "\n",
    "prev_dir = Path('../results/').resolve()\n",
    "prev_nodes = pd.read_csv(prev_dir.joinpath('01a_nodes.csv')) "
   ]
  },
  {
   "cell_type": "code",
   "execution_count": 9,
   "id": "236d6a30",
   "metadata": {},
   "outputs": [],
   "source": [
    "nodes = []\n",
    "edges = []"
   ]
  },
  {
   "cell_type": "markdown",
   "id": "29420ce6",
   "metadata": {},
   "source": [
    "## Taxa\n",
    "We will account for the various taxa involved in or related to disease. This will include 2 types of syntax, and 2 approaches.\n",
    "\n",
    "#### Syntax in the WikiData data model\n",
    "\n",
    "1. Direct statements:  \n",
    "    Taxon has-effect Disease... or Disease has-cause Taxon \n",
    "    \n",
    "\n",
    "2. Qualifier Statements:  \n",
    "    Disease has-cause infection (qual: of Taxon) \n",
    "\n",
    "#### Approaches  in the WikiData data model\n",
    "1. Direct links:      \n",
    "    Taxon has-effect Disease\n",
    "    \n",
    "\n",
    "2. Punning down to a specific taxonomic level:  \n",
    "    Partent_taxon has-effect Disease  \n",
    "    Taxon has-parent* Parent_taxon  \n",
    "    Taxon has-rank Species "
   ]
  },
  {
   "cell_type": "code",
   "execution_count": 12,
   "id": "df5456f1",
   "metadata": {},
   "outputs": [
    {
     "data": {
      "text/html": [
       "<div>\n",
       "<style scoped>\n",
       "    .dataframe tbody tr th:only-of-type {\n",
       "        vertical-align: middle;\n",
       "    }\n",
       "\n",
       "    .dataframe tbody tr th {\n",
       "        vertical-align: top;\n",
       "    }\n",
       "\n",
       "    .dataframe thead th {\n",
       "        text-align: right;\n",
       "    }\n",
       "</style>\n",
       "<table border=\"1\" class=\"dataframe\">\n",
       "  <thead>\n",
       "    <tr style=\"text-align: right;\">\n",
       "      <th></th>\n",
       "      <th>start_id</th>\n",
       "      <th>end_id</th>\n",
       "      <th>type</th>\n",
       "      <th>dsrc_type</th>\n",
       "    </tr>\n",
       "  </thead>\n",
       "  <tbody>\n",
       "    <tr>\n",
       "      <th>0</th>\n",
       "      <td>Q178235</td>\n",
       "      <td>Q18553238</td>\n",
       "      <td>causes</td>\n",
       "      <td>crowd_sourced</td>\n",
       "    </tr>\n",
       "    <tr>\n",
       "      <th>1</th>\n",
       "      <td>Q18968316</td>\n",
       "      <td>Q19000401</td>\n",
       "      <td>causes</td>\n",
       "      <td>crowd_sourced</td>\n",
       "    </tr>\n",
       "    <tr>\n",
       "      <th>2</th>\n",
       "      <td>Q9094478</td>\n",
       "      <td>Q55009681</td>\n",
       "      <td>causes</td>\n",
       "      <td>crowd_sourced</td>\n",
       "    </tr>\n",
       "    <tr>\n",
       "      <th>3</th>\n",
       "      <td>Q5348630</td>\n",
       "      <td>Q5348632</td>\n",
       "      <td>causes</td>\n",
       "      <td>crowd_sourced</td>\n",
       "    </tr>\n",
       "    <tr>\n",
       "      <th>4</th>\n",
       "      <td>Q15632444</td>\n",
       "      <td>Q55009423</td>\n",
       "      <td>causes</td>\n",
       "      <td>crowd_sourced</td>\n",
       "    </tr>\n",
       "  </tbody>\n",
       "</table>\n",
       "</div>"
      ],
      "text/plain": [
       "    start_id     end_id    type      dsrc_type\n",
       "0    Q178235  Q18553238  causes  crowd_sourced\n",
       "1  Q18968316  Q19000401  causes  crowd_sourced\n",
       "2   Q9094478  Q55009681  causes  crowd_sourced\n",
       "3   Q5348630   Q5348632  causes  crowd_sourced\n",
       "4  Q15632444  Q55009423  causes  crowd_sourced"
      ]
     },
     "execution_count": 12,
     "metadata": {},
     "output_type": "execute_result"
    }
   ],
   "source": [
    "# Direct statement: Disease causes infection\n",
    "q = \"\"\"SELECT DISTINCT ?disease ?taxon ?taxonLabel ?tax_id\n",
    "    WHERE {\n",
    "     {?disease wdt:P31 wd:Q12136}UNION{?disease wdt:P699 ?doid}.\n",
    "      ?disease p:P828 [ps:P828 wd:Q166231;pq:P642 ?taxon;].\n",
    "      OPTIONAL{?taxon wdt:P685 ?tax_id}.\n",
    "      SERVICE wikibase:label { bd:serviceParam wikibase:language \"[AUTO_LANGUAGE],en\". }}\"\"\"\n",
    "\n",
    "qr = execute_sparql_query(q)\n",
    "tax_nodes = process_taxa(qr)\n",
    "edge_res = standardize_edges(qr, 'taxon', 'disease', 'causes')\n",
    "\n",
    "nodes.append(tax_nodes)\n",
    "edges.append(edge_res)\n",
    "\n",
    "edge_res.head()"
   ]
  },
  {
   "cell_type": "code",
   "execution_count": 13,
   "id": "1c345715",
   "metadata": {},
   "outputs": [
    {
     "data": {
      "text/html": [
       "<div>\n",
       "<style scoped>\n",
       "    .dataframe tbody tr th:only-of-type {\n",
       "        vertical-align: middle;\n",
       "    }\n",
       "\n",
       "    .dataframe tbody tr th {\n",
       "        vertical-align: top;\n",
       "    }\n",
       "\n",
       "    .dataframe thead th {\n",
       "        text-align: right;\n",
       "    }\n",
       "</style>\n",
       "<table border=\"1\" class=\"dataframe\">\n",
       "  <thead>\n",
       "    <tr style=\"text-align: right;\">\n",
       "      <th></th>\n",
       "      <th>id</th>\n",
       "      <th>name</th>\n",
       "      <th>label</th>\n",
       "      <th>xrefs</th>\n",
       "    </tr>\n",
       "  </thead>\n",
       "  <tbody>\n",
       "    <tr>\n",
       "      <th>0</th>\n",
       "      <td>Q1010102</td>\n",
       "      <td>Bunyaviridae</td>\n",
       "      <td>Taxon</td>\n",
       "      <td></td>\n",
       "    </tr>\n",
       "    <tr>\n",
       "      <th>1</th>\n",
       "      <td>Q1026758</td>\n",
       "      <td>Caliciviridae</td>\n",
       "      <td>Taxon</td>\n",
       "      <td>NCBITaxon:11974</td>\n",
       "    </tr>\n",
       "    <tr>\n",
       "      <th>2</th>\n",
       "      <td>Q10457821</td>\n",
       "      <td>Conidiobolus coronatus</td>\n",
       "      <td>Taxon</td>\n",
       "      <td>NCBITaxon:34488</td>\n",
       "    </tr>\n",
       "    <tr>\n",
       "      <th>3</th>\n",
       "      <td>Q10462705</td>\n",
       "      <td>Cryptostroma corticale</td>\n",
       "      <td>Taxon</td>\n",
       "      <td>NCBITaxon:1463975</td>\n",
       "    </tr>\n",
       "    <tr>\n",
       "      <th>4</th>\n",
       "      <td>Q10584816</td>\n",
       "      <td>Microsporum distortum</td>\n",
       "      <td>Taxon</td>\n",
       "      <td>NCBITaxon:101202</td>\n",
       "    </tr>\n",
       "  </tbody>\n",
       "</table>\n",
       "</div>"
      ],
      "text/plain": [
       "          id                    name  label              xrefs\n",
       "0   Q1010102            Bunyaviridae  Taxon                   \n",
       "1   Q1026758           Caliciviridae  Taxon    NCBITaxon:11974\n",
       "2  Q10457821  Conidiobolus coronatus  Taxon    NCBITaxon:34488\n",
       "3  Q10462705  Cryptostroma corticale  Taxon  NCBITaxon:1463975\n",
       "4  Q10584816   Microsporum distortum  Taxon   NCBITaxon:101202"
      ]
     },
     "execution_count": 13,
     "metadata": {},
     "output_type": "execute_result"
    }
   ],
   "source": [
    "tax_nodes.head()"
   ]
  },
  {
   "cell_type": "markdown",
   "id": "4baf5cf4",
   "metadata": {},
   "source": [
    "## Query\n",
    "Biomedically relevant edge types in Wikidata (ordered alphabetically) <br>\n",
    "To affirm a edge type category has been added, move it to its own cell and view separately using the 'print' function."
   ]
  },
  {
   "cell_type": "markdown",
   "id": "70a1ffe7",
   "metadata": {},
   "source": [
    "## Taxon Causes Disease (2 syntax, 2 approches) *why this part?\n",
    "\n",
    "Theyre are two syntax for taxon causes disease that exist in the WikiData data model:\n",
    "\n",
    "1. Direct statements:  \n",
    "    Taxon has-effect Disease... or Disease has-cause Taxon \n",
    "\n",
    "\n",
    "2. Qualifier Statements:  \n",
    "    Disease has-cause infection (qual: of Taxon) \n",
    "    \n",
    "There are also two approaches:\n",
    "\n",
    "1. Direct links:      \n",
    "    Taxon has-effect Disease\n",
    "\n",
    "\n",
    "2. Punning down to a specific taxonomic level:  \n",
    "    Partent_taxon has-effect Disease  \n",
    "    Taxon has-parent* Parent_taxon  \n",
    "    Taxon has-rank Species \n",
    "\n",
    "### Syntax 1: disease has-cause infection - qualifier: of TAXON"
   ]
  },
  {
   "cell_type": "code",
   "execution_count": null,
   "id": "0679a70c",
   "metadata": {},
   "outputs": [],
   "source": [
    "q = \"\"\"    SELECT DISTINCT ?disease ?taxon ?taxonLabel ?tax_id\n",
    "    WHERE \n",
    "    {\n",
    "     {?disease wdt:P31 wd:Q12136}UNION{?disease wdt:P699 ?doid}.\n",
    "\n",
    "     ?disease p:P828 [ps:P828 wd:Q166231;\n",
    "                       pq:P642 ?taxon;].\n",
    "      OPTIONAL{?taxon wdt:P685 ?tax_id}.\n",
    "          \n",
    "      SERVICE wikibase:label { bd:serviceParam wikibase:language \"[AUTO_LANGUAGE],en\". }\n",
    "    }\"\"\""
   ]
  },
  {
   "cell_type": "code",
   "execution_count": null,
   "id": "555d993a",
   "metadata": {},
   "outputs": [],
   "source": [
    "qr = execute_sparql_query(q)\n",
    "tax_nodes = process_taxa(qr)\n",
    "edge_res = standardize_edges(qr, 'taxon', 'disease', 'causes')\n",
    "\n",
    "nodes.append(tax_nodes)\n",
    "edges.append(edge_res)\n",
    "\n",
    "edge_res.head()"
   ]
  }
 ],
 "metadata": {
  "kernelspec": {
   "display_name": "Python 3",
   "language": "python",
   "name": "python3"
  },
  "language_info": {
   "codemirror_mode": {
    "name": "ipython",
    "version": 3
   },
   "file_extension": ".py",
   "mimetype": "text/x-python",
   "name": "python",
   "nbconvert_exporter": "python",
   "pygments_lexer": "ipython3",
   "version": "3.8.8"
  }
 },
 "nbformat": 4,
 "nbformat_minor": 5
}
