{
 "cells": [
  {
   "cell_type": "code",
   "execution_count": 1,
   "metadata": {},
   "outputs": [
    {
     "name": "stderr",
     "output_type": "stream",
     "text": [
      "/Users/sulhasan/opt/anaconda3/lib/python3.8/site-packages/data_tools/df_processing.py:4: TqdmExperimentalWarning: Using `tqdm.autonotebook.tqdm` in notebook mode. Use `tqdm.tqdm` instead to force console mode (e.g. in jupyter console)\n",
      "  from tqdm.autonotebook import tqdm\n"
     ]
    }
   ],
   "source": [
    "%matplotlib inline\n",
    "\n",
    "import functools\n",
    "import pandas as pd\n",
    "from tqdm import tqdm\n",
    "from pathlib import Path\n",
    "from itertools import chain\n",
    "from data_tools.df_processing import char_combine_iter, add_curi\n",
    "from data_tools.plotting import count_plot_h\n",
    "from data_tools.wiki import execute_sparql_query, node_query_pipeline, standardize_nodes, standardize_edges\n",
    "\n",
    "# New line recommended by notebook\n",
    "from tqdm.autonotebook import tqdm "
   ]
  },
  {
   "cell_type": "code",
   "execution_count": 2,
   "metadata": {},
   "outputs": [],
   "source": [
    "def process_taxa(edges):\n",
    "    nodes = edges.drop_duplicates(subset=['taxon', 'tax_id'])[['taxon', 'taxonLabel', 'tax_id']]\n",
    "    nodes = add_curi(nodes, {'tax_id': 'NCBITaxon'})\n",
    "    return standardize_nodes(nodes, 'taxon')"
   ]
  },
  {
   "cell_type": "code",
   "execution_count": 5,
   "metadata": {},
   "outputs": [],
   "source": [
    "prev_dir = Path('../2_pipeline/01a_WikiData_Nodes/out/').resolve()\n",
    "prev_nodes = pd.read_csv(prev_dir.joinpath('nodes.csv')) \n",
    "\n",
    "# Why do we need nodes to get edges? Is it a good idea that we have them?"
   ]
  },
  {
   "cell_type": "code",
   "execution_count": 6,
   "metadata": {},
   "outputs": [],
   "source": [
    "nodes = []\n",
    "edges = []"
   ]
  },
  {
   "cell_type": "markdown",
   "metadata": {},
   "source": [
    "# Begin Queries\n"
   ]
  },
  {
   "cell_type": "markdown",
   "metadata": {},
   "source": [
    "## Taxon Causes Disease (2 syntax, 2 approches)\n",
    "\n",
    "Theyre are two syntax for taxon causes disease that exist in the WikiData data model:\n",
    "\n",
    "1. Direct statements:  \n",
    "    Taxon has-effect Disease... or Disease has-cause Taxon \n",
    "\n",
    "\n",
    "2. Qualifier Statements:  \n",
    "    Disease has-cause infection (qual: of Taxon) \n",
    "    \n",
    "There are also two approaches:\n",
    "\n",
    "1. Direct links:      \n",
    "    Taxon has-effect Disease\n",
    "\n",
    "\n",
    "2. Punning down to a specific taxonomic level:  \n",
    "    Partent_taxon has-effect Disease  \n",
    "    Taxon has-parent* Parent_taxon  \n",
    "    Taxon has-rank Species \n",
    "\n",
    "### Syntax 1: disease has-cause infection - qualifier: of TAXON"
   ]
  },
  {
   "cell_type": "code",
   "execution_count": 7,
   "metadata": {},
   "outputs": [],
   "source": [
    "q = \"\"\"    SELECT DISTINCT ?disease ?taxon ?taxonLabel ?tax_id\n",
    "    WHERE \n",
    "    {\n",
    "     {?disease wdt:P31 wd:Q12136}UNION{?disease wdt:P699 ?doid}.\n",
    "\n",
    "     ?disease p:P828 [ps:P828 wd:Q166231;\n",
    "                       pq:P642 ?taxon;].\n",
    "      OPTIONAL{?taxon wdt:P685 ?tax_id}.\n",
    "          \n",
    "      SERVICE wikibase:label { bd:serviceParam wikibase:language \"[AUTO_LANGUAGE],en\". }\n",
    "    }\"\"\""
   ]
  },
  {
   "cell_type": "code",
   "execution_count": 8,
   "metadata": {
    "scrolled": true
   },
   "outputs": [
    {
     "data": {
      "text/html": [
       "<div>\n",
       "<style scoped>\n",
       "    .dataframe tbody tr th:only-of-type {\n",
       "        vertical-align: middle;\n",
       "    }\n",
       "\n",
       "    .dataframe tbody tr th {\n",
       "        vertical-align: top;\n",
       "    }\n",
       "\n",
       "    .dataframe thead th {\n",
       "        text-align: right;\n",
       "    }\n",
       "</style>\n",
       "<table border=\"1\" class=\"dataframe\">\n",
       "  <thead>\n",
       "    <tr style=\"text-align: right;\">\n",
       "      <th></th>\n",
       "      <th>start_id</th>\n",
       "      <th>end_id</th>\n",
       "      <th>type</th>\n",
       "      <th>dsrc_type</th>\n",
       "    </tr>\n",
       "  </thead>\n",
       "  <tbody>\n",
       "    <tr>\n",
       "      <th>0</th>\n",
       "      <td>Q7331932</td>\n",
       "      <td>Q5459411</td>\n",
       "      <td>causes</td>\n",
       "      <td>crowd_sourced</td>\n",
       "    </tr>\n",
       "    <tr>\n",
       "      <th>1</th>\n",
       "      <td>Q9094469</td>\n",
       "      <td>Q55009678</td>\n",
       "      <td>causes</td>\n",
       "      <td>crowd_sourced</td>\n",
       "    </tr>\n",
       "    <tr>\n",
       "      <th>2</th>\n",
       "      <td>Q18822400</td>\n",
       "      <td>Q55009464</td>\n",
       "      <td>causes</td>\n",
       "      <td>crowd_sourced</td>\n",
       "    </tr>\n",
       "    <tr>\n",
       "      <th>3</th>\n",
       "      <td>Q1138287</td>\n",
       "      <td>Q18966421</td>\n",
       "      <td>causes</td>\n",
       "      <td>crowd_sourced</td>\n",
       "    </tr>\n",
       "    <tr>\n",
       "      <th>4</th>\n",
       "      <td>Q1111605</td>\n",
       "      <td>Q4735280</td>\n",
       "      <td>causes</td>\n",
       "      <td>crowd_sourced</td>\n",
       "    </tr>\n",
       "  </tbody>\n",
       "</table>\n",
       "</div>"
      ],
      "text/plain": [
       "    start_id     end_id    type      dsrc_type\n",
       "0   Q7331932   Q5459411  causes  crowd_sourced\n",
       "1   Q9094469  Q55009678  causes  crowd_sourced\n",
       "2  Q18822400  Q55009464  causes  crowd_sourced\n",
       "3   Q1138287  Q18966421  causes  crowd_sourced\n",
       "4   Q1111605   Q4735280  causes  crowd_sourced"
      ]
     },
     "execution_count": 8,
     "metadata": {},
     "output_type": "execute_result"
    }
   ],
   "source": [
    "qr = execute_sparql_query(q)\n",
    "tax_nodes = process_taxa(qr)\n",
    "edge_res = standardize_edges(qr, 'taxon', 'disease', 'causes')\n",
    "\n",
    "nodes.append(tax_nodes)\n",
    "edges.append(edge_res)\n",
    "\n",
    "edge_res.head()"
   ]
  },
  {
   "cell_type": "code",
   "execution_count": 9,
   "metadata": {},
   "outputs": [
    {
     "data": {
      "text/html": [
       "<div>\n",
       "<style scoped>\n",
       "    .dataframe tbody tr th:only-of-type {\n",
       "        vertical-align: middle;\n",
       "    }\n",
       "\n",
       "    .dataframe tbody tr th {\n",
       "        vertical-align: top;\n",
       "    }\n",
       "\n",
       "    .dataframe thead th {\n",
       "        text-align: right;\n",
       "    }\n",
       "</style>\n",
       "<table border=\"1\" class=\"dataframe\">\n",
       "  <thead>\n",
       "    <tr style=\"text-align: right;\">\n",
       "      <th></th>\n",
       "      <th>id</th>\n",
       "      <th>name</th>\n",
       "      <th>label</th>\n",
       "      <th>xrefs</th>\n",
       "    </tr>\n",
       "  </thead>\n",
       "  <tbody>\n",
       "    <tr>\n",
       "      <th>0</th>\n",
       "      <td>Q1010102</td>\n",
       "      <td>Bunyaviridae</td>\n",
       "      <td>Taxon</td>\n",
       "      <td></td>\n",
       "    </tr>\n",
       "    <tr>\n",
       "      <th>1</th>\n",
       "      <td>Q1026758</td>\n",
       "      <td>Caliciviridae</td>\n",
       "      <td>Taxon</td>\n",
       "      <td>NCBITaxon:11974</td>\n",
       "    </tr>\n",
       "    <tr>\n",
       "      <th>2</th>\n",
       "      <td>Q10457821</td>\n",
       "      <td>Conidiobolus coronatus</td>\n",
       "      <td>Taxon</td>\n",
       "      <td>NCBITaxon:34488</td>\n",
       "    </tr>\n",
       "    <tr>\n",
       "      <th>3</th>\n",
       "      <td>Q10462705</td>\n",
       "      <td>Cryptostroma corticale</td>\n",
       "      <td>Taxon</td>\n",
       "      <td>NCBITaxon:1463975</td>\n",
       "    </tr>\n",
       "    <tr>\n",
       "      <th>4</th>\n",
       "      <td>Q10584816</td>\n",
       "      <td>Microsporum distortum</td>\n",
       "      <td>Taxon</td>\n",
       "      <td>NCBITaxon:101202</td>\n",
       "    </tr>\n",
       "  </tbody>\n",
       "</table>\n",
       "</div>"
      ],
      "text/plain": [
       "          id                    name  label              xrefs\n",
       "0   Q1010102            Bunyaviridae  Taxon                   \n",
       "1   Q1026758           Caliciviridae  Taxon    NCBITaxon:11974\n",
       "2  Q10457821  Conidiobolus coronatus  Taxon    NCBITaxon:34488\n",
       "3  Q10462705  Cryptostroma corticale  Taxon  NCBITaxon:1463975\n",
       "4  Q10584816   Microsporum distortum  Taxon   NCBITaxon:101202"
      ]
     },
     "execution_count": 9,
     "metadata": {},
     "output_type": "execute_result"
    }
   ],
   "source": [
    "tax_nodes.head()"
   ]
  },
  {
   "cell_type": "markdown",
   "metadata": {},
   "source": [
    "### Syntax 2: disease has-cause TAXON or TAXON has-effect Disease"
   ]
  },
  {
   "cell_type": "code",
   "execution_count": 10,
   "metadata": {},
   "outputs": [],
   "source": [
    "q = \"\"\"    SELECT DISTINCT ?disease ?diseaseLabel ?doid ?taxon ?taxonLabel ?tax_id\n",
    "    WHERE \n",
    "    {\n",
    "       {?disease wdt:P31 wd:Q12136}UNION{?disease wdt:P699 ?doid}.\n",
    "      \n",
    "        #?taxon wdt:P31 wd:Q16521.\n",
    "        ?taxon wdt:P685 ?tax_id. \n",
    "      \n",
    "       {?disease wdt:P828 ?taxon}UNION{?taxon wdt:P1542 ?disease}.\n",
    "      \n",
    "        OPTIONAL {?disease wdt:P699 ?doid.}\n",
    "      \n",
    "      SERVICE wikibase:label { bd:serviceParam wikibase:language \"[AUTO_LANGUAGE],en\". }\n",
    "    }\"\"\""
   ]
  },
  {
   "cell_type": "code",
   "execution_count": 11,
   "metadata": {},
   "outputs": [],
   "source": [
    "q = \"\"\"    SELECT DISTINCT ?disease ?diseaseLabel ?doid ?taxon ?taxonLabel ?tax_id\n",
    "    WHERE \n",
    "    {\n",
    "       {?disease wdt:P31 wd:Q12136}UNION{?disease wdt:P699 ?doid}.\n",
    "      \n",
    "        #?taxon wdt:P31 wd:Q16521.\n",
    "        ?taxon wdt:P685 ?tax_id. \n",
    "      \n",
    "       {?disease wdt:P828 ?taxon}UNION{?taxon wdt:P1542 ?disease}.\n",
    "      \n",
    "        OPTIONAL {?disease wdt:P699 ?doid.}\n",
    "      \n",
    "      SERVICE wikibase:label { bd:serviceParam wikibase:language \"[AUTO_LANGUAGE],en\". }\n",
    "    }\"\"\""
   ]
  },
  {
   "cell_type": "code",
   "execution_count": 12,
   "metadata": {},
   "outputs": [
    {
     "data": {
      "text/html": [
       "<div>\n",
       "<style scoped>\n",
       "    .dataframe tbody tr th:only-of-type {\n",
       "        vertical-align: middle;\n",
       "    }\n",
       "\n",
       "    .dataframe tbody tr th {\n",
       "        vertical-align: top;\n",
       "    }\n",
       "\n",
       "    .dataframe thead th {\n",
       "        text-align: right;\n",
       "    }\n",
       "</style>\n",
       "<table border=\"1\" class=\"dataframe\">\n",
       "  <thead>\n",
       "    <tr style=\"text-align: right;\">\n",
       "      <th></th>\n",
       "      <th>start_id</th>\n",
       "      <th>end_id</th>\n",
       "      <th>type</th>\n",
       "      <th>dsrc_type</th>\n",
       "    </tr>\n",
       "  </thead>\n",
       "  <tbody>\n",
       "    <tr>\n",
       "      <th>0</th>\n",
       "      <td>Q131065</td>\n",
       "      <td>Q18554606</td>\n",
       "      <td>causes</td>\n",
       "      <td>crowd_sourced</td>\n",
       "    </tr>\n",
       "    <tr>\n",
       "      <th>1</th>\n",
       "      <td>Q131488</td>\n",
       "      <td>Q156103</td>\n",
       "      <td>causes</td>\n",
       "      <td>crowd_sourced</td>\n",
       "    </tr>\n",
       "    <tr>\n",
       "      <th>2</th>\n",
       "      <td>Q141837</td>\n",
       "      <td>Q842169</td>\n",
       "      <td>causes</td>\n",
       "      <td>crowd_sourced</td>\n",
       "    </tr>\n",
       "    <tr>\n",
       "      <th>3</th>\n",
       "      <td>Q140599</td>\n",
       "      <td>Q812671</td>\n",
       "      <td>causes</td>\n",
       "      <td>crowd_sourced</td>\n",
       "    </tr>\n",
       "    <tr>\n",
       "      <th>4</th>\n",
       "      <td>Q131271</td>\n",
       "      <td>Q180266</td>\n",
       "      <td>causes</td>\n",
       "      <td>crowd_sourced</td>\n",
       "    </tr>\n",
       "  </tbody>\n",
       "</table>\n",
       "</div>"
      ],
      "text/plain": [
       "  start_id     end_id    type      dsrc_type\n",
       "0  Q131065  Q18554606  causes  crowd_sourced\n",
       "1  Q131488    Q156103  causes  crowd_sourced\n",
       "2  Q141837    Q842169  causes  crowd_sourced\n",
       "3  Q140599    Q812671  causes  crowd_sourced\n",
       "4  Q131271    Q180266  causes  crowd_sourced"
      ]
     },
     "execution_count": 12,
     "metadata": {},
     "output_type": "execute_result"
    }
   ],
   "source": [
    "qr = execute_sparql_query(q)\n",
    "tax_nodes = process_taxa(qr)\n",
    "edge_res = standardize_edges(qr, 'taxon', 'disease', 'causes')\n",
    "\n",
    "nodes.append(tax_nodes)\n",
    "edges.append(edge_res)\n",
    "\n",
    "edge_res.head()"
   ]
  },
  {
   "cell_type": "code",
   "execution_count": 13,
   "metadata": {},
   "outputs": [
    {
     "data": {
      "text/html": [
       "<div>\n",
       "<style scoped>\n",
       "    .dataframe tbody tr th:only-of-type {\n",
       "        vertical-align: middle;\n",
       "    }\n",
       "\n",
       "    .dataframe tbody tr th {\n",
       "        vertical-align: top;\n",
       "    }\n",
       "\n",
       "    .dataframe thead th {\n",
       "        text-align: right;\n",
       "    }\n",
       "</style>\n",
       "<table border=\"1\" class=\"dataframe\">\n",
       "  <thead>\n",
       "    <tr style=\"text-align: right;\">\n",
       "      <th></th>\n",
       "      <th>id</th>\n",
       "      <th>name</th>\n",
       "      <th>label</th>\n",
       "      <th>xrefs</th>\n",
       "    </tr>\n",
       "  </thead>\n",
       "  <tbody>\n",
       "    <tr>\n",
       "      <th>0</th>\n",
       "      <td>Q1003460</td>\n",
       "      <td>Francisella tularensis</td>\n",
       "      <td>Taxon</td>\n",
       "      <td>NCBITaxon:263</td>\n",
       "    </tr>\n",
       "    <tr>\n",
       "      <th>1</th>\n",
       "      <td>Q103821065</td>\n",
       "      <td>Schistosoma mattheei</td>\n",
       "      <td>Taxon</td>\n",
       "      <td>NCBITaxon:31246</td>\n",
       "    </tr>\n",
       "  </tbody>\n",
       "</table>\n",
       "</div>"
      ],
      "text/plain": [
       "           id                    name  label            xrefs\n",
       "0    Q1003460  Francisella tularensis  Taxon    NCBITaxon:263\n",
       "1  Q103821065    Schistosoma mattheei  Taxon  NCBITaxon:31246"
      ]
     },
     "execution_count": 13,
     "metadata": {},
     "output_type": "execute_result"
    }
   ],
   "source": [
    "tax_nodes.head(2)"
   ]
  },
  {
   "cell_type": "markdown",
   "metadata": {},
   "source": [
    "### Syntax 1, mode 2: disease has-cause infection - qualifier: of TAXON -> extend down parent taxa to SPECIES LEVEL"
   ]
  },
  {
   "cell_type": "code",
   "execution_count": 14,
   "metadata": {},
   "outputs": [],
   "source": [
    "q = \"\"\"    SELECT DISTINCT ?disease ?diseaseLabel ?doid ?parent_tax ?parent_taxLabel ?par_taxid ?taxon ?taxonLabel ?tax_id\n",
    "    WHERE \n",
    "    {\n",
    "      {?disease wdt:P31 wd:Q12136}UNION{?disease wdt:P699 ?doid}.\n",
    "\n",
    "      \n",
    "      ?disease p:P828 [ps:P828 wd:Q166231;\n",
    "                       pq:P642 ?parent_tax;].\n",
    "      OPTIONAL{?disease wdt:P699 ?doid}.\n",
    "      OPTIONAL{?parent_tax wdt:P685 ?par_taxid}.\n",
    "      \n",
    "      # No kingdoms\n",
    "      FILTER NOT EXISTS {?parent_tax wdt:P105 wd:Q36732}.\n",
    "      # No Superphyla\n",
    "      FILTER NOT EXISTS {?parent_tax wdt:P105 wd:Q3978005}.\n",
    "\n",
    "      \n",
    "      {?taxon wdt:P171+ ?parent_tax}UNION{?parent_tax wdt:P171+ ?taxon}\n",
    "      ?taxon wdt:P105 wd:Q7432 .\n",
    "      ?taxon wdt:P685 ?tax_id\n",
    "          \n",
    "      SERVICE wikibase:label { bd:serviceParam wikibase:language \"[AUTO_LANGUAGE],en\". }\n",
    "    }\"\"\""
   ]
  },
  {
   "cell_type": "code",
   "execution_count": 15,
   "metadata": {
    "scrolled": true
   },
   "outputs": [
    {
     "data": {
      "text/html": [
       "<div>\n",
       "<style scoped>\n",
       "    .dataframe tbody tr th:only-of-type {\n",
       "        vertical-align: middle;\n",
       "    }\n",
       "\n",
       "    .dataframe tbody tr th {\n",
       "        vertical-align: top;\n",
       "    }\n",
       "\n",
       "    .dataframe thead th {\n",
       "        text-align: right;\n",
       "    }\n",
       "</style>\n",
       "<table border=\"1\" class=\"dataframe\">\n",
       "  <thead>\n",
       "    <tr style=\"text-align: right;\">\n",
       "      <th></th>\n",
       "      <th>start_id</th>\n",
       "      <th>end_id</th>\n",
       "      <th>type</th>\n",
       "      <th>dsrc_type</th>\n",
       "      <th>comp_type</th>\n",
       "    </tr>\n",
       "  </thead>\n",
       "  <tbody>\n",
       "    <tr>\n",
       "      <th>0</th>\n",
       "      <td>Q25840227</td>\n",
       "      <td>Q18975970</td>\n",
       "      <td>causes</td>\n",
       "      <td>computed</td>\n",
       "      <td>punning</td>\n",
       "    </tr>\n",
       "    <tr>\n",
       "      <th>1</th>\n",
       "      <td>Q25840232</td>\n",
       "      <td>Q18975970</td>\n",
       "      <td>causes</td>\n",
       "      <td>computed</td>\n",
       "      <td>punning</td>\n",
       "    </tr>\n",
       "    <tr>\n",
       "      <th>2</th>\n",
       "      <td>Q25840230</td>\n",
       "      <td>Q18975970</td>\n",
       "      <td>causes</td>\n",
       "      <td>computed</td>\n",
       "      <td>punning</td>\n",
       "    </tr>\n",
       "    <tr>\n",
       "      <th>3</th>\n",
       "      <td>Q25840261</td>\n",
       "      <td>Q18975970</td>\n",
       "      <td>causes</td>\n",
       "      <td>computed</td>\n",
       "      <td>punning</td>\n",
       "    </tr>\n",
       "    <tr>\n",
       "      <th>4</th>\n",
       "      <td>Q25840266</td>\n",
       "      <td>Q18975970</td>\n",
       "      <td>causes</td>\n",
       "      <td>computed</td>\n",
       "      <td>punning</td>\n",
       "    </tr>\n",
       "  </tbody>\n",
       "</table>\n",
       "</div>"
      ],
      "text/plain": [
       "    start_id     end_id    type dsrc_type comp_type\n",
       "0  Q25840227  Q18975970  causes  computed   punning\n",
       "1  Q25840232  Q18975970  causes  computed   punning\n",
       "2  Q25840230  Q18975970  causes  computed   punning\n",
       "3  Q25840261  Q18975970  causes  computed   punning\n",
       "4  Q25840266  Q18975970  causes  computed   punning"
      ]
     },
     "execution_count": 15,
     "metadata": {},
     "output_type": "execute_result"
    }
   ],
   "source": [
    "qr = execute_sparql_query(q)\n",
    "tax_nodes = process_taxa(qr)\n",
    "edge_res = standardize_edges(qr, 'taxon', 'disease', 'causes', 'computed')\n",
    "edge_res['comp_type'] = 'punning'\n",
    "\n",
    "nodes.append(tax_nodes)\n",
    "edges.append(edge_res)\n",
    "\n",
    "edge_res.head()"
   ]
  },
  {
   "cell_type": "code",
   "execution_count": 16,
   "metadata": {},
   "outputs": [
    {
     "data": {
      "text/html": [
       "<div>\n",
       "<style scoped>\n",
       "    .dataframe tbody tr th:only-of-type {\n",
       "        vertical-align: middle;\n",
       "    }\n",
       "\n",
       "    .dataframe tbody tr th {\n",
       "        vertical-align: top;\n",
       "    }\n",
       "\n",
       "    .dataframe thead th {\n",
       "        text-align: right;\n",
       "    }\n",
       "</style>\n",
       "<table border=\"1\" class=\"dataframe\">\n",
       "  <thead>\n",
       "    <tr style=\"text-align: right;\">\n",
       "      <th></th>\n",
       "      <th>id</th>\n",
       "      <th>name</th>\n",
       "      <th>label</th>\n",
       "      <th>xrefs</th>\n",
       "    </tr>\n",
       "  </thead>\n",
       "  <tbody>\n",
       "    <tr>\n",
       "      <th>0</th>\n",
       "      <td>Q1002578</td>\n",
       "      <td>Babesia divergens</td>\n",
       "      <td>Taxon</td>\n",
       "      <td>NCBITaxon:32595</td>\n",
       "    </tr>\n",
       "    <tr>\n",
       "      <th>1</th>\n",
       "      <td>Q100348282</td>\n",
       "      <td>Paramecium biaurelia</td>\n",
       "      <td>Taxon</td>\n",
       "      <td>NCBITaxon:65126</td>\n",
       "    </tr>\n",
       "    <tr>\n",
       "      <th>2</th>\n",
       "      <td>Q100348353</td>\n",
       "      <td>Ruhugu virus</td>\n",
       "      <td>Taxon</td>\n",
       "      <td>NCBITaxon:2652755</td>\n",
       "    </tr>\n",
       "    <tr>\n",
       "      <th>3</th>\n",
       "      <td>Q101135207</td>\n",
       "      <td>Acinetobacter portensis</td>\n",
       "      <td>Taxon</td>\n",
       "      <td>NCBITaxon:1839785</td>\n",
       "    </tr>\n",
       "    <tr>\n",
       "      <th>4</th>\n",
       "      <td>Q101135358</td>\n",
       "      <td>Acinetobacter guerrae</td>\n",
       "      <td>Taxon</td>\n",
       "      <td>NCBITaxon:1843371</td>\n",
       "    </tr>\n",
       "  </tbody>\n",
       "</table>\n",
       "</div>"
      ],
      "text/plain": [
       "           id                     name  label              xrefs\n",
       "0    Q1002578        Babesia divergens  Taxon    NCBITaxon:32595\n",
       "1  Q100348282     Paramecium biaurelia  Taxon    NCBITaxon:65126\n",
       "2  Q100348353             Ruhugu virus  Taxon  NCBITaxon:2652755\n",
       "3  Q101135207  Acinetobacter portensis  Taxon  NCBITaxon:1839785\n",
       "4  Q101135358    Acinetobacter guerrae  Taxon  NCBITaxon:1843371"
      ]
     },
     "execution_count": 16,
     "metadata": {},
     "output_type": "execute_result"
    }
   ],
   "source": [
    "tax_nodes.head()"
   ]
  },
  {
   "cell_type": "markdown",
   "metadata": {},
   "source": [
    "### Syntax 2, mode 2: disease has-cause TAXON  or TAXON has-effct DISEASE -> extend down parent taxa to SPECIES LEVEL"
   ]
  },
  {
   "cell_type": "code",
   "execution_count": 17,
   "metadata": {},
   "outputs": [],
   "source": [
    "q = \"\"\"    SELECT DISTINCT ?disease ?diseaseLabel ?doid ?parent_tax ?parent_taxLabel ?parent_tax_id ?taxon ?taxonLabel ?tax_id\n",
    "    WHERE \n",
    "    {\n",
    "       {?disease wdt:P31 wd:Q12136}UNION{?disease wdt:P699 ?doid}.\n",
    "      \n",
    "        #?tax wdt:P31 wd:Q16521.\n",
    "        ?parent_tax wdt:P685 ?parent_tax_id. \n",
    "      \n",
    "      # No kingdoms\n",
    "      FILTER NOT EXISTS {?parent_tax wdt:P105 wd:Q36732}.\n",
    "      # No Superphyla\n",
    "      FILTER NOT EXISTS {?parent_tax wdt:P105 wd:Q3978005}.      \n",
    "       {?disease wdt:P828 ?parent_tax}UNION{?parent_tax wdt:P1542 ?disease}.\n",
    "      \n",
    "        OPTIONAL {?disease wdt:P699 ?doid.}\n",
    "      {?taxon wdt:P171+ ?parent_tax}UNION{?parent_tax wdt:P171+ ?taxon}\n",
    "      ?taxon wdt:P685 ?tax_id .\n",
    "      ?taxon wdt:P105 wd:Q7432 .\n",
    "      \n",
    "      SERVICE wikibase:label { bd:serviceParam wikibase:language \"[AUTO_LANGUAGE],en\". }\n",
    "    }\n",
    "\"\"\""
   ]
  },
  {
   "cell_type": "code",
   "execution_count": 18,
   "metadata": {},
   "outputs": [
    {
     "data": {
      "text/html": [
       "<div>\n",
       "<style scoped>\n",
       "    .dataframe tbody tr th:only-of-type {\n",
       "        vertical-align: middle;\n",
       "    }\n",
       "\n",
       "    .dataframe tbody tr th {\n",
       "        vertical-align: top;\n",
       "    }\n",
       "\n",
       "    .dataframe thead th {\n",
       "        text-align: right;\n",
       "    }\n",
       "</style>\n",
       "<table border=\"1\" class=\"dataframe\">\n",
       "  <thead>\n",
       "    <tr style=\"text-align: right;\">\n",
       "      <th></th>\n",
       "      <th>start_id</th>\n",
       "      <th>end_id</th>\n",
       "      <th>type</th>\n",
       "      <th>dsrc_type</th>\n",
       "      <th>comp_type</th>\n",
       "    </tr>\n",
       "  </thead>\n",
       "  <tbody>\n",
       "    <tr>\n",
       "      <th>0</th>\n",
       "      <td>Q30682861</td>\n",
       "      <td>Q12156</td>\n",
       "      <td>causes</td>\n",
       "      <td>computed</td>\n",
       "      <td>punning</td>\n",
       "    </tr>\n",
       "    <tr>\n",
       "      <th>1</th>\n",
       "      <td>Q7440141</td>\n",
       "      <td>Q98404923</td>\n",
       "      <td>causes</td>\n",
       "      <td>computed</td>\n",
       "      <td>punning</td>\n",
       "    </tr>\n",
       "    <tr>\n",
       "      <th>2</th>\n",
       "      <td>Q9362044</td>\n",
       "      <td>Q2443552</td>\n",
       "      <td>causes</td>\n",
       "      <td>computed</td>\n",
       "      <td>punning</td>\n",
       "    </tr>\n",
       "    <tr>\n",
       "      <th>3</th>\n",
       "      <td>Q12505794</td>\n",
       "      <td>Q12156</td>\n",
       "      <td>causes</td>\n",
       "      <td>computed</td>\n",
       "      <td>punning</td>\n",
       "    </tr>\n",
       "    <tr>\n",
       "      <th>4</th>\n",
       "      <td>Q6382438</td>\n",
       "      <td>Q327298</td>\n",
       "      <td>causes</td>\n",
       "      <td>computed</td>\n",
       "      <td>punning</td>\n",
       "    </tr>\n",
       "  </tbody>\n",
       "</table>\n",
       "</div>"
      ],
      "text/plain": [
       "    start_id     end_id    type dsrc_type comp_type\n",
       "0  Q30682861     Q12156  causes  computed   punning\n",
       "1   Q7440141  Q98404923  causes  computed   punning\n",
       "2   Q9362044   Q2443552  causes  computed   punning\n",
       "3  Q12505794     Q12156  causes  computed   punning\n",
       "4   Q6382438    Q327298  causes  computed   punning"
      ]
     },
     "execution_count": 18,
     "metadata": {},
     "output_type": "execute_result"
    }
   ],
   "source": [
    "qr = execute_sparql_query(q)\n",
    "tax_nodes = process_taxa(qr)\n",
    "edge_res = standardize_edges(qr, 'taxon', 'disease', 'causes', 'computed')\n",
    "edge_res['comp_type'] = 'punning'\n",
    "\n",
    "nodes.append(tax_nodes)\n",
    "edges.append(edge_res)\n",
    "\n",
    "edge_res.head()"
   ]
  },
  {
   "cell_type": "code",
   "execution_count": 19,
   "metadata": {},
   "outputs": [
    {
     "data": {
      "text/html": [
       "<div>\n",
       "<style scoped>\n",
       "    .dataframe tbody tr th:only-of-type {\n",
       "        vertical-align: middle;\n",
       "    }\n",
       "\n",
       "    .dataframe tbody tr th {\n",
       "        vertical-align: top;\n",
       "    }\n",
       "\n",
       "    .dataframe thead th {\n",
       "        text-align: right;\n",
       "    }\n",
       "</style>\n",
       "<table border=\"1\" class=\"dataframe\">\n",
       "  <thead>\n",
       "    <tr style=\"text-align: right;\">\n",
       "      <th></th>\n",
       "      <th>id</th>\n",
       "      <th>name</th>\n",
       "      <th>label</th>\n",
       "      <th>xrefs</th>\n",
       "    </tr>\n",
       "  </thead>\n",
       "  <tbody>\n",
       "    <tr>\n",
       "      <th>0</th>\n",
       "      <td>Q1002578</td>\n",
       "      <td>Babesia divergens</td>\n",
       "      <td>Taxon</td>\n",
       "      <td>NCBITaxon:32595</td>\n",
       "    </tr>\n",
       "    <tr>\n",
       "      <th>1</th>\n",
       "      <td>Q100348353</td>\n",
       "      <td>Ruhugu virus</td>\n",
       "      <td>Taxon</td>\n",
       "      <td>NCBITaxon:2652755</td>\n",
       "    </tr>\n",
       "    <tr>\n",
       "      <th>2</th>\n",
       "      <td>Q101948759</td>\n",
       "      <td>Meteterakis formosensis</td>\n",
       "      <td>Taxon</td>\n",
       "      <td>NCBITaxon:1904904</td>\n",
       "    </tr>\n",
       "    <tr>\n",
       "      <th>3</th>\n",
       "      <td>Q101948899</td>\n",
       "      <td>Meteterakis occidentalis</td>\n",
       "      <td>Taxon</td>\n",
       "      <td>NCBITaxon:2283389</td>\n",
       "    </tr>\n",
       "    <tr>\n",
       "      <th>4</th>\n",
       "      <td>Q1024988</td>\n",
       "      <td>Cacao swollen-shoot virus</td>\n",
       "      <td>Taxon</td>\n",
       "      <td>NCBITaxon:31559</td>\n",
       "    </tr>\n",
       "  </tbody>\n",
       "</table>\n",
       "</div>"
      ],
      "text/plain": [
       "           id                       name  label              xrefs\n",
       "0    Q1002578          Babesia divergens  Taxon    NCBITaxon:32595\n",
       "1  Q100348353               Ruhugu virus  Taxon  NCBITaxon:2652755\n",
       "2  Q101948759    Meteterakis formosensis  Taxon  NCBITaxon:1904904\n",
       "3  Q101948899   Meteterakis occidentalis  Taxon  NCBITaxon:2283389\n",
       "4    Q1024988  Cacao swollen-shoot virus  Taxon    NCBITaxon:31559"
      ]
     },
     "execution_count": 19,
     "metadata": {},
     "output_type": "execute_result"
    }
   ],
   "source": [
    "tax_nodes.head()"
   ]
  },
  {
   "cell_type": "code",
   "execution_count": 20,
   "metadata": {},
   "outputs": [],
   "source": [
    "tax_nodes = pd.concat(nodes, sort=False, ignore_index=True).drop_duplicates(subset=['id'])\n",
    "nodes = [tax_nodes]"
   ]
  },
  {
   "cell_type": "markdown",
   "metadata": {},
   "source": [
    "## Go back and re-run taxon limited to protein and gene queries with each of the infectious taxa"
   ]
  },
  {
   "cell_type": "code",
   "execution_count": 21,
   "metadata": {},
   "outputs": [
    {
     "data": {
      "text/plain": [
       "14439"
      ]
     },
     "execution_count": 21,
     "metadata": {},
     "output_type": "execute_result"
    }
   ],
   "source": [
    "len(tax_nodes)"
   ]
  },
  {
   "cell_type": "markdown",
   "metadata": {},
   "source": [
    "### This is too many to query\n",
    "\n",
    "This is a very large number of Taxa to have to query for... However, WikiData may have far fewer taxa that actually have annotations to genes or proteins, so lets see how many of each are in WD."
   ]
  },
  {
   "cell_type": "code",
   "execution_count": 22,
   "metadata": {},
   "outputs": [],
   "source": [
    "q = \"\"\"    SELECT DISTINCT ?taxon\n",
    "    WHERE \n",
    "    {\n",
    "      ?protein wdt:P31 wd:Q8054.\n",
    "      ?protein wdt:P703 ?taxon.\n",
    "    }\"\"\""
   ]
  },
  {
   "cell_type": "code",
   "execution_count": 23,
   "metadata": {},
   "outputs": [],
   "source": [
    "qr = execute_sparql_query(q)"
   ]
  },
  {
   "cell_type": "code",
   "execution_count": 24,
   "metadata": {},
   "outputs": [
    {
     "data": {
      "text/plain": [
       "401"
      ]
     },
     "execution_count": 24,
     "metadata": {},
     "output_type": "execute_result"
    }
   ],
   "source": [
    "prot_taxa = set(qr['taxon'])\n",
    "len(prot_taxa)"
   ]
  },
  {
   "cell_type": "markdown",
   "metadata": {},
   "source": [
    "This is already a managable number, but lets also check the genes, as they're separate queries..."
   ]
  },
  {
   "cell_type": "code",
   "execution_count": 25,
   "metadata": {},
   "outputs": [],
   "source": [
    "q = \"\"\"    SELECT DISTINCT ?taxon\n",
    "    WHERE \n",
    "    {\n",
    "      ?gene wdt:P31 wd:Q7187.\n",
    "      ?gene wdt:P703 ?taxon.\n",
    "\n",
    "    }\"\"\""
   ]
  },
  {
   "cell_type": "code",
   "execution_count": 26,
   "metadata": {},
   "outputs": [],
   "source": [
    "qr = execute_sparql_query(q)"
   ]
  },
  {
   "cell_type": "code",
   "execution_count": 27,
   "metadata": {},
   "outputs": [
    {
     "data": {
      "text/plain": [
       "213"
      ]
     },
     "execution_count": 27,
     "metadata": {},
     "output_type": "execute_result"
    }
   ],
   "source": [
    "gene_taxa = set(qr['taxon'])\n",
    "len(gene_taxa)"
   ]
  },
  {
   "cell_type": "markdown",
   "metadata": {},
   "source": [
    "Again, another manageable number, lets see how they overlap with what we've recieved for infectious taxa"
   ]
  },
  {
   "cell_type": "code",
   "execution_count": 28,
   "metadata": {},
   "outputs": [
    {
     "data": {
      "text/plain": [
       "71"
      ]
     },
     "execution_count": 28,
     "metadata": {},
     "output_type": "execute_result"
    }
   ],
   "source": [
    "len(prot_taxa & set(tax_nodes['id']))"
   ]
  },
  {
   "cell_type": "markdown",
   "metadata": {},
   "source": [
    "Awesome, very queryable"
   ]
  },
  {
   "cell_type": "code",
   "execution_count": 29,
   "metadata": {},
   "outputs": [
    {
     "data": {
      "text/plain": [
       "35"
      ]
     },
     "execution_count": 29,
     "metadata": {},
     "output_type": "execute_result"
    }
   ],
   "source": [
    "len(gene_taxa & set(tax_nodes['id']))"
   ]
  },
  {
   "cell_type": "markdown",
   "metadata": {},
   "source": [
    "Similarly querable"
   ]
  },
  {
   "cell_type": "markdown",
   "metadata": {},
   "source": [
    "## Querying proteins of infectious taxa"
   ]
  },
  {
   "cell_type": "code",
   "execution_count": 30,
   "metadata": {},
   "outputs": [],
   "source": [
    "q = \"\"\"SELECT DISTINCT ?protein ?proteinLabel ?uniprot\n",
    "        WHERE {{\n",
    "\n",
    "          # Initial typing for Protein\n",
    "          ?protein wdt:P31 wd:Q8054.\n",
    "          ?protein wdt:P703 wd:{tax}.\n",
    "\n",
    "          OPTIONAL{{?protein wdt:P352 ?uniprot .}}\n",
    "          SERVICE wikibase:label {{ bd:serviceParam wikibase:language \"[AUTO_LANGAGE],en\" }}\n",
    "        }}\"\"\""
   ]
  },
  {
   "cell_type": "code",
   "execution_count": 31,
   "metadata": {},
   "outputs": [],
   "source": [
    "tax_prot_edges = []\n",
    "\n",
    "for tax_id in prot_taxa & set(tax_nodes['id']):\n",
    "    this_q = q.format(tax=tax_id)\n",
    "    res = node_query_pipeline(this_q, {'uniprot':'UniProt'}, 'protein')\n",
    "    if res is None:\n",
    "        continue\n",
    "    \n",
    "    nodes.append(res[['id', 'name', 'label', 'xrefs']].copy())\n",
    "    \n",
    "    res['tax'] = tax_id\n",
    "    res_edges = standardize_edges(res, 'id', 'tax', 'in_taxon')\n",
    "    tax_prot_edges.append(res_edges)"
   ]
  },
  {
   "cell_type": "code",
   "execution_count": 32,
   "metadata": {},
   "outputs": [
    {
     "data": {
      "text/html": [
       "<div>\n",
       "<style scoped>\n",
       "    .dataframe tbody tr th:only-of-type {\n",
       "        vertical-align: middle;\n",
       "    }\n",
       "\n",
       "    .dataframe tbody tr th {\n",
       "        vertical-align: top;\n",
       "    }\n",
       "\n",
       "    .dataframe thead th {\n",
       "        text-align: right;\n",
       "    }\n",
       "</style>\n",
       "<table border=\"1\" class=\"dataframe\">\n",
       "  <thead>\n",
       "    <tr style=\"text-align: right;\">\n",
       "      <th></th>\n",
       "      <th>start_id</th>\n",
       "      <th>end_id</th>\n",
       "      <th>type</th>\n",
       "      <th>dsrc_type</th>\n",
       "    </tr>\n",
       "  </thead>\n",
       "  <tbody>\n",
       "    <tr>\n",
       "      <th>0</th>\n",
       "      <td>Q62311170</td>\n",
       "      <td>Q5956543</td>\n",
       "      <td>in_taxon</td>\n",
       "      <td>crowd_sourced</td>\n",
       "    </tr>\n",
       "    <tr>\n",
       "      <th>1</th>\n",
       "      <td>Q62311174</td>\n",
       "      <td>Q5956543</td>\n",
       "      <td>in_taxon</td>\n",
       "      <td>crowd_sourced</td>\n",
       "    </tr>\n",
       "    <tr>\n",
       "      <th>2</th>\n",
       "      <td>Q62311177</td>\n",
       "      <td>Q5956543</td>\n",
       "      <td>in_taxon</td>\n",
       "      <td>crowd_sourced</td>\n",
       "    </tr>\n",
       "    <tr>\n",
       "      <th>3</th>\n",
       "      <td>Q62311181</td>\n",
       "      <td>Q5956543</td>\n",
       "      <td>in_taxon</td>\n",
       "      <td>crowd_sourced</td>\n",
       "    </tr>\n",
       "    <tr>\n",
       "      <th>4</th>\n",
       "      <td>Q62311185</td>\n",
       "      <td>Q5956543</td>\n",
       "      <td>in_taxon</td>\n",
       "      <td>crowd_sourced</td>\n",
       "    </tr>\n",
       "  </tbody>\n",
       "</table>\n",
       "</div>"
      ],
      "text/plain": [
       "    start_id    end_id      type      dsrc_type\n",
       "0  Q62311170  Q5956543  in_taxon  crowd_sourced\n",
       "1  Q62311174  Q5956543  in_taxon  crowd_sourced\n",
       "2  Q62311177  Q5956543  in_taxon  crowd_sourced\n",
       "3  Q62311181  Q5956543  in_taxon  crowd_sourced\n",
       "4  Q62311185  Q5956543  in_taxon  crowd_sourced"
      ]
     },
     "execution_count": 32,
     "metadata": {},
     "output_type": "execute_result"
    }
   ],
   "source": [
    "prot_tax = pd.concat(tax_prot_edges, sort=False, ignore_index=True)\n",
    "edges.append(prot_tax)\n",
    "prot_tax.head()"
   ]
  },
  {
   "cell_type": "code",
   "execution_count": 33,
   "metadata": {},
   "outputs": [
    {
     "data": {
      "text/plain": [
       "71"
      ]
     },
     "execution_count": 33,
     "metadata": {},
     "output_type": "execute_result"
    }
   ],
   "source": [
    "prot_tax['end_id'].nunique()"
   ]
  },
  {
   "cell_type": "markdown",
   "metadata": {},
   "source": [
    "## Querying genes of infectious taxa"
   ]
  },
  {
   "cell_type": "code",
   "execution_count": 34,
   "metadata": {},
   "outputs": [],
   "source": [
    "q = \"\"\"SELECT DISTINCT ?gene ?geneLabel ?entrez ?symbol ?hgnc ?omim ?ensembl\n",
    "        WHERE {{\n",
    "\n",
    "          # Initial typing for Gene\n",
    "          ?gene wdt:P31 wd:Q7187.\n",
    "          ?gene wdt:P703 wd:{tax}.\n",
    "\n",
    "          OPTIONAL{{?gene wdt:P351 ?entrez .}}\n",
    "          OPTIONAL{{?gene wdt:P353 ?symbol .}}\n",
    "          OPTIONAL{{?gene wdt:P354 ?hgnc .}}\n",
    "          OPTIONAL{{?gene wdt:P492 ?omim .}}\n",
    "          OPTIONAL{{?gene wdt:P594 ?ensembl .}}\n",
    "\n",
    "          SERVICE wikibase:label {{ bd:serviceParam wikibase:language \"[AUTO_LANGAGE],en\" }}\n",
    "        }}\"\"\""
   ]
  },
  {
   "cell_type": "code",
   "execution_count": 35,
   "metadata": {},
   "outputs": [],
   "source": [
    "tax_gene_edges = []\n",
    "gene_curi_map = {'entrez': 'NCBIGene', 'symbol': 'SYM', 'hgnc':'HGNC', 'omim':'OMIM', 'ensembl':'ENSG'}\n",
    "\n",
    "for tax_id in gene_taxa & set(tax_nodes['id']):\n",
    "    this_q = q.format(tax=tax_id)\n",
    "    \n",
    "    res = node_query_pipeline(this_q, gene_curi_map, 'gene')\n",
    "    if res is None:\n",
    "        continue\n",
    "    \n",
    "    nodes.append(res[['id', 'name', 'label', 'xrefs']].copy())\n",
    "    \n",
    "    res['tax'] = tax_id\n",
    "    res_edges = standardize_edges(res, 'id', 'tax', 'in_taxon')\n",
    "    tax_gene_edges.append(res_edges)"
   ]
  },
  {
   "cell_type": "code",
   "execution_count": 36,
   "metadata": {},
   "outputs": [
    {
     "data": {
      "text/html": [
       "<div>\n",
       "<style scoped>\n",
       "    .dataframe tbody tr th:only-of-type {\n",
       "        vertical-align: middle;\n",
       "    }\n",
       "\n",
       "    .dataframe tbody tr th {\n",
       "        vertical-align: top;\n",
       "    }\n",
       "\n",
       "    .dataframe thead th {\n",
       "        text-align: right;\n",
       "    }\n",
       "</style>\n",
       "<table border=\"1\" class=\"dataframe\">\n",
       "  <thead>\n",
       "    <tr style=\"text-align: right;\">\n",
       "      <th></th>\n",
       "      <th>start_id</th>\n",
       "      <th>end_id</th>\n",
       "      <th>type</th>\n",
       "      <th>dsrc_type</th>\n",
       "    </tr>\n",
       "  </thead>\n",
       "  <tbody>\n",
       "    <tr>\n",
       "      <th>0</th>\n",
       "      <td>Q62311172</td>\n",
       "      <td>Q5956543</td>\n",
       "      <td>in_taxon</td>\n",
       "      <td>crowd_sourced</td>\n",
       "    </tr>\n",
       "    <tr>\n",
       "      <th>1</th>\n",
       "      <td>Q62311175</td>\n",
       "      <td>Q5956543</td>\n",
       "      <td>in_taxon</td>\n",
       "      <td>crowd_sourced</td>\n",
       "    </tr>\n",
       "    <tr>\n",
       "      <th>2</th>\n",
       "      <td>Q62311179</td>\n",
       "      <td>Q5956543</td>\n",
       "      <td>in_taxon</td>\n",
       "      <td>crowd_sourced</td>\n",
       "    </tr>\n",
       "    <tr>\n",
       "      <th>3</th>\n",
       "      <td>Q62311183</td>\n",
       "      <td>Q5956543</td>\n",
       "      <td>in_taxon</td>\n",
       "      <td>crowd_sourced</td>\n",
       "    </tr>\n",
       "    <tr>\n",
       "      <th>4</th>\n",
       "      <td>Q62311187</td>\n",
       "      <td>Q5956543</td>\n",
       "      <td>in_taxon</td>\n",
       "      <td>crowd_sourced</td>\n",
       "    </tr>\n",
       "  </tbody>\n",
       "</table>\n",
       "</div>"
      ],
      "text/plain": [
       "    start_id    end_id      type      dsrc_type\n",
       "0  Q62311172  Q5956543  in_taxon  crowd_sourced\n",
       "1  Q62311175  Q5956543  in_taxon  crowd_sourced\n",
       "2  Q62311179  Q5956543  in_taxon  crowd_sourced\n",
       "3  Q62311183  Q5956543  in_taxon  crowd_sourced\n",
       "4  Q62311187  Q5956543  in_taxon  crowd_sourced"
      ]
     },
     "execution_count": 36,
     "metadata": {},
     "output_type": "execute_result"
    }
   ],
   "source": [
    "gene_tax = pd.concat(tax_gene_edges, sort=False, ignore_index=True)\n",
    "edges.append(gene_tax)\n",
    "gene_tax.head()"
   ]
  },
  {
   "cell_type": "code",
   "execution_count": 37,
   "metadata": {},
   "outputs": [
    {
     "data": {
      "text/plain": [
       "35"
      ]
     },
     "execution_count": 37,
     "metadata": {},
     "output_type": "execute_result"
    }
   ],
   "source": [
    "gene_tax['end_id'].nunique()"
   ]
  },
  {
   "cell_type": "markdown",
   "metadata": {},
   "source": [
    "## Gene ENCODES Protein\n",
    "\n",
    "This edge will be used to map Genes to Proteins... our final network will likely not distinguish between the two, and therefore sources that only map to one (e.g. gene) will need this to map to the other (protein)."
   ]
  },
  {
   "cell_type": "code",
   "execution_count": 38,
   "metadata": {},
   "outputs": [],
   "source": [
    "q = \"\"\"SELECT DISTINCT ?gene ?protein \n",
    "WHERE {{\n",
    "\n",
    "  # Initial typing for Gene\n",
    "  ?gene wdt:P31 wd:Q7187.\n",
    "  ?gene wdt:P703 wd:{tax}.\n",
    "  # Initial typing for Protein\n",
    "  ?protein wdt:P31 wd:Q8054.\n",
    "  ?protein wdt:P703 wd:{tax}.\n",
    "  \n",
    "  {{?gene wdt:P688 ?protein}}UNION{{?protein wdt:P702 ?gene}}\n",
    "}}\"\"\""
   ]
  },
  {
   "cell_type": "code",
   "execution_count": 39,
   "metadata": {},
   "outputs": [],
   "source": [
    "human_tax_id = 'Q15978631'"
   ]
  },
  {
   "cell_type": "code",
   "execution_count": 40,
   "metadata": {},
   "outputs": [],
   "source": [
    "encodes_edges = []\n",
    "\n",
    "infectious_tax = list(set(gene_tax['end_id']) & set(prot_tax['end_id']))\n",
    "\n",
    "for tax in infectious_tax + [human_tax_id]:\n",
    "    this_q = q.format(tax=tax)\n",
    "    \n",
    "    qr = execute_sparql_query(this_q)\n",
    "    if qr is not None:\n",
    "        this_edge = standardize_edges(qr, 'gene', 'protein', 'encodes')\n",
    "        encodes_edges.append(this_edge)"
   ]
  },
  {
   "cell_type": "code",
   "execution_count": 41,
   "metadata": {},
   "outputs": [
    {
     "data": {
      "text/plain": [
       "199879"
      ]
     },
     "execution_count": 41,
     "metadata": {},
     "output_type": "execute_result"
    }
   ],
   "source": [
    "encodes_edges = pd.concat(encodes_edges, sort=False, ignore_index=True)\n",
    "edges.append(encodes_edges)\n",
    "len(encodes_edges)"
   ]
  },
  {
   "cell_type": "markdown",
   "metadata": {},
   "source": [
    "# Protein MF Molecular Function"
   ]
  },
  {
   "cell_type": "code",
   "execution_count": 42,
   "metadata": {},
   "outputs": [],
   "source": [
    "q = \"\"\"SELECT DISTINCT ?protein ?molecular_function\n",
    "WHERE {\n",
    "\n",
    "  ?protein wdt:P31 wd:Q8054.\n",
    "  ?molecular_function wdt:P686 ?goid.\n",
    "  \n",
    "  {?protein wdt:P680 ?molecular_function}\n",
    "}\"\"\""
   ]
  },
  {
   "cell_type": "code",
   "execution_count": 43,
   "metadata": {},
   "outputs": [],
   "source": [
    "qr = execute_sparql_query(q)\n",
    "edge_res = standardize_edges(qr, 'protein', 'molecular_function', 'enables')\n",
    "\n",
    "edges.append(edge_res)"
   ]
  },
  {
   "cell_type": "code",
   "execution_count": 44,
   "metadata": {},
   "outputs": [
    {
     "data": {
      "text/html": [
       "<div>\n",
       "<style scoped>\n",
       "    .dataframe tbody tr th:only-of-type {\n",
       "        vertical-align: middle;\n",
       "    }\n",
       "\n",
       "    .dataframe tbody tr th {\n",
       "        vertical-align: top;\n",
       "    }\n",
       "\n",
       "    .dataframe thead th {\n",
       "        text-align: right;\n",
       "    }\n",
       "</style>\n",
       "<table border=\"1\" class=\"dataframe\">\n",
       "  <thead>\n",
       "    <tr style=\"text-align: right;\">\n",
       "      <th></th>\n",
       "      <th>start_id</th>\n",
       "      <th>end_id</th>\n",
       "      <th>type</th>\n",
       "      <th>dsrc_type</th>\n",
       "    </tr>\n",
       "  </thead>\n",
       "  <tbody>\n",
       "    <tr>\n",
       "      <th>0</th>\n",
       "      <td>Q21123681</td>\n",
       "      <td>Q14633877</td>\n",
       "      <td>enables</td>\n",
       "      <td>crowd_sourced</td>\n",
       "    </tr>\n",
       "    <tr>\n",
       "      <th>1</th>\n",
       "      <td>Q21125308</td>\n",
       "      <td>Q14633877</td>\n",
       "      <td>enables</td>\n",
       "      <td>crowd_sourced</td>\n",
       "    </tr>\n",
       "  </tbody>\n",
       "</table>\n",
       "</div>"
      ],
      "text/plain": [
       "    start_id     end_id     type      dsrc_type\n",
       "0  Q21123681  Q14633877  enables  crowd_sourced\n",
       "1  Q21125308  Q14633877  enables  crowd_sourced"
      ]
     },
     "execution_count": 44,
     "metadata": {},
     "output_type": "execute_result"
    }
   ],
   "source": [
    "edge_res.head(2)"
   ]
  },
  {
   "cell_type": "markdown",
   "metadata": {},
   "source": [
    "# Protein BP Biological Process"
   ]
  },
  {
   "cell_type": "code",
   "execution_count": 45,
   "metadata": {},
   "outputs": [],
   "source": [
    "q = \"\"\"SELECT DISTINCT ?protein ?biological_process\n",
    "WHERE {\n",
    "\n",
    "  ?protein wdt:P31 wd:Q8054.\n",
    "  ?biological_process wdt:P686 ?goid.\n",
    "  \n",
    "  {?protein wdt:P682 ?biological_process}\n",
    "}\"\"\""
   ]
  },
  {
   "cell_type": "code",
   "execution_count": 46,
   "metadata": {},
   "outputs": [],
   "source": [
    "qr = execute_sparql_query(q)\n",
    "edge_res = standardize_edges(qr, 'protein', 'biological_process', 'involved_in')\n",
    "\n",
    "edges.append(edge_res)"
   ]
  },
  {
   "cell_type": "code",
   "execution_count": 47,
   "metadata": {},
   "outputs": [
    {
     "data": {
      "text/html": [
       "<div>\n",
       "<style scoped>\n",
       "    .dataframe tbody tr th:only-of-type {\n",
       "        vertical-align: middle;\n",
       "    }\n",
       "\n",
       "    .dataframe tbody tr th {\n",
       "        vertical-align: top;\n",
       "    }\n",
       "\n",
       "    .dataframe thead th {\n",
       "        text-align: right;\n",
       "    }\n",
       "</style>\n",
       "<table border=\"1\" class=\"dataframe\">\n",
       "  <thead>\n",
       "    <tr style=\"text-align: right;\">\n",
       "      <th></th>\n",
       "      <th>start_id</th>\n",
       "      <th>end_id</th>\n",
       "      <th>type</th>\n",
       "      <th>dsrc_type</th>\n",
       "    </tr>\n",
       "  </thead>\n",
       "  <tbody>\n",
       "    <tr>\n",
       "      <th>0</th>\n",
       "      <td>Q21096258</td>\n",
       "      <td>Q1057</td>\n",
       "      <td>involved_in</td>\n",
       "      <td>crowd_sourced</td>\n",
       "    </tr>\n",
       "    <tr>\n",
       "      <th>1</th>\n",
       "      <td>Q21096283</td>\n",
       "      <td>Q1057</td>\n",
       "      <td>involved_in</td>\n",
       "      <td>crowd_sourced</td>\n",
       "    </tr>\n",
       "    <tr>\n",
       "      <th>2</th>\n",
       "      <td>Q21096281</td>\n",
       "      <td>Q1057</td>\n",
       "      <td>involved_in</td>\n",
       "      <td>crowd_sourced</td>\n",
       "    </tr>\n",
       "    <tr>\n",
       "      <th>3</th>\n",
       "      <td>Q21096304</td>\n",
       "      <td>Q1057</td>\n",
       "      <td>involved_in</td>\n",
       "      <td>crowd_sourced</td>\n",
       "    </tr>\n",
       "    <tr>\n",
       "      <th>4</th>\n",
       "      <td>Q21096438</td>\n",
       "      <td>Q1057</td>\n",
       "      <td>involved_in</td>\n",
       "      <td>crowd_sourced</td>\n",
       "    </tr>\n",
       "  </tbody>\n",
       "</table>\n",
       "</div>"
      ],
      "text/plain": [
       "    start_id end_id         type      dsrc_type\n",
       "0  Q21096258  Q1057  involved_in  crowd_sourced\n",
       "1  Q21096283  Q1057  involved_in  crowd_sourced\n",
       "2  Q21096281  Q1057  involved_in  crowd_sourced\n",
       "3  Q21096304  Q1057  involved_in  crowd_sourced\n",
       "4  Q21096438  Q1057  involved_in  crowd_sourced"
      ]
     },
     "execution_count": 47,
     "metadata": {},
     "output_type": "execute_result"
    }
   ],
   "source": [
    "edge_res.head()"
   ]
  },
  {
   "cell_type": "markdown",
   "metadata": {},
   "source": [
    "# Protein CC Cellular Component"
   ]
  },
  {
   "cell_type": "code",
   "execution_count": 48,
   "metadata": {},
   "outputs": [],
   "source": [
    "q = \"\"\"SELECT DISTINCT ?protein ?cell_component\n",
    "WHERE {\n",
    "\n",
    "  ?protein wdt:P31 wd:Q8054.\n",
    "  ?cell_component wdt:P686 ?goid.\n",
    "  \n",
    "  {?protein wdt:P681 ?cell_component}\n",
    "}\"\"\""
   ]
  },
  {
   "cell_type": "code",
   "execution_count": 49,
   "metadata": {},
   "outputs": [],
   "source": [
    "qr = execute_sparql_query(q)\n",
    "edge_res = standardize_edges(qr, 'protein', 'cell_component', 'part_of')\n",
    "\n",
    "edges.append(edge_res)"
   ]
  },
  {
   "cell_type": "code",
   "execution_count": 50,
   "metadata": {},
   "outputs": [
    {
     "data": {
      "text/html": [
       "<div>\n",
       "<style scoped>\n",
       "    .dataframe tbody tr th:only-of-type {\n",
       "        vertical-align: middle;\n",
       "    }\n",
       "\n",
       "    .dataframe tbody tr th {\n",
       "        vertical-align: top;\n",
       "    }\n",
       "\n",
       "    .dataframe thead th {\n",
       "        text-align: right;\n",
       "    }\n",
       "</style>\n",
       "<table border=\"1\" class=\"dataframe\">\n",
       "  <thead>\n",
       "    <tr style=\"text-align: right;\">\n",
       "      <th></th>\n",
       "      <th>start_id</th>\n",
       "      <th>end_id</th>\n",
       "      <th>type</th>\n",
       "      <th>dsrc_type</th>\n",
       "    </tr>\n",
       "  </thead>\n",
       "  <tbody>\n",
       "    <tr>\n",
       "      <th>0</th>\n",
       "      <td>Q416268</td>\n",
       "      <td>Q14762605</td>\n",
       "      <td>part_of</td>\n",
       "      <td>crowd_sourced</td>\n",
       "    </tr>\n",
       "    <tr>\n",
       "      <th>1</th>\n",
       "      <td>Q906904</td>\n",
       "      <td>Q14762605</td>\n",
       "      <td>part_of</td>\n",
       "      <td>crowd_sourced</td>\n",
       "    </tr>\n",
       "    <tr>\n",
       "      <th>2</th>\n",
       "      <td>Q1147372</td>\n",
       "      <td>Q14762605</td>\n",
       "      <td>part_of</td>\n",
       "      <td>crowd_sourced</td>\n",
       "    </tr>\n",
       "    <tr>\n",
       "      <th>3</th>\n",
       "      <td>Q1198053</td>\n",
       "      <td>Q14762605</td>\n",
       "      <td>part_of</td>\n",
       "      <td>crowd_sourced</td>\n",
       "    </tr>\n",
       "    <tr>\n",
       "      <th>4</th>\n",
       "      <td>Q2308016</td>\n",
       "      <td>Q14762605</td>\n",
       "      <td>part_of</td>\n",
       "      <td>crowd_sourced</td>\n",
       "    </tr>\n",
       "  </tbody>\n",
       "</table>\n",
       "</div>"
      ],
      "text/plain": [
       "   start_id     end_id     type      dsrc_type\n",
       "0   Q416268  Q14762605  part_of  crowd_sourced\n",
       "1   Q906904  Q14762605  part_of  crowd_sourced\n",
       "2  Q1147372  Q14762605  part_of  crowd_sourced\n",
       "3  Q1198053  Q14762605  part_of  crowd_sourced\n",
       "4  Q2308016  Q14762605  part_of  crowd_sourced"
      ]
     },
     "execution_count": 50,
     "metadata": {},
     "output_type": "execute_result"
    }
   ],
   "source": [
    "edge_res.head()"
   ]
  },
  {
   "cell_type": "markdown",
   "metadata": {},
   "source": [
    "# Compound TREATS Disease"
   ]
  },
  {
   "cell_type": "code",
   "execution_count": 51,
   "metadata": {},
   "outputs": [],
   "source": [
    "q = \"\"\"SELECT DISTINCT ?compound ?compoundLabel ?disease ?diseaseLabel\n",
    "  WHERE {\n",
    "\n",
    "    # Initial typing for Compound\n",
    "    ?compound wdt:P31 wd:Q11173 .\n",
    "\n",
    "    # Initial typing for Disease \n",
    "    # Either instance of Disease of has a Disease Ontology ID\n",
    "    {?disease wdt:P31 wd:Q12136}UNION{?disease wdt:P699 ?doid}.\n",
    "\n",
    "    {?compound wdt:P2175 ?disease}UNION{?disease wdt:P2176 ?compound}\n",
    "    SERVICE wikibase:label { bd:serviceParam wikibase:language \"[AUTO_LANGAGE],en\" }\n",
    "\n",
    "  }\"\"\""
   ]
  },
  {
   "cell_type": "code",
   "execution_count": 52,
   "metadata": {},
   "outputs": [],
   "source": [
    "qr = execute_sparql_query(q)\n",
    "edge_res = standardize_edges(qr, 'compound', 'disease', 'treats')\n",
    "\n",
    "edges.append(edge_res)"
   ]
  },
  {
   "cell_type": "code",
   "execution_count": 53,
   "metadata": {},
   "outputs": [
    {
     "data": {
      "text/html": [
       "<div>\n",
       "<style scoped>\n",
       "    .dataframe tbody tr th:only-of-type {\n",
       "        vertical-align: middle;\n",
       "    }\n",
       "\n",
       "    .dataframe tbody tr th {\n",
       "        vertical-align: top;\n",
       "    }\n",
       "\n",
       "    .dataframe thead th {\n",
       "        text-align: right;\n",
       "    }\n",
       "</style>\n",
       "<table border=\"1\" class=\"dataframe\">\n",
       "  <thead>\n",
       "    <tr style=\"text-align: right;\">\n",
       "      <th></th>\n",
       "      <th>start_id</th>\n",
       "      <th>end_id</th>\n",
       "      <th>type</th>\n",
       "      <th>dsrc_type</th>\n",
       "    </tr>\n",
       "  </thead>\n",
       "  <tbody>\n",
       "    <tr>\n",
       "      <th>0</th>\n",
       "      <td>Q169569</td>\n",
       "      <td>Q673083</td>\n",
       "      <td>treats</td>\n",
       "      <td>crowd_sourced</td>\n",
       "    </tr>\n",
       "    <tr>\n",
       "      <th>1</th>\n",
       "      <td>Q165399</td>\n",
       "      <td>Q201989</td>\n",
       "      <td>treats</td>\n",
       "      <td>crowd_sourced</td>\n",
       "    </tr>\n",
       "    <tr>\n",
       "      <th>2</th>\n",
       "      <td>Q165399</td>\n",
       "      <td>Q797668</td>\n",
       "      <td>treats</td>\n",
       "      <td>crowd_sourced</td>\n",
       "    </tr>\n",
       "    <tr>\n",
       "      <th>3</th>\n",
       "      <td>Q165399</td>\n",
       "      <td>Q3392853</td>\n",
       "      <td>treats</td>\n",
       "      <td>crowd_sourced</td>\n",
       "    </tr>\n",
       "    <tr>\n",
       "      <th>4</th>\n",
       "      <td>Q170304</td>\n",
       "      <td>Q1054718</td>\n",
       "      <td>treats</td>\n",
       "      <td>crowd_sourced</td>\n",
       "    </tr>\n",
       "  </tbody>\n",
       "</table>\n",
       "</div>"
      ],
      "text/plain": [
       "  start_id    end_id    type      dsrc_type\n",
       "0  Q169569   Q673083  treats  crowd_sourced\n",
       "1  Q165399   Q201989  treats  crowd_sourced\n",
       "2  Q165399   Q797668  treats  crowd_sourced\n",
       "3  Q165399  Q3392853  treats  crowd_sourced\n",
       "4  Q170304  Q1054718  treats  crowd_sourced"
      ]
     },
     "execution_count": 53,
     "metadata": {},
     "output_type": "execute_result"
    }
   ],
   "source": [
    "edge_res.head()"
   ]
  },
  {
   "cell_type": "markdown",
   "metadata": {},
   "source": [
    "# Compound IW Protein"
   ]
  },
  {
   "cell_type": "code",
   "execution_count": 54,
   "metadata": {},
   "outputs": [],
   "source": [
    "q = \"\"\"SELECT DISTINCT ?compound ?compoundLabel ?qualifier ?qualifierLabel ?protein ?proteinLabel \n",
    "WHERE {\n",
    "\n",
    "    # Initial typing for Compound\n",
    "    ?compound wdt:P31 wd:Q11173 .\n",
    "\n",
    "    # Initial typing for Protein\n",
    "    ?protein wdt:P31 wd:Q8054 .\n",
    "\n",
    "    { ?compound p:P129 [ps:P129 ?protein;\n",
    "                  pq:P2868 ?qualifier] }\n",
    "    UNION { ?protein p:P129 [ps:P129 ?compound;\n",
    "                 pq:P366 ?qualifier] }\n",
    "\n",
    "    SERVICE wikibase:label { bd:serviceParam wikibase:language \"[AUTO_LANGAGE],en\" }\n",
    "}\"\"\""
   ]
  },
  {
   "cell_type": "code",
   "execution_count": 55,
   "metadata": {},
   "outputs": [],
   "source": [
    "qr = execute_sparql_query(q)\n",
    "edge_res = standardize_edges(qr, 'compound', 'protein', 'qualifierLabel')\n",
    "\n",
    "edges.append(edge_res)"
   ]
  },
  {
   "cell_type": "code",
   "execution_count": 56,
   "metadata": {},
   "outputs": [
    {
     "data": {
      "text/html": [
       "<div>\n",
       "<style scoped>\n",
       "    .dataframe tbody tr th:only-of-type {\n",
       "        vertical-align: middle;\n",
       "    }\n",
       "\n",
       "    .dataframe tbody tr th {\n",
       "        vertical-align: top;\n",
       "    }\n",
       "\n",
       "    .dataframe thead th {\n",
       "        text-align: right;\n",
       "    }\n",
       "</style>\n",
       "<table border=\"1\" class=\"dataframe\">\n",
       "  <thead>\n",
       "    <tr style=\"text-align: right;\">\n",
       "      <th></th>\n",
       "      <th>start_id</th>\n",
       "      <th>end_id</th>\n",
       "      <th>type</th>\n",
       "      <th>dsrc_type</th>\n",
       "    </tr>\n",
       "  </thead>\n",
       "  <tbody>\n",
       "    <tr>\n",
       "      <th>0</th>\n",
       "      <td>Q773449</td>\n",
       "      <td>Q7799751</td>\n",
       "      <td>agonist</td>\n",
       "      <td>crowd_sourced</td>\n",
       "    </tr>\n",
       "    <tr>\n",
       "      <th>1</th>\n",
       "      <td>Q167934</td>\n",
       "      <td>Q21109363</td>\n",
       "      <td>agonist</td>\n",
       "      <td>crowd_sourced</td>\n",
       "    </tr>\n",
       "    <tr>\n",
       "      <th>2</th>\n",
       "      <td>Q167934</td>\n",
       "      <td>Q21115046</td>\n",
       "      <td>agonist</td>\n",
       "      <td>crowd_sourced</td>\n",
       "    </tr>\n",
       "    <tr>\n",
       "      <th>3</th>\n",
       "      <td>Q186242</td>\n",
       "      <td>Q21498865</td>\n",
       "      <td>agonist</td>\n",
       "      <td>crowd_sourced</td>\n",
       "    </tr>\n",
       "    <tr>\n",
       "      <th>4</th>\n",
       "      <td>Q5977854</td>\n",
       "      <td>Q21988427</td>\n",
       "      <td>agonist</td>\n",
       "      <td>crowd_sourced</td>\n",
       "    </tr>\n",
       "  </tbody>\n",
       "</table>\n",
       "</div>"
      ],
      "text/plain": [
       "   start_id     end_id     type      dsrc_type\n",
       "0   Q773449   Q7799751  agonist  crowd_sourced\n",
       "1   Q167934  Q21109363  agonist  crowd_sourced\n",
       "2   Q167934  Q21115046  agonist  crowd_sourced\n",
       "3   Q186242  Q21498865  agonist  crowd_sourced\n",
       "4  Q5977854  Q21988427  agonist  crowd_sourced"
      ]
     },
     "execution_count": 56,
     "metadata": {},
     "output_type": "execute_result"
    }
   ],
   "source": [
    "edge_res.head()"
   ]
  },
  {
   "cell_type": "markdown",
   "metadata": {},
   "source": [
    "## Anatomy SITE OF Disease"
   ]
  },
  {
   "cell_type": "code",
   "execution_count": 57,
   "metadata": {},
   "outputs": [],
   "source": [
    "q = \"\"\"SELECT DISTINCT ?disease ?diseaseLabel ?anatomy ?anatomyLabel \n",
    "WHERE {\n",
    "\n",
    "    # Initial typing for Disease\n",
    "    {?disease wdt:P31 wd:Q12136}UNION{?disease wdt:P699 ?doid}.\n",
    "    {?disease1 wdt:P31 wd:Q12136}UNION{?disease1 wdt:P699 ?doid1}.\n",
    "\n",
    "    # Initial typing for Anatomical Structure\n",
    "    ?anatomy wdt:P1554 ?uberon .\n",
    "\n",
    "    {?disease1 wdt:P927 ?anatomy} {?disease wdt:P279? ?disease1}\n",
    "\n",
    "    SERVICE wikibase:label { bd:serviceParam wikibase:language \"[AUTO_LANGAGE],en\" }\n",
    "}\"\"\""
   ]
  },
  {
   "cell_type": "code",
   "execution_count": 58,
   "metadata": {},
   "outputs": [],
   "source": [
    "qr = execute_sparql_query(q)\n",
    "edge_res = standardize_edges(qr, 'anatomy', 'disease', 'site_of')\n",
    "\n",
    "edges.append(edge_res)"
   ]
  },
  {
   "cell_type": "code",
   "execution_count": 59,
   "metadata": {},
   "outputs": [
    {
     "data": {
      "text/html": [
       "<div>\n",
       "<style scoped>\n",
       "    .dataframe tbody tr th:only-of-type {\n",
       "        vertical-align: middle;\n",
       "    }\n",
       "\n",
       "    .dataframe tbody tr th {\n",
       "        vertical-align: top;\n",
       "    }\n",
       "\n",
       "    .dataframe thead th {\n",
       "        text-align: right;\n",
       "    }\n",
       "</style>\n",
       "<table border=\"1\" class=\"dataframe\">\n",
       "  <thead>\n",
       "    <tr style=\"text-align: right;\">\n",
       "      <th></th>\n",
       "      <th>start_id</th>\n",
       "      <th>end_id</th>\n",
       "      <th>type</th>\n",
       "      <th>dsrc_type</th>\n",
       "    </tr>\n",
       "  </thead>\n",
       "  <tbody>\n",
       "    <tr>\n",
       "      <th>0</th>\n",
       "      <td>Q48228</td>\n",
       "      <td>Q3726816</td>\n",
       "      <td>site_of</td>\n",
       "      <td>crowd_sourced</td>\n",
       "    </tr>\n",
       "    <tr>\n",
       "      <th>1</th>\n",
       "      <td>Q2640512</td>\n",
       "      <td>Q2165663</td>\n",
       "      <td>site_of</td>\n",
       "      <td>crowd_sourced</td>\n",
       "    </tr>\n",
       "    <tr>\n",
       "      <th>2</th>\n",
       "      <td>Q1543208</td>\n",
       "      <td>Q2213687</td>\n",
       "      <td>site_of</td>\n",
       "      <td>crowd_sourced</td>\n",
       "    </tr>\n",
       "    <tr>\n",
       "      <th>3</th>\n",
       "      <td>Q9618</td>\n",
       "      <td>Q2267451</td>\n",
       "      <td>site_of</td>\n",
       "      <td>crowd_sourced</td>\n",
       "    </tr>\n",
       "    <tr>\n",
       "      <th>4</th>\n",
       "      <td>Q9404</td>\n",
       "      <td>Q3508804</td>\n",
       "      <td>site_of</td>\n",
       "      <td>crowd_sourced</td>\n",
       "    </tr>\n",
       "  </tbody>\n",
       "</table>\n",
       "</div>"
      ],
      "text/plain": [
       "   start_id    end_id     type      dsrc_type\n",
       "0    Q48228  Q3726816  site_of  crowd_sourced\n",
       "1  Q2640512  Q2165663  site_of  crowd_sourced\n",
       "2  Q1543208  Q2213687  site_of  crowd_sourced\n",
       "3     Q9618  Q2267451  site_of  crowd_sourced\n",
       "4     Q9404  Q3508804  site_of  crowd_sourced"
      ]
     },
     "execution_count": 59,
     "metadata": {},
     "output_type": "execute_result"
    }
   ],
   "source": [
    "edge_res.head()"
   ]
  },
  {
   "cell_type": "markdown",
   "metadata": {},
   "source": [
    "## Gene AW Disease"
   ]
  },
  {
   "cell_type": "code",
   "execution_count": 60,
   "metadata": {},
   "outputs": [],
   "source": [
    "q = \"\"\"SELECT DISTINCT ?disease ?diseaseLabel ?gene ?geneLabel \n",
    "WHERE {\n",
    "\n",
    "    # Initial typing for Disease\n",
    "    {?disease wdt:P31 wd:Q12136}UNION{?disease wdt:P699 ?doid}.\n",
    "  \n",
    "    # Initial typing for Gene\n",
    "    ?gene wdt:P31 wd:Q7187 .\n",
    "\n",
    "    ?disease wdt:P2293 ?gene\n",
    "\n",
    "    SERVICE wikibase:label { bd:serviceParam wikibase:language \"[AUTO_LANGAGE],en\" }\n",
    "}\"\"\""
   ]
  },
  {
   "cell_type": "code",
   "execution_count": 61,
   "metadata": {},
   "outputs": [],
   "source": [
    "qr = execute_sparql_query(q)\n",
    "edge_res = standardize_edges(qr, 'gene', 'disease', 'associated_with')\n",
    "\n",
    "edges.append(edge_res)"
   ]
  },
  {
   "cell_type": "code",
   "execution_count": 62,
   "metadata": {},
   "outputs": [
    {
     "data": {
      "text/html": [
       "<div>\n",
       "<style scoped>\n",
       "    .dataframe tbody tr th:only-of-type {\n",
       "        vertical-align: middle;\n",
       "    }\n",
       "\n",
       "    .dataframe tbody tr th {\n",
       "        vertical-align: top;\n",
       "    }\n",
       "\n",
       "    .dataframe thead th {\n",
       "        text-align: right;\n",
       "    }\n",
       "</style>\n",
       "<table border=\"1\" class=\"dataframe\">\n",
       "  <thead>\n",
       "    <tr style=\"text-align: right;\">\n",
       "      <th></th>\n",
       "      <th>start_id</th>\n",
       "      <th>end_id</th>\n",
       "      <th>type</th>\n",
       "      <th>dsrc_type</th>\n",
       "    </tr>\n",
       "  </thead>\n",
       "  <tbody>\n",
       "    <tr>\n",
       "      <th>0</th>\n",
       "      <td>Q5191429</td>\n",
       "      <td>Q27674873</td>\n",
       "      <td>associated_with</td>\n",
       "      <td>crowd_sourced</td>\n",
       "    </tr>\n",
       "    <tr>\n",
       "      <th>1</th>\n",
       "      <td>Q5009814</td>\n",
       "      <td>Q11081</td>\n",
       "      <td>associated_with</td>\n",
       "      <td>crowd_sourced</td>\n",
       "    </tr>\n",
       "    <tr>\n",
       "      <th>2</th>\n",
       "      <td>Q4654809</td>\n",
       "      <td>Q844935</td>\n",
       "      <td>associated_with</td>\n",
       "      <td>crowd_sourced</td>\n",
       "    </tr>\n",
       "    <tr>\n",
       "      <th>3</th>\n",
       "      <td>Q5145886</td>\n",
       "      <td>Q55781450</td>\n",
       "      <td>associated_with</td>\n",
       "      <td>crowd_sourced</td>\n",
       "    </tr>\n",
       "    <tr>\n",
       "      <th>4</th>\n",
       "      <td>Q4039195</td>\n",
       "      <td>Q181923</td>\n",
       "      <td>associated_with</td>\n",
       "      <td>crowd_sourced</td>\n",
       "    </tr>\n",
       "  </tbody>\n",
       "</table>\n",
       "</div>"
      ],
      "text/plain": [
       "   start_id     end_id             type      dsrc_type\n",
       "0  Q5191429  Q27674873  associated_with  crowd_sourced\n",
       "1  Q5009814     Q11081  associated_with  crowd_sourced\n",
       "2  Q4654809    Q844935  associated_with  crowd_sourced\n",
       "3  Q5145886  Q55781450  associated_with  crowd_sourced\n",
       "4  Q4039195    Q181923  associated_with  crowd_sourced"
      ]
     },
     "execution_count": 62,
     "metadata": {},
     "output_type": "execute_result"
    }
   ],
   "source": [
    "edge_res.head()"
   ]
  },
  {
   "cell_type": "markdown",
   "metadata": {},
   "source": [
    "# Pathway HP Gene"
   ]
  },
  {
   "cell_type": "code",
   "execution_count": 63,
   "metadata": {},
   "outputs": [],
   "source": [
    "q = \"\"\"SELECT DISTINCT ?pathway ?gene \n",
    "WHERE {\n",
    "\n",
    "    # Initial typing for Pathway\n",
    "    ?pathway wdt:P31 wd:Q4915012 .\n",
    "    FILTER NOT EXISTS{?pathway wdt:P686 ?goid}\n",
    "  \n",
    "    # Initial typing for Gene\n",
    "    ?gene wdt:P31 wd:Q7187 .\n",
    "\n",
    "    ?pathway wdt:P527 ?gene\n",
    "} \"\"\""
   ]
  },
  {
   "cell_type": "code",
   "execution_count": 64,
   "metadata": {},
   "outputs": [],
   "source": [
    "qr = execute_sparql_query(q)\n",
    "edge_res = standardize_edges(qr, 'pathway', 'gene', 'has_part')\n",
    "\n",
    "edges.append(edge_res)"
   ]
  },
  {
   "cell_type": "code",
   "execution_count": 65,
   "metadata": {},
   "outputs": [
    {
     "data": {
      "text/html": [
       "<div>\n",
       "<style scoped>\n",
       "    .dataframe tbody tr th:only-of-type {\n",
       "        vertical-align: middle;\n",
       "    }\n",
       "\n",
       "    .dataframe tbody tr th {\n",
       "        vertical-align: top;\n",
       "    }\n",
       "\n",
       "    .dataframe thead th {\n",
       "        text-align: right;\n",
       "    }\n",
       "</style>\n",
       "<table border=\"1\" class=\"dataframe\">\n",
       "  <thead>\n",
       "    <tr style=\"text-align: right;\">\n",
       "      <th></th>\n",
       "      <th>start_id</th>\n",
       "      <th>end_id</th>\n",
       "      <th>type</th>\n",
       "      <th>dsrc_type</th>\n",
       "    </tr>\n",
       "  </thead>\n",
       "  <tbody>\n",
       "    <tr>\n",
       "      <th>0</th>\n",
       "      <td>Q30225529</td>\n",
       "      <td>Q4652205</td>\n",
       "      <td>has_part</td>\n",
       "      <td>crowd_sourced</td>\n",
       "    </tr>\n",
       "    <tr>\n",
       "      <th>1</th>\n",
       "      <td>Q30225529</td>\n",
       "      <td>Q5005962</td>\n",
       "      <td>has_part</td>\n",
       "      <td>crowd_sourced</td>\n",
       "    </tr>\n",
       "    <tr>\n",
       "      <th>2</th>\n",
       "      <td>Q30225528</td>\n",
       "      <td>Q5469819</td>\n",
       "      <td>has_part</td>\n",
       "      <td>crowd_sourced</td>\n",
       "    </tr>\n",
       "    <tr>\n",
       "      <th>3</th>\n",
       "      <td>Q30225529</td>\n",
       "      <td>Q5513945</td>\n",
       "      <td>has_part</td>\n",
       "      <td>crowd_sourced</td>\n",
       "    </tr>\n",
       "    <tr>\n",
       "      <th>4</th>\n",
       "      <td>Q30225529</td>\n",
       "      <td>Q8041711</td>\n",
       "      <td>has_part</td>\n",
       "      <td>crowd_sourced</td>\n",
       "    </tr>\n",
       "  </tbody>\n",
       "</table>\n",
       "</div>"
      ],
      "text/plain": [
       "    start_id    end_id      type      dsrc_type\n",
       "0  Q30225529  Q4652205  has_part  crowd_sourced\n",
       "1  Q30225529  Q5005962  has_part  crowd_sourced\n",
       "2  Q30225528  Q5469819  has_part  crowd_sourced\n",
       "3  Q30225529  Q5513945  has_part  crowd_sourced\n",
       "4  Q30225529  Q8041711  has_part  crowd_sourced"
      ]
     },
     "execution_count": 65,
     "metadata": {},
     "output_type": "execute_result"
    }
   ],
   "source": [
    "edge_res.head()"
   ]
  },
  {
   "cell_type": "markdown",
   "metadata": {},
   "source": [
    "## Pathway Has Part Compound"
   ]
  },
  {
   "cell_type": "code",
   "execution_count": 66,
   "metadata": {},
   "outputs": [],
   "source": [
    "q = \"\"\"SELECT DISTINCT ?pathway ?compound \n",
    "WHERE {\n",
    "\n",
    "    # Initial typing for Pathway\n",
    "    ?pathway wdt:P31 wd:Q4915012 .\n",
    "    FILTER NOT EXISTS{?pathway wdt:P686 ?goid}\n",
    "  \n",
    "    # Initial typing for Compound\n",
    "    ?compound wdt:P31 wd:Q11173 .\n",
    "\n",
    "    ?pathway wdt:P527 ?compound\n",
    "} \"\"\""
   ]
  },
  {
   "cell_type": "code",
   "execution_count": 67,
   "metadata": {},
   "outputs": [],
   "source": [
    "qr = execute_sparql_query(q)\n",
    "edge_res = standardize_edges(qr, 'pathway', 'compound', 'has_part')\n",
    "\n",
    "edges.append(edge_res)"
   ]
  },
  {
   "cell_type": "code",
   "execution_count": 68,
   "metadata": {},
   "outputs": [
    {
     "data": {
      "text/html": [
       "<div>\n",
       "<style scoped>\n",
       "    .dataframe tbody tr th:only-of-type {\n",
       "        vertical-align: middle;\n",
       "    }\n",
       "\n",
       "    .dataframe tbody tr th {\n",
       "        vertical-align: top;\n",
       "    }\n",
       "\n",
       "    .dataframe thead th {\n",
       "        text-align: right;\n",
       "    }\n",
       "</style>\n",
       "<table border=\"1\" class=\"dataframe\">\n",
       "  <thead>\n",
       "    <tr style=\"text-align: right;\">\n",
       "      <th></th>\n",
       "      <th>start_id</th>\n",
       "      <th>end_id</th>\n",
       "      <th>type</th>\n",
       "      <th>dsrc_type</th>\n",
       "    </tr>\n",
       "  </thead>\n",
       "  <tbody>\n",
       "    <tr>\n",
       "      <th>0</th>\n",
       "      <td>Q30225529</td>\n",
       "      <td>Q210041</td>\n",
       "      <td>has_part</td>\n",
       "      <td>crowd_sourced</td>\n",
       "    </tr>\n",
       "    <tr>\n",
       "      <th>1</th>\n",
       "      <td>Q28031254</td>\n",
       "      <td>Q283</td>\n",
       "      <td>has_part</td>\n",
       "      <td>crowd_sourced</td>\n",
       "    </tr>\n",
       "    <tr>\n",
       "      <th>2</th>\n",
       "      <td>Q28031254</td>\n",
       "      <td>Q28746</td>\n",
       "      <td>has_part</td>\n",
       "      <td>crowd_sourced</td>\n",
       "    </tr>\n",
       "    <tr>\n",
       "      <th>3</th>\n",
       "      <td>Q28031254</td>\n",
       "      <td>Q213050</td>\n",
       "      <td>has_part</td>\n",
       "      <td>crowd_sourced</td>\n",
       "    </tr>\n",
       "    <tr>\n",
       "      <th>4</th>\n",
       "      <td>Q28031228</td>\n",
       "      <td>Q26992303</td>\n",
       "      <td>has_part</td>\n",
       "      <td>crowd_sourced</td>\n",
       "    </tr>\n",
       "  </tbody>\n",
       "</table>\n",
       "</div>"
      ],
      "text/plain": [
       "    start_id     end_id      type      dsrc_type\n",
       "0  Q30225529    Q210041  has_part  crowd_sourced\n",
       "1  Q28031254       Q283  has_part  crowd_sourced\n",
       "2  Q28031254     Q28746  has_part  crowd_sourced\n",
       "3  Q28031254    Q213050  has_part  crowd_sourced\n",
       "4  Q28031228  Q26992303  has_part  crowd_sourced"
      ]
     },
     "execution_count": 68,
     "metadata": {},
     "output_type": "execute_result"
    }
   ],
   "source": [
    "edge_res.head()"
   ]
  },
  {
   "cell_type": "markdown",
   "metadata": {},
   "source": [
    "## Pathway Medical_condition Disease"
   ]
  },
  {
   "cell_type": "code",
   "execution_count": 69,
   "metadata": {},
   "outputs": [],
   "source": [
    "q = \"\"\"SELECT DISTINCT ?pathway ?disease \n",
    "WHERE {\n",
    "\n",
    "    # Initial typing for Pathway\n",
    "    ?pathway wdt:P31 wd:Q4915012 .\n",
    "    FILTER NOT EXISTS{?pathway wdt:P686 ?goid}\n",
    "  \n",
    "    # Initial typing for Disease\n",
    "    {?disease wdt:P31 wd:Q12136 .}UNION{?disease wdt:P699 ?doid}\n",
    "\n",
    "    {?pathway wdt:P1050 ?disease}\n",
    "} \"\"\""
   ]
  },
  {
   "cell_type": "code",
   "execution_count": 70,
   "metadata": {},
   "outputs": [],
   "source": [
    "qr = execute_sparql_query(q)\n",
    "edge_res = standardize_edges(qr, 'pathway', 'disease', 'associated_with')\n",
    "\n",
    "edges.append(edge_res)"
   ]
  },
  {
   "cell_type": "code",
   "execution_count": 71,
   "metadata": {},
   "outputs": [
    {
     "data": {
      "text/html": [
       "<div>\n",
       "<style scoped>\n",
       "    .dataframe tbody tr th:only-of-type {\n",
       "        vertical-align: middle;\n",
       "    }\n",
       "\n",
       "    .dataframe tbody tr th {\n",
       "        vertical-align: top;\n",
       "    }\n",
       "\n",
       "    .dataframe thead th {\n",
       "        text-align: right;\n",
       "    }\n",
       "</style>\n",
       "<table border=\"1\" class=\"dataframe\">\n",
       "  <thead>\n",
       "    <tr style=\"text-align: right;\">\n",
       "      <th></th>\n",
       "      <th>start_id</th>\n",
       "      <th>end_id</th>\n",
       "      <th>type</th>\n",
       "      <th>dsrc_type</th>\n",
       "    </tr>\n",
       "  </thead>\n",
       "  <tbody>\n",
       "    <tr>\n",
       "      <th>0</th>\n",
       "      <td>Q29892275</td>\n",
       "      <td>Q9303627</td>\n",
       "      <td>associated_with</td>\n",
       "      <td>crowd_sourced</td>\n",
       "    </tr>\n",
       "    <tr>\n",
       "      <th>1</th>\n",
       "      <td>Q28922670</td>\n",
       "      <td>Q12078</td>\n",
       "      <td>associated_with</td>\n",
       "      <td>crowd_sourced</td>\n",
       "    </tr>\n",
       "    <tr>\n",
       "      <th>2</th>\n",
       "      <td>Q29883346</td>\n",
       "      <td>Q12078</td>\n",
       "      <td>associated_with</td>\n",
       "      <td>crowd_sourced</td>\n",
       "    </tr>\n",
       "    <tr>\n",
       "      <th>3</th>\n",
       "      <td>Q29883419</td>\n",
       "      <td>Q11085</td>\n",
       "      <td>associated_with</td>\n",
       "      <td>crowd_sourced</td>\n",
       "    </tr>\n",
       "    <tr>\n",
       "      <th>4</th>\n",
       "      <td>Q29883401</td>\n",
       "      <td>Q12078</td>\n",
       "      <td>associated_with</td>\n",
       "      <td>crowd_sourced</td>\n",
       "    </tr>\n",
       "  </tbody>\n",
       "</table>\n",
       "</div>"
      ],
      "text/plain": [
       "    start_id    end_id             type      dsrc_type\n",
       "0  Q29892275  Q9303627  associated_with  crowd_sourced\n",
       "1  Q28922670    Q12078  associated_with  crowd_sourced\n",
       "2  Q29883346    Q12078  associated_with  crowd_sourced\n",
       "3  Q29883419    Q11085  associated_with  crowd_sourced\n",
       "4  Q29883401    Q12078  associated_with  crowd_sourced"
      ]
     },
     "execution_count": 71,
     "metadata": {},
     "output_type": "execute_result"
    }
   ],
   "source": [
    "edge_res.head()"
   ]
  },
  {
   "cell_type": "markdown",
   "metadata": {},
   "source": [
    "## Pathway to BP"
   ]
  },
  {
   "cell_type": "code",
   "execution_count": 72,
   "metadata": {},
   "outputs": [],
   "source": [
    "q = \"\"\"SELECT DISTINCT ?pathway ?bio_process \n",
    "WHERE {\n",
    "\n",
    "    # Initial typing for Pathway\n",
    "    ?pathway wdt:P31 wd:Q4915012 .\n",
    "    FILTER NOT EXISTS{?pathway wdt:P686 ?goid}\n",
    "  \n",
    "    # Initial typing for Bio Process\n",
    "    ?bio_process wdt:P31 wd:Q2996394 .\n",
    "    ?bio_process wdt:P686 ?goid .\n",
    "\n",
    "    {?pathway wdt:P31 ?bio_process}UNION{?bio_process wdt:P31 ?pathway}\n",
    "} \"\"\""
   ]
  },
  {
   "cell_type": "code",
   "execution_count": 73,
   "metadata": {},
   "outputs": [],
   "source": [
    "qr = execute_sparql_query(q)\n",
    "edge_res = standardize_edges(qr, 'pathway', 'bio_process', 'involved_in')\n",
    "\n",
    "edges.append(edge_res)"
   ]
  },
  {
   "cell_type": "code",
   "execution_count": 74,
   "metadata": {},
   "outputs": [
    {
     "data": {
      "text/html": [
       "<div>\n",
       "<style scoped>\n",
       "    .dataframe tbody tr th:only-of-type {\n",
       "        vertical-align: middle;\n",
       "    }\n",
       "\n",
       "    .dataframe tbody tr th {\n",
       "        vertical-align: top;\n",
       "    }\n",
       "\n",
       "    .dataframe thead th {\n",
       "        text-align: right;\n",
       "    }\n",
       "</style>\n",
       "<table border=\"1\" class=\"dataframe\">\n",
       "  <thead>\n",
       "    <tr style=\"text-align: right;\">\n",
       "      <th></th>\n",
       "      <th>start_id</th>\n",
       "      <th>end_id</th>\n",
       "      <th>type</th>\n",
       "      <th>dsrc_type</th>\n",
       "    </tr>\n",
       "  </thead>\n",
       "  <tbody>\n",
       "    <tr>\n",
       "      <th>0</th>\n",
       "      <td>Q100235139</td>\n",
       "      <td>Q184726</td>\n",
       "      <td>involved_in</td>\n",
       "      <td>crowd_sourced</td>\n",
       "    </tr>\n",
       "    <tr>\n",
       "      <th>1</th>\n",
       "      <td>Q99594865</td>\n",
       "      <td>Q21126889</td>\n",
       "      <td>involved_in</td>\n",
       "      <td>crowd_sourced</td>\n",
       "    </tr>\n",
       "    <tr>\n",
       "      <th>2</th>\n",
       "      <td>Q100235742</td>\n",
       "      <td>Q14330653</td>\n",
       "      <td>involved_in</td>\n",
       "      <td>crowd_sourced</td>\n",
       "    </tr>\n",
       "    <tr>\n",
       "      <th>3</th>\n",
       "      <td>Q100235740</td>\n",
       "      <td>Q14330653</td>\n",
       "      <td>involved_in</td>\n",
       "      <td>crowd_sourced</td>\n",
       "    </tr>\n",
       "    <tr>\n",
       "      <th>4</th>\n",
       "      <td>Q100235741</td>\n",
       "      <td>Q14330653</td>\n",
       "      <td>involved_in</td>\n",
       "      <td>crowd_sourced</td>\n",
       "    </tr>\n",
       "  </tbody>\n",
       "</table>\n",
       "</div>"
      ],
      "text/plain": [
       "     start_id     end_id         type      dsrc_type\n",
       "0  Q100235139    Q184726  involved_in  crowd_sourced\n",
       "1   Q99594865  Q21126889  involved_in  crowd_sourced\n",
       "2  Q100235742  Q14330653  involved_in  crowd_sourced\n",
       "3  Q100235740  Q14330653  involved_in  crowd_sourced\n",
       "4  Q100235741  Q14330653  involved_in  crowd_sourced"
      ]
     },
     "execution_count": 74,
     "metadata": {},
     "output_type": "execute_result"
    }
   ],
   "source": [
    "edge_res.head()"
   ]
  },
  {
   "cell_type": "markdown",
   "metadata": {},
   "source": [
    "## Disease to Phenotype"
   ]
  },
  {
   "cell_type": "code",
   "execution_count": 75,
   "metadata": {},
   "outputs": [],
   "source": [
    "q = \"\"\"  SELECT DISTINCT ?disease ?pheno\n",
    "  WHERE {\n",
    "\n",
    "      # Initial typing for Symptom\n",
    "      {?disease wdt:P31 wd:Q12136}UNION{?disease wdt:P699 ?doid}\n",
    "    \n",
    "      # Initial typing for Phenotype\n",
    "      {?pheno wdt:P31 wd:Q169872.}UNION{?pheno wdt:P3841 ?hpo}\n",
    "\n",
    "      {?pheno wdt:P780 ?disease}UNION{?disease wdt:P780 ?pheno}\n",
    "\n",
    "  }\"\"\""
   ]
  },
  {
   "cell_type": "code",
   "execution_count": 76,
   "metadata": {},
   "outputs": [],
   "source": [
    "qr = execute_sparql_query(q)\n",
    "edge_res = standardize_edges(qr, 'disease', 'pheno', 'presents')\n",
    "\n",
    "edges.append(edge_res)"
   ]
  },
  {
   "cell_type": "code",
   "execution_count": 77,
   "metadata": {},
   "outputs": [
    {
     "data": {
      "text/html": [
       "<div>\n",
       "<style scoped>\n",
       "    .dataframe tbody tr th:only-of-type {\n",
       "        vertical-align: middle;\n",
       "    }\n",
       "\n",
       "    .dataframe tbody tr th {\n",
       "        vertical-align: top;\n",
       "    }\n",
       "\n",
       "    .dataframe thead th {\n",
       "        text-align: right;\n",
       "    }\n",
       "</style>\n",
       "<table border=\"1\" class=\"dataframe\">\n",
       "  <thead>\n",
       "    <tr style=\"text-align: right;\">\n",
       "      <th></th>\n",
       "      <th>start_id</th>\n",
       "      <th>end_id</th>\n",
       "      <th>type</th>\n",
       "      <th>dsrc_type</th>\n",
       "    </tr>\n",
       "  </thead>\n",
       "  <tbody>\n",
       "    <tr>\n",
       "      <th>0</th>\n",
       "      <td>Q408089</td>\n",
       "      <td>Q223907</td>\n",
       "      <td>presents</td>\n",
       "      <td>crowd_sourced</td>\n",
       "    </tr>\n",
       "    <tr>\n",
       "      <th>1</th>\n",
       "      <td>Q9303627</td>\n",
       "      <td>Q223907</td>\n",
       "      <td>presents</td>\n",
       "      <td>crowd_sourced</td>\n",
       "    </tr>\n",
       "    <tr>\n",
       "      <th>2</th>\n",
       "      <td>Q53951449</td>\n",
       "      <td>Q223907</td>\n",
       "      <td>presents</td>\n",
       "      <td>crowd_sourced</td>\n",
       "    </tr>\n",
       "    <tr>\n",
       "      <th>3</th>\n",
       "      <td>Q83319</td>\n",
       "      <td>Q9690</td>\n",
       "      <td>presents</td>\n",
       "      <td>crowd_sourced</td>\n",
       "    </tr>\n",
       "    <tr>\n",
       "      <th>4</th>\n",
       "      <td>Q131755</td>\n",
       "      <td>Q9690</td>\n",
       "      <td>presents</td>\n",
       "      <td>crowd_sourced</td>\n",
       "    </tr>\n",
       "  </tbody>\n",
       "</table>\n",
       "</div>"
      ],
      "text/plain": [
       "    start_id   end_id      type      dsrc_type\n",
       "0    Q408089  Q223907  presents  crowd_sourced\n",
       "1   Q9303627  Q223907  presents  crowd_sourced\n",
       "2  Q53951449  Q223907  presents  crowd_sourced\n",
       "3     Q83319    Q9690  presents  crowd_sourced\n",
       "4    Q131755    Q9690  presents  crowd_sourced"
      ]
     },
     "execution_count": 77,
     "metadata": {},
     "output_type": "execute_result"
    }
   ],
   "source": [
    "edge_res.head()"
   ]
  },
  {
   "cell_type": "markdown",
   "metadata": {},
   "source": [
    "## Compound TREATS Phenotype"
   ]
  },
  {
   "cell_type": "code",
   "execution_count": 78,
   "metadata": {},
   "outputs": [],
   "source": [
    "q = \"\"\"SELECT DISTINCT ?compound ?pheno\n",
    "  WHERE {\n",
    "\n",
    "      # Initial typing for Compound\n",
    "      ?compound wdt:P31 wd:Q11173 .\n",
    "    \n",
    "      # Initial typing for Phenotype\n",
    "      {?pheno wdt:P31 wd:Q169872.}UNION{?pheno wdt:P3841 ?hpo}\n",
    "\n",
    "      {?pheno wdt:P2176 ?compound}UNION{?compound wdt:P2175 ?pheno}\n",
    "  } \"\"\""
   ]
  },
  {
   "cell_type": "code",
   "execution_count": 79,
   "metadata": {},
   "outputs": [],
   "source": [
    "qr = execute_sparql_query(q)\n",
    "edge_res = standardize_edges(qr, 'compound', 'pheno', 'treats')\n",
    "\n",
    "edges.append(edge_res)"
   ]
  },
  {
   "cell_type": "code",
   "execution_count": 80,
   "metadata": {},
   "outputs": [
    {
     "data": {
      "text/html": [
       "<div>\n",
       "<style scoped>\n",
       "    .dataframe tbody tr th:only-of-type {\n",
       "        vertical-align: middle;\n",
       "    }\n",
       "\n",
       "    .dataframe tbody tr th {\n",
       "        vertical-align: top;\n",
       "    }\n",
       "\n",
       "    .dataframe thead th {\n",
       "        text-align: right;\n",
       "    }\n",
       "</style>\n",
       "<table border=\"1\" class=\"dataframe\">\n",
       "  <thead>\n",
       "    <tr style=\"text-align: right;\">\n",
       "      <th></th>\n",
       "      <th>start_id</th>\n",
       "      <th>end_id</th>\n",
       "      <th>type</th>\n",
       "      <th>dsrc_type</th>\n",
       "    </tr>\n",
       "  </thead>\n",
       "  <tbody>\n",
       "    <tr>\n",
       "      <th>0</th>\n",
       "      <td>Q416331</td>\n",
       "      <td>Q1097957</td>\n",
       "      <td>treats</td>\n",
       "      <td>crowd_sourced</td>\n",
       "    </tr>\n",
       "    <tr>\n",
       "      <th>1</th>\n",
       "      <td>Q425867</td>\n",
       "      <td>Q1097957</td>\n",
       "      <td>treats</td>\n",
       "      <td>crowd_sourced</td>\n",
       "    </tr>\n",
       "    <tr>\n",
       "      <th>2</th>\n",
       "      <td>Q1147309</td>\n",
       "      <td>Q1097957</td>\n",
       "      <td>treats</td>\n",
       "      <td>crowd_sourced</td>\n",
       "    </tr>\n",
       "    <tr>\n",
       "      <th>3</th>\n",
       "      <td>Q18936</td>\n",
       "      <td>Q504775</td>\n",
       "      <td>treats</td>\n",
       "      <td>crowd_sourced</td>\n",
       "    </tr>\n",
       "    <tr>\n",
       "      <th>4</th>\n",
       "      <td>Q238474</td>\n",
       "      <td>Q422225</td>\n",
       "      <td>treats</td>\n",
       "      <td>crowd_sourced</td>\n",
       "    </tr>\n",
       "  </tbody>\n",
       "</table>\n",
       "</div>"
      ],
      "text/plain": [
       "   start_id    end_id    type      dsrc_type\n",
       "0   Q416331  Q1097957  treats  crowd_sourced\n",
       "1   Q425867  Q1097957  treats  crowd_sourced\n",
       "2  Q1147309  Q1097957  treats  crowd_sourced\n",
       "3    Q18936   Q504775  treats  crowd_sourced\n",
       "4   Q238474   Q422225  treats  crowd_sourced"
      ]
     },
     "execution_count": 80,
     "metadata": {},
     "output_type": "execute_result"
    }
   ],
   "source": [
    "edge_res.head()"
   ]
  },
  {
   "cell_type": "markdown",
   "metadata": {},
   "source": [
    "# Subclass Edges for later Punning"
   ]
  },
  {
   "cell_type": "markdown",
   "metadata": {},
   "source": [
    "## Disease is a Subclass of disease"
   ]
  },
  {
   "cell_type": "code",
   "execution_count": 81,
   "metadata": {},
   "outputs": [],
   "source": [
    "q = \"\"\"SELECT DISTINCT ?disease ?diseaseLabel ?disease1 ?disease1Label\n",
    "WHERE {\n",
    "\n",
    "    # Initial typing for Disease\n",
    "    {?disease wdt:P31 wd:Q12136}UNION{?disease wdt:P699 ?doid}.\n",
    "    {?disease1 wdt:P31 wd:Q12136}UNION{?disease1 wdt:P699 ?doid1}.\n",
    "\n",
    "    ?disease wdt:P279? ?disease1\n",
    "\n",
    "    SERVICE wikibase:label { bd:serviceParam wikibase:language \"[AUTO_LANGAGE],en\" }\n",
    "}\"\"\""
   ]
  },
  {
   "cell_type": "code",
   "execution_count": 82,
   "metadata": {},
   "outputs": [],
   "source": [
    "qr = execute_sparql_query(q)\n",
    "edge_res = standardize_edges(qr, 'disease', 'disease1', 'subclass_of')\n",
    "\n",
    "edges.append(edge_res)"
   ]
  },
  {
   "cell_type": "code",
   "execution_count": 83,
   "metadata": {},
   "outputs": [
    {
     "data": {
      "text/html": [
       "<div>\n",
       "<style scoped>\n",
       "    .dataframe tbody tr th:only-of-type {\n",
       "        vertical-align: middle;\n",
       "    }\n",
       "\n",
       "    .dataframe tbody tr th {\n",
       "        vertical-align: top;\n",
       "    }\n",
       "\n",
       "    .dataframe thead th {\n",
       "        text-align: right;\n",
       "    }\n",
       "</style>\n",
       "<table border=\"1\" class=\"dataframe\">\n",
       "  <thead>\n",
       "    <tr style=\"text-align: right;\">\n",
       "      <th></th>\n",
       "      <th>start_id</th>\n",
       "      <th>end_id</th>\n",
       "      <th>type</th>\n",
       "      <th>dsrc_type</th>\n",
       "    </tr>\n",
       "  </thead>\n",
       "  <tbody>\n",
       "    <tr>\n",
       "      <th>0</th>\n",
       "      <td>Q145790</td>\n",
       "      <td>Q145790</td>\n",
       "      <td>subclass_of</td>\n",
       "      <td>crowd_sourced</td>\n",
       "    </tr>\n",
       "    <tr>\n",
       "      <th>1</th>\n",
       "      <td>Q147270</td>\n",
       "      <td>Q147270</td>\n",
       "      <td>subclass_of</td>\n",
       "      <td>crowd_sourced</td>\n",
       "    </tr>\n",
       "    <tr>\n",
       "      <th>2</th>\n",
       "      <td>Q157008</td>\n",
       "      <td>Q157008</td>\n",
       "      <td>subclass_of</td>\n",
       "      <td>crowd_sourced</td>\n",
       "    </tr>\n",
       "    <tr>\n",
       "      <th>3</th>\n",
       "      <td>Q160649</td>\n",
       "      <td>Q160649</td>\n",
       "      <td>subclass_of</td>\n",
       "      <td>crowd_sourced</td>\n",
       "    </tr>\n",
       "    <tr>\n",
       "      <th>4</th>\n",
       "      <td>Q132971</td>\n",
       "      <td>Q132971</td>\n",
       "      <td>subclass_of</td>\n",
       "      <td>crowd_sourced</td>\n",
       "    </tr>\n",
       "  </tbody>\n",
       "</table>\n",
       "</div>"
      ],
      "text/plain": [
       "  start_id   end_id         type      dsrc_type\n",
       "0  Q145790  Q145790  subclass_of  crowd_sourced\n",
       "1  Q147270  Q147270  subclass_of  crowd_sourced\n",
       "2  Q157008  Q157008  subclass_of  crowd_sourced\n",
       "3  Q160649  Q160649  subclass_of  crowd_sourced\n",
       "4  Q132971  Q132971  subclass_of  crowd_sourced"
      ]
     },
     "execution_count": 83,
     "metadata": {},
     "output_type": "execute_result"
    }
   ],
   "source": [
    "edge_res.head()"
   ]
  },
  {
   "cell_type": "markdown",
   "metadata": {},
   "source": [
    "## Anatomy subclass of Anatomy"
   ]
  },
  {
   "cell_type": "code",
   "execution_count": 84,
   "metadata": {},
   "outputs": [],
   "source": [
    "q = \"\"\"SELECT DISTINCT ?anatomy ?anatomyLabel ?anatomy1 ?anatomy1Label\n",
    "WHERE {\n",
    "\n",
    "\n",
    "    # Initial typing for Anatomical Structure\n",
    "    ?anatomy wdt:P1554 ?uberon .\n",
    "    ?anatomy1 wdt:P1554 ?uberon1 .\n",
    "    \n",
    "    ?anatomy wdt:P279? ?anatomy1\n",
    "\n",
    "    SERVICE wikibase:label { bd:serviceParam wikibase:language \"[AUTO_LANGAGE],en\" }\n",
    "}\"\"\""
   ]
  },
  {
   "cell_type": "code",
   "execution_count": 85,
   "metadata": {},
   "outputs": [],
   "source": [
    "qr = execute_sparql_query(q)\n",
    "edge_res = standardize_edges(qr, 'anatomy', 'anatomy1', 'subclass_of')\n",
    "\n",
    "edges.append(edge_res)"
   ]
  },
  {
   "cell_type": "code",
   "execution_count": 86,
   "metadata": {},
   "outputs": [
    {
     "data": {
      "text/html": [
       "<div>\n",
       "<style scoped>\n",
       "    .dataframe tbody tr th:only-of-type {\n",
       "        vertical-align: middle;\n",
       "    }\n",
       "\n",
       "    .dataframe tbody tr th {\n",
       "        vertical-align: top;\n",
       "    }\n",
       "\n",
       "    .dataframe thead th {\n",
       "        text-align: right;\n",
       "    }\n",
       "</style>\n",
       "<table border=\"1\" class=\"dataframe\">\n",
       "  <thead>\n",
       "    <tr style=\"text-align: right;\">\n",
       "      <th></th>\n",
       "      <th>start_id</th>\n",
       "      <th>end_id</th>\n",
       "      <th>type</th>\n",
       "      <th>dsrc_type</th>\n",
       "    </tr>\n",
       "  </thead>\n",
       "  <tbody>\n",
       "    <tr>\n",
       "      <th>0</th>\n",
       "      <td>Q155925</td>\n",
       "      <td>Q155925</td>\n",
       "      <td>subclass_of</td>\n",
       "      <td>crowd_sourced</td>\n",
       "    </tr>\n",
       "    <tr>\n",
       "      <th>1</th>\n",
       "      <td>Q143652</td>\n",
       "      <td>Q143652</td>\n",
       "      <td>subclass_of</td>\n",
       "      <td>crowd_sourced</td>\n",
       "    </tr>\n",
       "    <tr>\n",
       "      <th>2</th>\n",
       "      <td>Q133105</td>\n",
       "      <td>Q133105</td>\n",
       "      <td>subclass_of</td>\n",
       "      <td>crowd_sourced</td>\n",
       "    </tr>\n",
       "    <tr>\n",
       "      <th>3</th>\n",
       "      <td>Q168291</td>\n",
       "      <td>Q168291</td>\n",
       "      <td>subclass_of</td>\n",
       "      <td>crowd_sourced</td>\n",
       "    </tr>\n",
       "    <tr>\n",
       "      <th>4</th>\n",
       "      <td>Q83379</td>\n",
       "      <td>Q83379</td>\n",
       "      <td>subclass_of</td>\n",
       "      <td>crowd_sourced</td>\n",
       "    </tr>\n",
       "  </tbody>\n",
       "</table>\n",
       "</div>"
      ],
      "text/plain": [
       "  start_id   end_id         type      dsrc_type\n",
       "0  Q155925  Q155925  subclass_of  crowd_sourced\n",
       "1  Q143652  Q143652  subclass_of  crowd_sourced\n",
       "2  Q133105  Q133105  subclass_of  crowd_sourced\n",
       "3  Q168291  Q168291  subclass_of  crowd_sourced\n",
       "4   Q83379   Q83379  subclass_of  crowd_sourced"
      ]
     },
     "execution_count": 86,
     "metadata": {},
     "output_type": "execute_result"
    }
   ],
   "source": [
    "edge_res.head()"
   ]
  },
  {
   "cell_type": "markdown",
   "metadata": {},
   "source": [
    "## Combine new edge and node results"
   ]
  },
  {
   "cell_type": "code",
   "execution_count": 87,
   "metadata": {},
   "outputs": [],
   "source": [
    "nodes.append(prev_nodes)\n",
    "nodes = pd.concat(nodes, sort=False, ignore_index=True)\n",
    "edges = pd.concat(edges, sort=False, ignore_index=True)"
   ]
  },
  {
   "cell_type": "code",
   "execution_count": 88,
   "metadata": {},
   "outputs": [
    {
     "data": {
      "text/plain": [
       "605217"
      ]
     },
     "execution_count": 88,
     "metadata": {},
     "output_type": "execute_result"
    }
   ],
   "source": [
    "len(nodes)"
   ]
  },
  {
   "cell_type": "code",
   "execution_count": 89,
   "metadata": {
    "scrolled": true
   },
   "outputs": [
    {
     "data": {
      "text/plain": [
       "3878511"
      ]
     },
     "execution_count": 89,
     "metadata": {},
     "output_type": "execute_result"
    }
   ],
   "source": [
    "len(edges)"
   ]
  },
  {
   "cell_type": "code",
   "execution_count": 90,
   "metadata": {},
   "outputs": [
    {
     "data": {
      "text/plain": [
       "<matplotlib.axes._subplots.AxesSubplot at 0x7fc5991a83d0>"
      ]
     },
     "execution_count": 90,
     "metadata": {},
     "output_type": "execute_result"
    },
    {
     "data": {
      "image/png": "[encoded data removed]",
      "text/plain": [
       "<Figure size 432x288 with 1 Axes>"
      ]
     },
     "metadata": {
      "needs_background": "light"
     },
     "output_type": "display_data"
    }
   ],
   "source": [
    "count_plot_h(nodes['label'])"
   ]
  },
  {
   "cell_type": "code",
   "execution_count": 91,
   "metadata": {},
   "outputs": [
    {
     "data": {
      "text/plain": [
       "<matplotlib.axes._subplots.AxesSubplot at 0x7fc4f282b9a0>"
      ]
     },
     "execution_count": 91,
     "metadata": {},
     "output_type": "execute_result"
    },
    {
     "data": {
      "image/png": "[encoded data removed]",
      "text/plain": [
       "<Figure size 432x288 with 1 Axes>"
      ]
     },
     "metadata": {
      "needs_background": "light"
     },
     "output_type": "display_data"
    }
   ],
   "source": [
    "count_plot_h(edges['type'].value_counts().head(10))"
   ]
  },
  {
   "cell_type": "code",
   "execution_count": 92,
   "metadata": {},
   "outputs": [
    {
     "data": {
      "text/plain": [
       "<matplotlib.axes._subplots.AxesSubplot at 0x7fc4f1063be0>"
      ]
     },
     "execution_count": 92,
     "metadata": {},
     "output_type": "execute_result"
    },
    {
     "data": {
      "image/png": "[encoded data removed]",
      "text/plain": [
       "<Figure size 432x288 with 1 Axes>"
      ]
     },
     "metadata": {
      "needs_background": "light"
     },
     "output_type": "display_data"
    }
   ],
   "source": [
    "count_plot_h(edges['type'].value_counts().head(20).tail(10))"
   ]
  },
  {
   "cell_type": "markdown",
   "metadata": {},
   "source": [
    "# Save the new info out"
   ]
  },
  {
   "cell_type": "code",
   "execution_count": 93,
   "metadata": {},
   "outputs": [],
   "source": [
    "this_file = '01b_WikiData_Edges'\n",
    "out_dir = Path('../2_pipeline/').joinpath(this_file, 'out').resolve()\n",
    "\n",
    "out_dir.mkdir(parents=True, exist_ok=True)\n",
    "\n",
    "nodes.to_csv(out_dir.joinpath('nodes.csv'), index=False)\n",
    "edges.to_csv(out_dir.joinpath('edges.csv'), index=False)"
   ]
  },
  {
   "cell_type": "code",
   "execution_count": null,
   "metadata": {},
   "outputs": [],
   "source": []
  }
 ],
 "metadata": {
  "kernelspec": {
   "display_name": "Python 3",
   "language": "python",
   "name": "python3"
  },
  "language_info": {
   "codemirror_mode": {
    "name": "ipython",
    "version": 3
   },
   "file_extension": ".py",
   "mimetype": "text/x-python",
   "name": "python",
   "nbconvert_exporter": "python",
   "pygments_lexer": "ipython3",
   "version": "3.8.3"
  }
 },
 "nbformat": 4,
 "nbformat_minor": 2
}
